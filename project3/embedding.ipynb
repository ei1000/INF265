{
 "cells": [
  {
   "cell_type": "markdown",
   "id": "d903b693",
   "metadata": {},
   "source": [
    "# INF264 - Obligatory assignment 3: Sequence Models\n",
    "\n",
    "By Einar Bernsen and Johannes Skivdal\n",
    "\n",
    "Initial imports:"
   ]
  },
  {
   "cell_type": "code",
   "execution_count": 1,
   "id": "f964bb46",
   "metadata": {},
   "outputs": [
    {
     "name": "stderr",
     "output_type": "stream",
     "text": [
      "d:\\conda\\envs\\inf265_ob3\\Lib\\site-packages\\torchtext\\data\\__init__.py:4: UserWarning: \n",
      "/!\\ IMPORTANT WARNING ABOUT TORCHTEXT STATUS /!\\ \n",
      "Torchtext is deprecated and the last released version will be 0.18 (this one). You can silence this warning by calling the following at the beginnign of your scripts: `import torchtext; torchtext.disable_torchtext_deprecation_warning()`\n",
      "  warnings.warn(torchtext._TORCHTEXT_DEPRECATION_MSG)\n",
      "d:\\conda\\envs\\inf265_ob3\\Lib\\site-packages\\torchtext\\vocab\\__init__.py:4: UserWarning: \n",
      "/!\\ IMPORTANT WARNING ABOUT TORCHTEXT STATUS /!\\ \n",
      "Torchtext is deprecated and the last released version will be 0.18 (this one). You can silence this warning by calling the following at the beginnign of your scripts: `import torchtext; torchtext.disable_torchtext_deprecation_warning()`\n",
      "  warnings.warn(torchtext._TORCHTEXT_DEPRECATION_MSG)\n",
      "d:\\conda\\envs\\inf265_ob3\\Lib\\site-packages\\torchtext\\utils.py:4: UserWarning: \n",
      "/!\\ IMPORTANT WARNING ABOUT TORCHTEXT STATUS /!\\ \n",
      "Torchtext is deprecated and the last released version will be 0.18 (this one). You can silence this warning by calling the following at the beginnign of your scripts: `import torchtext; torchtext.disable_torchtext_deprecation_warning()`\n",
      "  warnings.warn(torchtext._TORCHTEXT_DEPRECATION_MSG)\n"
     ]
    },
    {
     "data": {
      "text/plain": [
       "<torch._C.Generator at 0x1e24bbe0090>"
      ]
     },
     "execution_count": 1,
     "metadata": {},
     "output_type": "execute_result"
    }
   ],
   "source": [
    "import os\n",
    "import re\n",
    "import random\n",
    "import heapq\n",
    "\n",
    "import torch\n",
    "from torch import nn, optim\n",
    "import torch.nn.functional as F\n",
    "from torch.utils.data import DataLoader, TensorDataset\n",
    "from torchtext.data.utils import get_tokenizer\n",
    "from torchtext.vocab import build_vocab_from_iterator\n",
    "\n",
    "import numpy as np\n",
    "from tqdm import trange\n",
    "\n",
    "\n",
    "seed = 265\n",
    "torch.manual_seed(seed)"
   ]
  },
  {
   "cell_type": "code",
   "execution_count": 2,
   "id": "f28eedc5",
   "metadata": {},
   "outputs": [
    {
     "data": {
      "text/plain": [
       "device(type='cuda')"
      ]
     },
     "execution_count": 2,
     "metadata": {},
     "output_type": "execute_result"
    }
   ],
   "source": [
    "device = torch.device(\"cuda\") if torch.cuda.is_available() else torch.device(\"cpu\")\n",
    "device"
   ]
  },
  {
   "cell_type": "markdown",
   "id": "82eb94d0",
   "metadata": {},
   "source": [
    "#### Defining global variables"
   ]
  },
  {
   "cell_type": "code",
   "execution_count": 3,
   "id": "9b92991d",
   "metadata": {},
   "outputs": [],
   "source": [
    "TRAINING = True\n",
    "CONTEXT_SIZE = 6\n",
    "EMBEDDING_SIZE = 16\n",
    "SAVE_PATH = \"./save_folder/\"\n",
    "TOKENIZER_EN = get_tokenizer(\"basic_english\")"
   ]
  },
  {
   "cell_type": "code",
   "execution_count": 4,
   "id": "a8e121d4",
   "metadata": {},
   "outputs": [],
   "source": [
    "# Inspired from the tutorial\n",
    "def read_files(datapath=\"./data_train/\"):\n",
    "    \"\"\"\n",
    "    Return a list of strings, one for each line in each .txt files in 'datapath'\n",
    "    \"\"\"\n",
    "    # Find all txt files in directory\n",
    "    files = os.listdir(datapath)\n",
    "    files = [datapath + f for f in files if f.endswith(\".txt\")]\n",
    "\n",
    "    # Stores each line of each book in a list\n",
    "    lines = []\n",
    "    for f_name in files:\n",
    "        with open(f_name) as f:\n",
    "            lines += f.readlines()\n",
    "    return lines"
   ]
  },
  {
   "cell_type": "code",
   "execution_count": 5,
   "id": "f48a5a30",
   "metadata": {},
   "outputs": [],
   "source": [
    "files_read = read_files()"
   ]
  },
  {
   "cell_type": "code",
   "execution_count": 6,
   "id": "f7a3620c",
   "metadata": {},
   "outputs": [
    {
     "data": {
      "text/plain": [
       "268380"
      ]
     },
     "execution_count": 6,
     "metadata": {},
     "output_type": "execute_result"
    }
   ],
   "source": [
    "len(files_read)"
   ]
  },
  {
   "cell_type": "code",
   "execution_count": 7,
   "id": "8a469f40",
   "metadata": {},
   "outputs": [],
   "source": [
    "def tokenize_dataset(datapath):\n",
    "    # Get all files from the dataset\n",
    "    files = os.listdir(datapath)\n",
    "    files = [datapath + f for f in files if f.endswith(\".txt\")]\n",
    "\n",
    "    # Read all the lines into a list\n",
    "    lines = []\n",
    "    for f_name in files:\n",
    "        with open(f_name) as f:\n",
    "            lines += f.readlines()\n",
    "\n",
    "    # Tokenize every line\n",
    "    tokenized_lines = []\n",
    "    for line in lines:\n",
    "        tokenized_lines += TOKENIZER_EN(line)\n",
    "\n",
    "    # Return both, incase you want the original lines too.\n",
    "    return tokenized_lines, lines"
   ]
  },
  {
   "cell_type": "code",
   "execution_count": 8,
   "id": "24b92a96",
   "metadata": {},
   "outputs": [],
   "source": [
    "# No need to save and load here, lightweight to compute.\n",
    "train_token, train_lines = tokenize_dataset(\"./data_train/\")\n",
    "val_token, val_lines = tokenize_dataset(\"./data_val/\")\n",
    "test_token, test_lines = tokenize_dataset(\"./data_test/\")"
   ]
  },
  {
   "cell_type": "code",
   "execution_count": 9,
   "id": "6b5a138a",
   "metadata": {},
   "outputs": [
    {
     "name": "stdout",
     "output_type": "stream",
     "text": [
      "Total number of words in the training dataset:      2684706\n",
      "Total number of words in the validation dataset:    49526\n",
      "Total number of words in the test dataset:          124152\n"
     ]
    }
   ],
   "source": [
    "print(\"Total number of words in the training dataset:     \", len(train_token))\n",
    "print(\"Total number of words in the validation dataset:   \", len(val_token))\n",
    "print(\"Total number of words in the test dataset:         \", len(test_token))"
   ]
  },
  {
   "cell_type": "code",
   "execution_count": 10,
   "id": "4cf34bd7",
   "metadata": {},
   "outputs": [],
   "source": [
    "# From tutorial\n",
    "def yield_tokens(lines, tokenizer=TOKENIZER_EN):\n",
    "    \"\"\"\n",
    "    Yield tokens, ignoring names and digits to build vocabulary\n",
    "    \"\"\"\n",
    "    # Match any word containing digit\n",
    "    no_digits = \"\\w*[0-9]+\\w*\"\n",
    "    # Match word containing a uppercase\n",
    "    no_names = \"\\w*[A-Z]+\\w*\"\n",
    "    # Match any sequence containing more than one space\n",
    "    no_spaces = \"\\s+\"\n",
    "\n",
    "    for line in lines:\n",
    "        line = re.sub(no_digits, \" \", line)\n",
    "        line = re.sub(no_names, \" \", line)\n",
    "        line = re.sub(no_spaces, \" \", line)\n",
    "        yield tokenizer(line)\n",
    "\n",
    "\n",
    "def create_vocabulary(lines, min_freq=100):\n",
    "    \"\"\"\n",
    "    Create a vocabulary (list of known tokens) from a list of strings\n",
    "    \"\"\"\n",
    "    # vocab contains the vocabulary found in the data, associating an index to each word\n",
    "    vocab = build_vocab_from_iterator(\n",
    "        yield_tokens(lines), min_freq=min_freq, specials=[\"<unk>\"]\n",
    "    )\n",
    "    # Since we removed all words with an uppercase when building the vocabulary, we skipped the word \"I\"\n",
    "    vocab.append_token(\"i\")\n",
    "    # Value of default index. This index will be returned when OOV (Out Of Vocabulary) token is queried.\n",
    "    vocab.set_default_index(vocab[\"<unk>\"])\n",
    "    return vocab"
   ]
  },
  {
   "cell_type": "code",
   "execution_count": 11,
   "id": "b3e05d21",
   "metadata": {},
   "outputs": [],
   "source": [
    "# Saving and loading the vocab\n",
    "if os.path.isfile(SAVE_PATH + \"train_vocab.pt\"):\n",
    "    train_vocab = torch.load(SAVE_PATH + \"train_vocab.pt\")\n",
    "else:\n",
    "    # Creating the vocab\n",
    "    train_vocab = create_vocabulary(train_lines)\n",
    "    torch.save(train_vocab, SAVE_PATH + \"train_vocab.pt\")"
   ]
  },
  {
   "cell_type": "code",
   "execution_count": 12,
   "id": "1988c96e",
   "metadata": {},
   "outputs": [
    {
     "name": "stdout",
     "output_type": "stream",
     "text": [
      "Total number of words in the training dataset:      2684706\n",
      "Number of distinct words in the training dataset:   52105\n",
      "The size of the defined vocabulary:                 1880\n"
     ]
    }
   ],
   "source": [
    "print(\"Total number of words in the training dataset:     \", len(train_token))\n",
    "print(\"Number of distinct words in the training dataset:  \", len(set(train_token)))\n",
    "print(\"The size of the defined vocabulary:                \", len(train_vocab))"
   ]
  },
  {
   "cell_type": "code",
   "execution_count": 13,
   "id": "40787791",
   "metadata": {},
   "outputs": [
    {
     "data": {
      "text/plain": [
       "0"
      ]
     },
     "execution_count": 13,
     "metadata": {},
     "output_type": "execute_result"
    }
   ],
   "source": [
    "# \"I\" is not in the vocab, so it will have index 0, that stands for unknown word.\n",
    "train_vocab[\"I\"]"
   ]
  },
  {
   "cell_type": "markdown",
   "id": "e157aa9e",
   "metadata": {},
   "source": [
    "### Function for creating datasets\n",
    "\n",
    "Instead of excluding all banned words, we could introduse some RNG to determine when to exclude."
   ]
  },
  {
   "cell_type": "code",
   "execution_count": 14,
   "id": "6dc9b36d",
   "metadata": {},
   "outputs": [],
   "source": [
    "# Creating a list of the indexes that should be excluded\n",
    "banned_words = train_vocab.lookup_indices([\"<ukn>\", \".\", \",\", \"(\", \")\", \"?\", \"!\"])"
   ]
  },
  {
   "cell_type": "code",
   "execution_count": 15,
   "id": "535bfec4",
   "metadata": {},
   "outputs": [],
   "source": [
    "def create_tensor_dataset(dataset):\n",
    "    context_data = torch.tensor([ex[0] for ex in dataset])\n",
    "    target_data = torch.tensor([ex[1] for ex in dataset])\n",
    "    dataset = TensorDataset(context_data, target_data)\n",
    "    return dataset, context_data, target_data"
   ]
  },
  {
   "cell_type": "code",
   "execution_count": 16,
   "id": "dfa3cf09",
   "metadata": {},
   "outputs": [
    {
     "data": {
      "text/plain": [
       "tensor([1., 0.])"
      ]
     },
     "execution_count": 16,
     "metadata": {},
     "output_type": "execute_result"
    }
   ],
   "source": [
    "torch.cat((torch.empty(0), torch.tensor([1]), torch.tensor([0])), dim=0)"
   ]
  },
  {
   "cell_type": "code",
   "execution_count": 17,
   "id": "194228c1",
   "metadata": {},
   "outputs": [],
   "source": [
    "# Takes in the tokenised data and a vocabulary. Then creates context and target pairs, based on the context size and what position the target should have to the context.\n",
    "def create_dataset(tokens, vocab, context_size, banned_words=[-1], only_words=None, position='middle'):\n",
    "    # The position needs to be defined by the following\n",
    "    assert position in [\n",
    "        \"middle\",\n",
    "        \"behind\",\n",
    "        \"ahead\",\n",
    "    ], \"\"\"Position needs to either 'middle', 'behind' or 'ahead'.\"\"\"\n",
    "\n",
    "    data = []\n",
    "\n",
    "    token_len = len(tokens)\n",
    "\n",
    "    if only_words:\n",
    "        TARGET_MAP = {only_words[i]: i for i in range(len(only_words))}\n",
    "\n",
    "    if position == \"middle\":\n",
    "        window_size = context_size // 2\n",
    "        end_pos = token_len - window_size\n",
    "        start_pos = window_size\n",
    "\n",
    "    elif position == \"ahead\":\n",
    "        end_pos = token_len\n",
    "        start_pos = context_size\n",
    "\n",
    "    elif position == \"behind\":\n",
    "        end_pos = token_len - context_size\n",
    "        start_pos = 0\n",
    "\n",
    "    for i in range(start_pos, end_pos):\n",
    "        if train_vocab[tokens[i]] in banned_words:\n",
    "            continue\n",
    "\n",
    "        if only_words:\n",
    "            if tokens[i] not in only_words:\n",
    "                continue\n",
    "\n",
    "        if position == \"middle\":\n",
    "            context = tokens[i - window_size : i] + tokens[i + 1 : i + window_size + 1]\n",
    "\n",
    "        elif position == \"ahead\":\n",
    "            context = tokens[i - context_size : i]\n",
    "\n",
    "        elif position == \"behind\":\n",
    "            context = tokens[i + 1 : i + context_size + 1]\n",
    "\n",
    "        if only_words:\n",
    "            target_idx = TARGET_MAP[tokens[i]]\n",
    "        else:\n",
    "            target = tokens[i]\n",
    "            target_idx = vocab[target]\n",
    "\n",
    "        context_idxs = [vocab[x] for x in context]\n",
    "        \n",
    "        data.append((context_idxs, target_idx))\n",
    "\n",
    "    context_data = torch.tensor([ex[0] for ex in data])\n",
    "    target_data = torch.tensor([ex[1] for ex in data])\n",
    "    dataset = TensorDataset(context_data, target_data)\n",
    "\n",
    "    return dataset, context_data, target_data"
   ]
  },
  {
   "cell_type": "code",
   "execution_count": 18,
   "id": "e8aaff75",
   "metadata": {},
   "outputs": [],
   "source": [
    "train_dataset = create_dataset(\n",
    "    train_token, train_vocab, CONTEXT_SIZE, banned_words, position=\"middle\"\n",
    ")"
   ]
  },
  {
   "cell_type": "code",
   "execution_count": 19,
   "id": "438dfb6a",
   "metadata": {},
   "outputs": [
    {
     "data": {
      "text/plain": [
       "(1917177, 2684706)"
      ]
     },
     "execution_count": 19,
     "metadata": {},
     "output_type": "execute_result"
    }
   ],
   "source": [
    "# Quite the amount of data removed\n",
    "len(train_dataset[0]), len(train_token)\n",
    "#(1917177, 2684706)"
   ]
  },
  {
   "cell_type": "markdown",
   "id": "623d1771",
   "metadata": {
    "lines_to_next_cell": 2
   },
   "source": [
    "### Implementing CBOW"
   ]
  },
  {
   "cell_type": "code",
   "execution_count": 20,
   "id": "d5a481a8",
   "metadata": {
    "lines_to_next_cell": 2
   },
   "outputs": [],
   "source": [
    "class CBOW(nn.Module):\n",
    "    def __init__(\n",
    "        self, emb_dim=EMBEDDING_SIZE, context_size=CONTEXT_SIZE, vocab_size=-1\n",
    "    ):\n",
    "        super().__init__()\n",
    "        self.embeddings = nn.Embedding(vocab_size, emb_dim)\n",
    "        self.fc1 = nn.Linear(emb_dim * context_size, 128)\n",
    "        self.fc2 = nn.Linear(128, vocab_size)\n",
    "\n",
    "    def forward(self, x):\n",
    "        embeddings = torch.flatten(self.embeddings(x), 1)\n",
    "        x = F.relu(self.fc1(embeddings))\n",
    "        x = F.relu(self.fc2(x))\n",
    "        return x"
   ]
  },
  {
   "cell_type": "markdown",
   "id": "1f463ad7",
   "metadata": {
    "lines_to_next_cell": 2
   },
   "source": [
    "### Model selection"
   ]
  },
  {
   "cell_type": "code",
   "execution_count": 21,
   "id": "f1e75bb8",
   "metadata": {},
   "outputs": [],
   "source": [
    "# Read through: https://medium.com/@zergtant/use-weighted-loss-function-to-solve-imbalanced-data-classification-problems-749237f38b75\n",
    "# Using inversely proportional frequency\n",
    "def compute_class_weights(targets):\n",
    "    class_counts = torch.tensor(np.bincount(targets))\n",
    "    class_counts = class_counts.masked_fill(class_counts == 0, 999999999)\n",
    "    \n",
    "    return targets.size(0) / class_counts"
   ]
  },
  {
   "cell_type": "code",
   "execution_count": 22,
   "id": "3d0f93c3",
   "metadata": {},
   "outputs": [],
   "source": [
    "def train_cbow(\n",
    "    epochs,\n",
    "    train_dataloader,\n",
    "    emb_dim=EMBEDDING_SIZE,\n",
    "    context_size=CONTEXT_SIZE,\n",
    "    lr=0.001,\n",
    "    loss_weights = None\n",
    "):\n",
    "    print(\"Starting training\")\n",
    "    \n",
    "    torch.manual_seed(seed)\n",
    "    cbow_model = CBOW(\n",
    "        vocab_size=len(train_vocab), emb_dim=emb_dim, context_size=context_size\n",
    "    ).to(device)\n",
    "    optimizer = optim.Adam(cbow_model.parameters(), lr=lr)\n",
    "    loss_fnc = nn.CrossEntropyLoss(weight=loss_weights).to(device)\n",
    "\n",
    "    print(\n",
    "        f\"\\nStarting training with emb_dim = {emb_dim}, context_size = {context_size}: \"\n",
    "    )\n",
    "    for epoch in trange(epochs, desc=\"Epoch\"):\n",
    "        for context, target in train_dataloader:\n",
    "            context = context.to(device)\n",
    "            target = target.to(device)\n",
    "\n",
    "            output = cbow_model(context)\n",
    "            loss = loss_fnc(output, target)\n",
    "            optimizer.zero_grad()\n",
    "            loss.backward()\n",
    "            optimizer.step()\n",
    "\n",
    "        print(f\"Epoch {epoch}, Loss {loss}\")\n",
    "\n",
    "    return cbow_model"
   ]
  },
  {
   "cell_type": "code",
   "execution_count": 23,
   "id": "2572bd07",
   "metadata": {},
   "outputs": [],
   "source": [
    "def evaluate_model_dataloader(model_temp, dataloader, hidden_arg=None):\n",
    "    accuracy = 0\n",
    "\n",
    "    with torch.no_grad():\n",
    "        model_temp.eval()\n",
    "\n",
    "        for context, target in dataloader:\n",
    "            context = context.to(device)\n",
    "            target = target.to(device)\n",
    "\n",
    "            if hidden_arg:\n",
    "                hidden = model.init_hidden(len(target)).to(device)\n",
    "                output, _ = model_temp(context,hidden)\n",
    "            else:\n",
    "                output = model_temp(context)\n",
    "\n",
    "            accuracy += (\n",
    "                torch.nan_to_num(output.argmax(dim=1) == target).count_nonzero()\n",
    "                / dataloader.batch_size\n",
    "            )\n",
    "\n",
    "    return accuracy / len(dataloader)"
   ]
  },
  {
   "cell_type": "code",
   "execution_count": 24,
   "id": "3792d8bd",
   "metadata": {},
   "outputs": [],
   "source": [
    "def evaluate_model(cbow_model, train_dataloader, val_dataloader):\n",
    "    print(\"Starting evaluation\")\n",
    "    train_accuracy = 0\n",
    "    val_accuracy = 0\n",
    "    with torch.no_grad():\n",
    "        cbow_model.eval()\n",
    "\n",
    "        print(\"\\nComputing training accuracy\")\n",
    "        train_accuracy = evaluate_model_dataloader(cbow_model, train_dataloader)\n",
    "        print(\"done\")\n",
    "\n",
    "        print(\"\\nComputing validation accuracy\")\n",
    "        val_accuracy = evaluate_model_dataloader(cbow_model, val_dataloader)\n",
    "        print(\"done\")\n",
    "\n",
    "    print(\"Model scored following results\")\n",
    "    print(\"Train accuracy: \", train_accuracy)\n",
    "    print(\"Val accuracy: \", val_accuracy)"
   ]
  },
  {
   "cell_type": "code",
   "execution_count": 25,
   "id": "a6357792",
   "metadata": {},
   "outputs": [],
   "source": [
    "def save_load(filepath, saving_item=None, force_save=False):\n",
    "    if not os.path.isfile(filepath) or force_save:\n",
    "        torch.save(saving_item, filepath)\n",
    "    else:\n",
    "        saving_item = torch.load(filepath)\n",
    "\n",
    "    return saving_item"
   ]
  },
  {
   "cell_type": "code",
   "execution_count": 26,
   "id": "eb40d4ef",
   "metadata": {
    "lines_to_next_cell": 2
   },
   "outputs": [],
   "source": [
    "def save_load_model(filepath, model_instance=None, model=None, force_save=False):\n",
    "    if not os.path.isfile(filepath) or force_save:\n",
    "        torch.save(model, filepath)\n",
    "    else:\n",
    "        assert (\n",
    "            model_instance\n",
    "        ), \"If you want overwrite an existing model, then enter force_save=True\"\n",
    "\n",
    "        model = model_instance\n",
    "        model.load_state_dict(torch.load(filepath).state_dict())\n",
    "\n",
    "    return model"
   ]
  },
  {
   "cell_type": "markdown",
   "id": "2f9d5f9c",
   "metadata": {
    "lines_to_next_cell": 2
   },
   "source": [
    "#### Creating grid search"
   ]
  },
  {
   "cell_type": "code",
   "execution_count": 27,
   "id": "f5c0c68b",
   "metadata": {},
   "outputs": [],
   "source": [
    "def train_cbow_grid(epochs, context_sizes: list, embedding_sizes: list, use_class_weights=False):\n",
    "    models_result = {}\n",
    "\n",
    "    best_model = None\n",
    "    best_params = None\n",
    "    best_model_perf = 0.0\n",
    "\n",
    "    for con_size in context_sizes:\n",
    "        print(f\"\\nCreating datasets for context size: {con_size}: \")\n",
    "        train_dataset_temp, _, train_targets = create_dataset(\n",
    "            train_token, train_vocab, con_size, banned_words, position=\"middle\"\n",
    "        )\n",
    "        val_dataset_temp, _, _ = create_dataset(\n",
    "            val_token, train_vocab, con_size, banned_words, position=\"middle\"\n",
    "        )\n",
    "\n",
    "        train_dataloader = DataLoader(train_dataset_temp, batch_size=1024, shuffle=True)\n",
    "        val_dataloader = DataLoader(val_dataset_temp, batch_size=1024, shuffle=True)\n",
    "        print(\"Datasets created\")\n",
    "\n",
    "        if use_class_weights == True:\n",
    "            class_weights = compute_class_weights(train_targets)\n",
    "        else:\n",
    "            class_weights = None\n",
    "\n",
    "        for emb_size in embedding_sizes:\n",
    "            model = train_cbow(\n",
    "                epochs, train_dataloader, emb_dim=emb_size, context_size=con_size, loss_weights=class_weights\n",
    "            )\n",
    "            validation_performance = evaluate_model_dataloader(model, val_dataloader)\n",
    "\n",
    "            results_info = {}\n",
    "\n",
    "            results_info[\"Parameters\"] = {\"con_size\": con_size, \"emb_size\": emb_size}\n",
    "            results_info[\"Val_perf\"] = validation_performance.item()\n",
    "\n",
    "            if validation_performance.item() > best_model_perf:\n",
    "                best_model_perf = validation_performance.item()\n",
    "                best_model = model\n",
    "                best_params = (con_size, emb_size)\n",
    "\n",
    "            models_result[f\"{con_size},{emb_size}\"] = results_info\n",
    "\n",
    "    return best_model, best_params, best_model_perf, models_result"
   ]
  },
  {
   "cell_type": "markdown",
   "id": "68617ef8",
   "metadata": {},
   "source": [
    "Skip these next 5 cells if not TRAINING==True"
   ]
  },
  {
   "cell_type": "code",
   "execution_count": 29,
   "id": "0bf97dda",
   "metadata": {},
   "outputs": [
    {
     "name": "stdout",
     "output_type": "stream",
     "text": [
      "\n",
      "Creating datasets for context size: 4: \n",
      "Datasets created\n",
      "Starting training\n",
      "\n",
      "Starting training with emb_dim = 12, context_size = 4: \n"
     ]
    },
    {
     "name": "stderr",
     "output_type": "stream",
     "text": [
      "Epoch:  10%|█         | 1/10 [00:11<01:39, 11.04s/it]"
     ]
    },
    {
     "name": "stdout",
     "output_type": "stream",
     "text": [
      "Epoch 0, Loss 4.387630939483643\n"
     ]
    },
    {
     "name": "stderr",
     "output_type": "stream",
     "text": [
      "Epoch:  20%|██        | 2/10 [00:21<01:26, 10.76s/it]"
     ]
    },
    {
     "name": "stdout",
     "output_type": "stream",
     "text": [
      "Epoch 1, Loss 4.061700344085693\n"
     ]
    },
    {
     "name": "stderr",
     "output_type": "stream",
     "text": [
      "Epoch:  30%|███       | 3/10 [00:31<01:13, 10.53s/it]"
     ]
    },
    {
     "name": "stdout",
     "output_type": "stream",
     "text": [
      "Epoch 2, Loss 4.032505512237549\n"
     ]
    },
    {
     "name": "stderr",
     "output_type": "stream",
     "text": [
      "Epoch:  40%|████      | 4/10 [00:42<01:03, 10.50s/it]"
     ]
    },
    {
     "name": "stdout",
     "output_type": "stream",
     "text": [
      "Epoch 3, Loss 3.9217262268066406\n"
     ]
    },
    {
     "name": "stderr",
     "output_type": "stream",
     "text": [
      "Epoch:  50%|█████     | 5/10 [00:52<00:52, 10.47s/it]"
     ]
    },
    {
     "name": "stdout",
     "output_type": "stream",
     "text": [
      "Epoch 4, Loss 4.206316947937012\n"
     ]
    },
    {
     "name": "stderr",
     "output_type": "stream",
     "text": [
      "Epoch:  60%|██████    | 6/10 [01:02<00:41, 10.34s/it]"
     ]
    },
    {
     "name": "stdout",
     "output_type": "stream",
     "text": [
      "Epoch 5, Loss 3.8075170516967773\n"
     ]
    },
    {
     "name": "stderr",
     "output_type": "stream",
     "text": [
      "Epoch:  70%|███████   | 7/10 [01:13<00:31, 10.42s/it]"
     ]
    },
    {
     "name": "stdout",
     "output_type": "stream",
     "text": [
      "Epoch 6, Loss 4.459645748138428\n"
     ]
    },
    {
     "name": "stderr",
     "output_type": "stream",
     "text": [
      "Epoch:  80%|████████  | 8/10 [01:23<00:20, 10.35s/it]"
     ]
    },
    {
     "name": "stdout",
     "output_type": "stream",
     "text": [
      "Epoch 7, Loss 4.14863920211792\n"
     ]
    },
    {
     "name": "stderr",
     "output_type": "stream",
     "text": [
      "Epoch:  90%|█████████ | 9/10 [01:33<00:10, 10.24s/it]"
     ]
    },
    {
     "name": "stdout",
     "output_type": "stream",
     "text": [
      "Epoch 8, Loss 4.2407708168029785\n"
     ]
    },
    {
     "name": "stderr",
     "output_type": "stream",
     "text": [
      "Epoch: 100%|██████████| 10/10 [01:43<00:00, 10.36s/it]\n"
     ]
    },
    {
     "name": "stdout",
     "output_type": "stream",
     "text": [
      "Epoch 9, Loss 3.8415980339050293\n",
      "Starting training\n",
      "\n",
      "Starting training with emb_dim = 16, context_size = 4: \n"
     ]
    },
    {
     "name": "stderr",
     "output_type": "stream",
     "text": [
      "Epoch:  10%|█         | 1/10 [00:10<01:31, 10.18s/it]"
     ]
    },
    {
     "name": "stdout",
     "output_type": "stream",
     "text": [
      "Epoch 0, Loss 4.608013153076172\n"
     ]
    },
    {
     "name": "stderr",
     "output_type": "stream",
     "text": [
      "Epoch:  20%|██        | 2/10 [00:20<01:22, 10.35s/it]"
     ]
    },
    {
     "name": "stdout",
     "output_type": "stream",
     "text": [
      "Epoch 1, Loss 4.472213268280029\n"
     ]
    },
    {
     "name": "stderr",
     "output_type": "stream",
     "text": [
      "Epoch:  30%|███       | 3/10 [00:30<01:11, 10.19s/it]"
     ]
    },
    {
     "name": "stdout",
     "output_type": "stream",
     "text": [
      "Epoch 2, Loss 4.12794303894043\n"
     ]
    },
    {
     "name": "stderr",
     "output_type": "stream",
     "text": [
      "Epoch:  40%|████      | 4/10 [00:40<01:00, 10.12s/it]"
     ]
    },
    {
     "name": "stdout",
     "output_type": "stream",
     "text": [
      "Epoch 3, Loss 4.20465612411499\n"
     ]
    },
    {
     "name": "stderr",
     "output_type": "stream",
     "text": [
      "Epoch:  50%|█████     | 5/10 [00:50<00:50, 10.12s/it]"
     ]
    },
    {
     "name": "stdout",
     "output_type": "stream",
     "text": [
      "Epoch 4, Loss 3.6004111766815186\n"
     ]
    },
    {
     "name": "stderr",
     "output_type": "stream",
     "text": [
      "Epoch:  60%|██████    | 6/10 [01:00<00:40, 10.11s/it]"
     ]
    },
    {
     "name": "stdout",
     "output_type": "stream",
     "text": [
      "Epoch 5, Loss 4.327670097351074\n"
     ]
    },
    {
     "name": "stderr",
     "output_type": "stream",
     "text": [
      "Epoch:  70%|███████   | 7/10 [01:10<00:30, 10.02s/it]"
     ]
    },
    {
     "name": "stdout",
     "output_type": "stream",
     "text": [
      "Epoch 6, Loss 4.000092506408691\n"
     ]
    },
    {
     "name": "stderr",
     "output_type": "stream",
     "text": [
      "Epoch:  80%|████████  | 8/10 [01:20<00:20, 10.04s/it]"
     ]
    },
    {
     "name": "stdout",
     "output_type": "stream",
     "text": [
      "Epoch 7, Loss 4.086477756500244\n"
     ]
    },
    {
     "name": "stderr",
     "output_type": "stream",
     "text": [
      "Epoch:  90%|█████████ | 9/10 [01:30<00:10, 10.06s/it]"
     ]
    },
    {
     "name": "stdout",
     "output_type": "stream",
     "text": [
      "Epoch 8, Loss 4.012253284454346\n"
     ]
    },
    {
     "name": "stderr",
     "output_type": "stream",
     "text": [
      "Epoch: 100%|██████████| 10/10 [01:40<00:00, 10.10s/it]"
     ]
    },
    {
     "name": "stdout",
     "output_type": "stream",
     "text": [
      "Epoch 9, Loss 3.9939897060394287\n",
      "\n",
      "Creating datasets for context size: 6: \n"
     ]
    },
    {
     "name": "stderr",
     "output_type": "stream",
     "text": [
      "\n"
     ]
    },
    {
     "name": "stdout",
     "output_type": "stream",
     "text": [
      "Datasets created\n",
      "Starting training\n",
      "\n",
      "Starting training with emb_dim = 12, context_size = 6: \n"
     ]
    },
    {
     "name": "stderr",
     "output_type": "stream",
     "text": [
      "Epoch:  10%|█         | 1/10 [00:10<01:30, 10.10s/it]"
     ]
    },
    {
     "name": "stdout",
     "output_type": "stream",
     "text": [
      "Epoch 0, Loss 4.774755477905273\n"
     ]
    },
    {
     "name": "stderr",
     "output_type": "stream",
     "text": [
      "Epoch:  20%|██        | 2/10 [00:20<01:19,  9.98s/it]"
     ]
    },
    {
     "name": "stdout",
     "output_type": "stream",
     "text": [
      "Epoch 1, Loss 4.586620807647705\n"
     ]
    },
    {
     "name": "stderr",
     "output_type": "stream",
     "text": [
      "Epoch:  30%|███       | 3/10 [00:29<01:09,  9.89s/it]"
     ]
    },
    {
     "name": "stdout",
     "output_type": "stream",
     "text": [
      "Epoch 2, Loss 4.381562232971191\n"
     ]
    },
    {
     "name": "stderr",
     "output_type": "stream",
     "text": [
      "Epoch:  40%|████      | 4/10 [00:40<01:00, 10.04s/it]"
     ]
    },
    {
     "name": "stdout",
     "output_type": "stream",
     "text": [
      "Epoch 3, Loss 4.230799674987793\n"
     ]
    },
    {
     "name": "stderr",
     "output_type": "stream",
     "text": [
      "Epoch:  50%|█████     | 5/10 [00:50<00:50, 10.14s/it]"
     ]
    },
    {
     "name": "stdout",
     "output_type": "stream",
     "text": [
      "Epoch 4, Loss 4.152810096740723\n"
     ]
    },
    {
     "name": "stderr",
     "output_type": "stream",
     "text": [
      "Epoch:  60%|██████    | 6/10 [01:00<00:40, 10.20s/it]"
     ]
    },
    {
     "name": "stdout",
     "output_type": "stream",
     "text": [
      "Epoch 5, Loss 4.134964942932129\n"
     ]
    },
    {
     "name": "stderr",
     "output_type": "stream",
     "text": [
      "Epoch:  70%|███████   | 7/10 [01:10<00:30, 10.08s/it]"
     ]
    },
    {
     "name": "stdout",
     "output_type": "stream",
     "text": [
      "Epoch 6, Loss 4.344654083251953\n"
     ]
    },
    {
     "name": "stderr",
     "output_type": "stream",
     "text": [
      "Epoch:  80%|████████  | 8/10 [01:20<00:20, 10.05s/it]"
     ]
    },
    {
     "name": "stdout",
     "output_type": "stream",
     "text": [
      "Epoch 7, Loss 4.138851165771484\n"
     ]
    },
    {
     "name": "stderr",
     "output_type": "stream",
     "text": [
      "Epoch:  90%|█████████ | 9/10 [01:30<00:10, 10.02s/it]"
     ]
    },
    {
     "name": "stdout",
     "output_type": "stream",
     "text": [
      "Epoch 8, Loss 4.5815205574035645\n"
     ]
    },
    {
     "name": "stderr",
     "output_type": "stream",
     "text": [
      "Epoch: 100%|██████████| 10/10 [01:40<00:00, 10.07s/it]\n"
     ]
    },
    {
     "name": "stdout",
     "output_type": "stream",
     "text": [
      "Epoch 9, Loss 4.1146240234375\n",
      "Starting training\n",
      "\n",
      "Starting training with emb_dim = 16, context_size = 6: \n"
     ]
    },
    {
     "name": "stderr",
     "output_type": "stream",
     "text": [
      "Epoch:  10%|█         | 1/10 [00:10<01:32, 10.30s/it]"
     ]
    },
    {
     "name": "stdout",
     "output_type": "stream",
     "text": [
      "Epoch 0, Loss 4.449157238006592\n"
     ]
    },
    {
     "name": "stderr",
     "output_type": "stream",
     "text": [
      "Epoch:  20%|██        | 2/10 [00:20<01:22, 10.27s/it]"
     ]
    },
    {
     "name": "stdout",
     "output_type": "stream",
     "text": [
      "Epoch 1, Loss 4.151708126068115\n"
     ]
    },
    {
     "name": "stderr",
     "output_type": "stream",
     "text": [
      "Epoch:  30%|███       | 3/10 [00:30<01:10, 10.13s/it]"
     ]
    },
    {
     "name": "stdout",
     "output_type": "stream",
     "text": [
      "Epoch 2, Loss 4.403507232666016\n"
     ]
    },
    {
     "name": "stderr",
     "output_type": "stream",
     "text": [
      "Epoch:  40%|████      | 4/10 [00:40<01:00, 10.09s/it]"
     ]
    },
    {
     "name": "stdout",
     "output_type": "stream",
     "text": [
      "Epoch 3, Loss 3.892160177230835\n"
     ]
    },
    {
     "name": "stderr",
     "output_type": "stream",
     "text": [
      "Epoch:  50%|█████     | 5/10 [00:50<00:50, 10.02s/it]"
     ]
    },
    {
     "name": "stdout",
     "output_type": "stream",
     "text": [
      "Epoch 4, Loss 3.8412320613861084\n"
     ]
    },
    {
     "name": "stderr",
     "output_type": "stream",
     "text": [
      "Epoch:  60%|██████    | 6/10 [01:00<00:40, 10.08s/it]"
     ]
    },
    {
     "name": "stdout",
     "output_type": "stream",
     "text": [
      "Epoch 5, Loss 4.031732559204102\n"
     ]
    },
    {
     "name": "stderr",
     "output_type": "stream",
     "text": [
      "Epoch:  70%|███████   | 7/10 [01:10<00:30, 10.04s/it]"
     ]
    },
    {
     "name": "stdout",
     "output_type": "stream",
     "text": [
      "Epoch 6, Loss 4.298315048217773\n"
     ]
    },
    {
     "name": "stderr",
     "output_type": "stream",
     "text": [
      "Epoch:  80%|████████  | 8/10 [01:20<00:20, 10.02s/it]"
     ]
    },
    {
     "name": "stdout",
     "output_type": "stream",
     "text": [
      "Epoch 7, Loss 4.211244106292725\n"
     ]
    },
    {
     "name": "stderr",
     "output_type": "stream",
     "text": [
      "Epoch:  90%|█████████ | 9/10 [01:30<00:10, 10.02s/it]"
     ]
    },
    {
     "name": "stdout",
     "output_type": "stream",
     "text": [
      "Epoch 8, Loss 4.039017200469971\n"
     ]
    },
    {
     "name": "stderr",
     "output_type": "stream",
     "text": [
      "Epoch: 100%|██████████| 10/10 [01:40<00:00, 10.06s/it]"
     ]
    },
    {
     "name": "stdout",
     "output_type": "stream",
     "text": [
      "Epoch 9, Loss 3.8218367099761963\n"
     ]
    },
    {
     "name": "stderr",
     "output_type": "stream",
     "text": [
      "\n"
     ]
    }
   ],
   "source": [
    "if TRAINING:\n",
    "    best_model, best_params, best_model_perf, models_result = train_cbow_grid(\n",
    "        10, context_sizes=[4, 6], embedding_sizes=[12, 16], use_class_weights=False\n",
    "    )"
   ]
  },
  {
   "cell_type": "code",
   "execution_count": 30,
   "id": "a9357ed1",
   "metadata": {},
   "outputs": [
    {
     "data": {
      "text/plain": [
       "('6,16', 0.2871907651424408)"
      ]
     },
     "execution_count": 30,
     "metadata": {},
     "output_type": "execute_result"
    }
   ],
   "source": [
    "best_model_key = max(models_result, key=lambda key: models_result[key][\"Val_perf\"])\n",
    "best_model_key, models_result[best_model_key][\"Val_perf\"]"
   ]
  },
  {
   "cell_type": "code",
   "execution_count": 31,
   "id": "ca015be3",
   "metadata": {},
   "outputs": [
    {
     "data": {
      "text/plain": [
       "CBOW(\n",
       "  (embeddings): Embedding(1880, 16)\n",
       "  (fc1): Linear(in_features=96, out_features=128, bias=True)\n",
       "  (fc2): Linear(in_features=128, out_features=1880, bias=True)\n",
       ")"
      ]
     },
     "execution_count": 31,
     "metadata": {},
     "output_type": "execute_result"
    }
   ],
   "source": [
    "best_model"
   ]
  },
  {
   "cell_type": "code",
   "execution_count": 32,
   "id": "e1b621cf",
   "metadata": {},
   "outputs": [
    {
     "name": "stdout",
     "output_type": "stream",
     "text": [
      "#1: 6,16 with 0.2872% on validation\n",
      "#2: 6,12 with 0.2847% on validation\n",
      "#3: 4,16 with 0.2843% on validation\n",
      "#4: 4,12 with 0.2746% on validation\n"
     ]
    }
   ],
   "source": [
    "for i, key in enumerate(\n",
    "    sorted(models_result, key=lambda key: models_result[key][\"Val_perf\"], reverse=True)\n",
    "):\n",
    "    print(f\"\"\"#{i+1}: {key} with {models_result[key]['Val_perf']:.4f}% on validation\"\"\")"
   ]
  },
  {
   "cell_type": "code",
   "execution_count": 33,
   "id": "70ffb988",
   "metadata": {},
   "outputs": [
    {
     "data": {
      "text/plain": [
       "(6, 16)"
      ]
     },
     "execution_count": 33,
     "metadata": {},
     "output_type": "execute_result"
    }
   ],
   "source": [
    "CONTEXT_SIZE, EMBEDDING_SIZE = best_params  # (6, 16)\n",
    "CONTEXT_SIZE, EMBEDDING_SIZE"
   ]
  },
  {
   "cell_type": "markdown",
   "id": "7a16a765",
   "metadata": {},
   "source": [
    "Start from here if TRAINING=False"
   ]
  },
  {
   "cell_type": "code",
   "execution_count": 34,
   "id": "97aa4013",
   "metadata": {
    "lines_to_next_cell": 2
   },
   "outputs": [],
   "source": [
    "if TRAINING:\n",
    "    save_load_model(\n",
    "        filepath=SAVE_PATH + \"CBOW_model.pth\", model=best_model, force_save=True\n",
    "    )\n",
    "    embedding_weights = best_model.embeddings.weight\n",
    "    embedding_dict = best_model.embeddings.state_dict()\n",
    "\n",
    "    embedding_weights = save_load(SAVE_PATH + \"CBOW_embeddings.pt\", saving_item=embedding_weights, force_save=True)\n",
    "    embedding_dict = save_load(SAVE_PATH + \"CBOW_embeddings_dict.pt\", saving_item=embedding_dict, force_save=True)\n",
    "else:\n",
    "    best_model = torch.load(SAVE_PATH + \"CBOW_model.pth\")\n",
    "    embedding_weights = best_model.embeddings.weight\n",
    "    embedding_dict = best_model.embeddings.state_dict()"
   ]
  },
  {
   "cell_type": "markdown",
   "id": "f657e0eb",
   "metadata": {},
   "source": [
    "#### Evaluating on unseen data"
   ]
  },
  {
   "cell_type": "code",
   "execution_count": 35,
   "id": "c5406fc7",
   "metadata": {},
   "outputs": [],
   "source": [
    "test_dataset_temp, _, _ = create_dataset(\n",
    "    test_token, train_vocab, CONTEXT_SIZE, banned_words, position=\"middle\"\n",
    ")\n",
    "\n",
    "test_dataloader = DataLoader(test_dataset_temp, batch_size=1024, shuffle=True)"
   ]
  },
  {
   "cell_type": "code",
   "execution_count": 36,
   "id": "b6bed9b8",
   "metadata": {},
   "outputs": [
    {
     "name": "stdout",
     "output_type": "stream",
     "text": [
      "Model performance on unseen test data: 0.2915%\n"
     ]
    }
   ],
   "source": [
    "print(f'Model performance on unseen test data: {evaluate_model_dataloader(best_model, test_dataloader).item():.4f}%')"
   ]
  },
  {
   "cell_type": "markdown",
   "id": "617b6a4d",
   "metadata": {},
   "source": [
    "### Checking similarities between the words using the embeddings"
   ]
  },
  {
   "cell_type": "code",
   "execution_count": 37,
   "id": "536810d8",
   "metadata": {},
   "outputs": [
    {
     "data": {
      "text/plain": [
       "tensor([ 1.0000, -0.1986, -0.1889,  ...,  0.2937,  0.4111, -0.0624],\n",
       "       device='cuda:0', grad_fn=<SumBackward1>)"
      ]
     },
     "execution_count": 37,
     "metadata": {},
     "output_type": "execute_result"
    }
   ],
   "source": [
    "nn.CosineSimilarity(dim=1)(embedding_weights[0], embedding_weights)"
   ]
  },
  {
   "cell_type": "code",
   "execution_count": 38,
   "id": "ba98f4b1",
   "metadata": {},
   "outputs": [],
   "source": [
    "similarities = {}\n",
    "for word in range(len(train_vocab)):\n",
    "    similarities[train_vocab.lookup_tokens([word])[0]] = torch.topk(\n",
    "        nn.CosineSimilarity(dim=1)(embedding_weights[word], embedding_weights), 11\n",
    "    )[1][1:].tolist()"
   ]
  },
  {
   "cell_type": "code",
   "execution_count": 40,
   "id": "df043fda",
   "metadata": {},
   "outputs": [],
   "source": [
    "vocab_words = train_vocab.lookup_tokens(range(len(train_vocab)))"
   ]
  },
  {
   "cell_type": "code",
   "execution_count": 41,
   "id": "eca44a5c",
   "metadata": {},
   "outputs": [],
   "source": [
    "def similarity_checker(in_word=None):\n",
    "    if in_word:\n",
    "        word_sim = in_word\n",
    "    else:\n",
    "        word_sim = random.choice(vocab_words)\n",
    "    print(\"\\nThe word:\", word_sim)\n",
    "    print(\"The similar words: \", train_vocab.lookup_tokens(similarities[word_sim]))"
   ]
  },
  {
   "cell_type": "code",
   "execution_count": 43,
   "id": "867f7058",
   "metadata": {},
   "outputs": [
    {
     "name": "stdout",
     "output_type": "stream",
     "text": [
      "\n",
      "The word: king\n",
      "The similar words:  ['earl', 'count', 'prince', 'weather', 'bishop', 'princess', 'wind', 'general', 'dwarf', 'latter']\n",
      "\n",
      "The word: queen\n",
      "The similar words:  ['horses', 'artillery', 'leaves', 'houses', 'darkness', 'dogs', 'water', 'money', 'doctor', 'shore']\n",
      "\n",
      "The word: boy\n",
      "The similar words:  ['brother', 'dog', 'beast', 'ship', 'master', 'servant', 'story', 'kingdom', 'son', 'company']\n",
      "\n",
      "The word: girl\n",
      "The similar words:  ['lady', 'dog', 'creature', 'man', 'gentleman', 'bird', 'laugh', 'fellow', 'letters', 'convent']\n"
     ]
    },
    {
     "data": {
      "text/plain": [
       "(None, None, None, None)"
      ]
     },
     "execution_count": 43,
     "metadata": {},
     "output_type": "execute_result"
    }
   ],
   "source": [
    "similarity_checker(\"king\"), similarity_checker(\"queen\"), similarity_checker(\"boy\"), similarity_checker(\"girl\")"
   ]
  },
  {
   "cell_type": "code",
   "execution_count": 45,
   "id": "142dbb01",
   "metadata": {},
   "outputs": [
    {
     "name": "stdout",
     "output_type": "stream",
     "text": [
      "\n",
      "The word: motionless\n",
      "The similar words:  ['names', 'ships', 'troops', 'together', 'influence', 'evident', 'luck', 'sous', 'anger', 'hands']\n",
      "\n",
      "The word: persons\n",
      "The similar words:  ['men', 'people', 'women', 'days', 'kings', 'others', 'things', 'hours', 'years', 'sous']\n",
      "\n",
      "The word: figure\n",
      "The similar words:  ['son', 'path', 'rope', 'chief', 'impression', 'sons', 'firm', 'kingdom', 'own', 'lot']\n",
      "\n",
      "The word: eyes\n",
      "The similar words:  ['fingers', 'mouth', 'legs', 'nose', 'forces', 'tears', 'neck', 'hands', 'shoes', 'shoulders']\n",
      "\n",
      "The word: whose\n",
      "The similar words:  ['my', 'your', '-', 'his', 'our', 'their', 'whom', 'de', 'who', 'her']\n",
      "\n",
      "The word: countess\n",
      "The similar words:  ['soldiers', 'sun', 'dwarf', 'prince', 'count', 'someone', 'bondes', 'doctor', 'circumstances', 'kings']\n",
      "\n",
      "The word: fifteen\n",
      "The similar words:  ['three', 'six', 'forty', 'ten', 'five', 'two', 'social', 'infantry', 'seven', 'eight']\n",
      "\n",
      "The word: why\n",
      "The similar words:  ['where', 'how', 'what', 'until', '—', 'however', 'when', 'whether', 'as', '?']\n",
      "\n",
      "The word: oath\n",
      "The similar words:  ['name', 'opportunity', 'sewer', 'object', 'worse', 'idea', 'confusion', 'instinct', 'attached', 'midst']\n"
     ]
    }
   ],
   "source": [
    "for n in range(1, 10):\n",
    "    similarity_checker()"
   ]
  },
  {
   "cell_type": "code",
   "execution_count": 46,
   "id": "7a96c1d3",
   "metadata": {},
   "outputs": [],
   "source": [
    "# To get the embeddings compatible with the tensorflow visual site\n",
    "embedding_weights_cpu = embedding_weights.clone().to(\"cpu\")\n",
    "\n",
    "\n",
    "def temp_func(in_list):\n",
    "    ret_string = \"\"\n",
    "    for ele in in_list:\n",
    "        ret_string += f\"{ele}\\t\"\n",
    "    return ret_string\n",
    "\n",
    "\n",
    "with open(SAVE_PATH + \"Embedding.TSV\", \"w\") as file:\n",
    "    for n in range(len(embedding_weights_cpu)):\n",
    "        file.write(f\"{temp_func(embedding_weights_cpu[n])}\" + \"\\n\")\n",
    "\n",
    "with open(SAVE_PATH + \"Embedding_names.TSV\", \"w\") as file:\n",
    "    for n in range(len(embedding_weights_cpu)):\n",
    "        file.write(f\"{train_vocab.lookup_tokens([n])[0]}\\n\")"
   ]
  },
  {
   "cell_type": "markdown",
   "id": "5a53b8ce",
   "metadata": {},
   "source": [
    "# 4 (dependency of 2.2)\n",
    "## 4.1"
   ]
  },
  {
   "cell_type": "code",
   "execution_count": 47,
   "id": "ba511aa6",
   "metadata": {},
   "outputs": [],
   "source": [
    "def create_pe(context_size, emb_size):\n",
    "    position_matrix = torch.zeros(context_size, emb_size)\n",
    "    for i in range(0, context_size - 1):\n",
    "        for j in range(0, int(emb_size / 2)):\n",
    "            position_matrix[i, 2 * j] = torch.sin(\n",
    "                torch.tensor(i / 10000 ** (2 * j / emb_size))\n",
    "            )\n",
    "            position_matrix[i, 2 * j + 1] = torch.cos(\n",
    "                torch.tensor(i / 10000 ** (2 * j / emb_size))\n",
    "            )\n",
    "    return position_matrix"
   ]
  },
  {
   "cell_type": "code",
   "execution_count": 48,
   "id": "8d9ff288",
   "metadata": {},
   "outputs": [],
   "source": [
    "pe = create_pe(CONTEXT_SIZE + 100, EMBEDDING_SIZE + 100)"
   ]
  },
  {
   "cell_type": "code",
   "execution_count": 49,
   "id": "841b3ac9",
   "metadata": {},
   "outputs": [],
   "source": [
    "import matplotlib.pyplot as plt"
   ]
  },
  {
   "cell_type": "code",
   "execution_count": 50,
   "id": "d122b363",
   "metadata": {},
   "outputs": [
    {
     "data": {
      "text/plain": [
       "<matplotlib.image.AxesImage at 0x1e276c32290>"
      ]
     },
     "execution_count": 50,
     "metadata": {},
     "output_type": "execute_result"
    },
    {
     "data": {
      "image/png": "[encoded data removed]",
      "text/plain": [
       "<Figure size 640x480 with 1 Axes>"
      ]
     },
     "metadata": {},
     "output_type": "display_data"
    }
   ],
   "source": [
    "plt.imshow(pe.unsqueeze(0).permute(1, 2, 0))"
   ]
  },
  {
   "cell_type": "markdown",
   "id": "3dd87a29",
   "metadata": {},
   "source": [
    "## 4.2"
   ]
  },
  {
   "cell_type": "code",
   "execution_count": 51,
   "id": "e8e256b8",
   "metadata": {},
   "outputs": [],
   "source": [
    "class SelfAttention(nn.Module):\n",
    "    def __init__(\n",
    "        self, emb_dim=EMBEDDING_SIZE, context_size=CONTEXT_SIZE, vocab_size=-1, p=4\n",
    "    ):\n",
    "        super().__init__()\n",
    "\n",
    "        self.p = p\n",
    "        self.emb_dim = emb_dim\n",
    "\n",
    "        # Like tutorial 6\n",
    "        self.embeddings = nn.Embedding(vocab_size, emb_dim)\n",
    "        self.embeddings.load_state_dict(embedding_dict)\n",
    "\n",
    "        self.identity_matrix = torch.eye(len(train_vocab))\n",
    "        # Freeze the layer\n",
    "        for p in self.embeddings.parameters():\n",
    "            p.requires_grad = False\n",
    "\n",
    "        self.pe = create_pe(emb_dim, context_size)\n",
    "\n",
    "        # Weights in dim PXD\n",
    "        self.Wq = nn.Parameter(torch.rand(1, emb_dim, self.p), requires_grad=True)\n",
    "\n",
    "        self.Kq = nn.Parameter(torch.rand(1, emb_dim, self.p), requires_grad=True)\n",
    "\n",
    "        self.Vq = nn.Parameter(torch.rand(1, emb_dim, self.p), requires_grad=True)\n",
    "\n",
    "    def forward(self, x):\n",
    "        # print(self.embeddings(x).squeeze(0))\n",
    "\n",
    "        # Usikker på om vi skal indexere ut embeddings eller kjøre input gjennom embedding.\n",
    "        # torch.matmul(self.identity_matrix[x], self.embeddings.weight)\n",
    "        embeddings = self.embeddings(x) + pe\n",
    "\n",
    "        # Get PxD * DxN -> PxN\n",
    "        q = torch.matmul(embeddings, self.Wq)\n",
    "\n",
    "        # Get PxD * DxN -> PxN\n",
    "        k_value = torch.matmul(embeddings, self.Kq)\n",
    "\n",
    "        # Get PxD * DxN -> PxN\n",
    "        v = torch.matmul(embeddings, self.Vq)\n",
    "\n",
    "        # (K.T * Q)/(emb_dim**0.5) | NxP * PxN -> NxN\n",
    "        scores = torch.bmm(q, k_value.transpose(1, 2)) / self.emb_dim**0.5\n",
    "\n",
    "        # Softmax .sum(dim=2) -> [1,1,1,1]\n",
    "        attention = nn.Softmax(dim=2)(scores)\n",
    "\n",
    "        # PxN * NxN -> PxN\n",
    "        # In the book they used DxD for v.weights, instead of PxD\n",
    "        weighted = torch.bmm(attention, v)\n",
    "\n",
    "        # If V, DxD\n",
    "        # return torch.add(embeddings, weighted)\n",
    "        return weighted"
   ]
  },
  {
   "cell_type": "code",
   "execution_count": 52,
   "id": "660444ac",
   "metadata": {},
   "outputs": [],
   "source": [
    "torch.manual_seed(seed)\n",
    "model_test = SelfAttention(vocab_size=len(train_vocab), p=16)"
   ]
  },
  {
   "cell_type": "markdown",
   "id": "c8453d12",
   "metadata": {},
   "source": [
    "## 4.3\n",
    "\n",
    "Note: we've got two slightly different versions of MultiheadAttention, see the report for more details."
   ]
  },
  {
   "cell_type": "code",
   "execution_count": 53,
   "id": "14caac2d",
   "metadata": {},
   "outputs": [],
   "source": [
    "class MultiheadAttention(nn.Module):\n",
    "    def __init__(\n",
    "        self, num_heads=1, emb_dim=EMBEDDING_SIZE, context_size=CONTEXT_SIZE, p=4\n",
    "    ):\n",
    "        super().__init__()\n",
    "\n",
    "        self.p = p\n",
    "\n",
    "        self.emb_dim = emb_dim\n",
    "        self.num_heads = num_heads\n",
    "        self.head_dim = emb_dim // num_heads\n",
    "        self.p_head_dim = p // num_heads\n",
    "\n",
    "        # Got this from documentation, and I found it usefull\n",
    "        assert (\n",
    "            self.head_dim * num_heads == self.emb_dim\n",
    "        ), \"Dimension of embeddings need to be divisible by the number of heads\"\n",
    "        assert (\n",
    "            self.p_head_dim * num_heads == self.p\n",
    "        ), \"Dimension of p need to be divisible by the number of heads\"\n",
    "\n",
    "        # Like tutorial 6\n",
    "        # self.embeddings = nn.Embedding(vocab_size, emb_dim)\n",
    "        # self.embeddings.load_state_dict(embedding_dict)\n",
    "\n",
    "        # self.identity_matrix = torch.eye(len(train_vocab))\n",
    "        # Freeze the layer\n",
    "        # for p in self.embeddings.parameters():\n",
    "        #    p.requires_grad = False\n",
    "\n",
    "        #Here the first argument should be context size. But if we want to generate longer sequences with a transformer, then the we need larger position matrix\n",
    "        position_matrix = torch.zeros(100, emb_dim)\n",
    "        for i in range(0, context_size - 1):\n",
    "            for j in range(0, int(emb_dim / 2)):\n",
    "                position_matrix[i, 2 * j] = torch.sin(\n",
    "                    torch.tensor(i / 10000 ** (2 * j / emb_dim))\n",
    "                )\n",
    "                position_matrix[i, 2 * j + 1] = torch.cos(\n",
    "                    torch.tensor(i / 10000 ** (2 * j / emb_dim))\n",
    "                )\n",
    "\n",
    "        self.pe = position_matrix.to(device)\n",
    "\n",
    "        # Weights in dim PXD\n",
    "\n",
    "        # Using the register parameter to make the different parameters.\n",
    "        for h in range(num_heads):\n",
    "            self.register_parameter(\n",
    "                f\"Wq{h}\",\n",
    "                nn.init.xavier_uniform_(\n",
    "                    nn.Parameter(\n",
    "                        torch.empty(self.p, self.head_dim), requires_grad=True\n",
    "                    )\n",
    "                ),\n",
    "            )\n",
    "            self.register_parameter(\n",
    "                f\"Wk{h}\",\n",
    "                nn.init.xavier_uniform_(\n",
    "                    nn.Parameter(\n",
    "                        torch.empty(self.p, self.head_dim), requires_grad=True\n",
    "                    )\n",
    "                ),\n",
    "            )\n",
    "            self.register_parameter(\n",
    "                f\"Wv{h}\",\n",
    "                nn.init.xavier_uniform_(\n",
    "                    nn.Parameter(\n",
    "                        torch.empty(self.p, self.head_dim), requires_grad=True\n",
    "                    )\n",
    "                ),\n",
    "            )\n",
    "\n",
    "        self.register_parameter(\n",
    "            f\"Wo\",\n",
    "            nn.init.xavier_uniform_(\n",
    "                nn.Parameter(\n",
    "                    torch.empty(self.emb_dim, self.p * self.num_heads), requires_grad=True\n",
    "                )\n",
    "            ),\n",
    "        )\n",
    "\n",
    "    def forward(self, x):\n",
    "        # print(self.embeddings(x).squeeze(0))\n",
    "\n",
    "        # Usikker på om vi skal indexere ut embeddings eller kjøre input gjennom embedding.\n",
    "        # torch.matmul(self.identity_matrix[x], self.embeddings.weight)\n",
    "\n",
    "        x = x + self.pe[:x.shape[1]]\n",
    "\n",
    "        x = x.transpose(1,2)\n",
    "        xs = torch.split(x, self.head_dim, dim=1)\n",
    "\n",
    "        weighted = None\n",
    "        for i, h in enumerate(xs):\n",
    "\n",
    "            wq = getattr(self, f'Wq{i}')\n",
    "            wk = getattr(self, f'Wk{i}')\n",
    "            wv = getattr(self, f'Wv{i}')\n",
    "            \n",
    "\n",
    "            # Get PxD * DxN -> PxN\n",
    "            q = torch.matmul(wq, h)\n",
    "\n",
    "            \n",
    "\n",
    "            # Get PxD * DxN -> PxN\n",
    "            k_value = torch.matmul(wk, h)\n",
    "\n",
    "            # Get PxD * DxN -> PxN\n",
    "            v = torch.matmul(wv, h)\n",
    "\n",
    "            \n",
    "\n",
    "            # (K.T * Q)/(emb_dim**0.5) | NxP * PxN -> NxN\n",
    "            scores = torch.bmm(q, k_value.transpose(1, 2)) / self.emb_dim**0.5\n",
    "\n",
    "            # Softmax .sum(dim=2) -> [1,1,1,1]\n",
    "            attention = nn.Softmax(dim=2)(scores)\n",
    "\n",
    "            # PxN * NxN -> PxN\n",
    "            # In the book they used DxD for v.weights, instead of PxD\n",
    "            weighted_temp = torch.bmm(attention, v)\n",
    "\n",
    "            if weighted is None:\n",
    "                weighted = weighted_temp\n",
    "            else:\n",
    "\n",
    "                weighted = torch.cat((weighted, weighted_temp), dim=1)\n",
    "\n",
    "        # If V, DxD\n",
    "        # return torch.add(embeddings, weighted)\n",
    "        \n",
    "        return torch.matmul(self.Wo, weighted).transpose(1,2)"
   ]
  },
  {
   "cell_type": "code",
   "execution_count": 54,
   "id": "9f1c844e",
   "metadata": {},
   "outputs": [],
   "source": [
    "class MultiheadAttention(nn.Module):\n",
    "    def __init__(\n",
    "        self, num_heads=1, emb_dim=EMBEDDING_SIZE, context_size=CONTEXT_SIZE, p=4\n",
    "    ):\n",
    "        super().__init__()\n",
    "\n",
    "        self.p = p\n",
    "\n",
    "        self.emb_dim = emb_dim\n",
    "        self.num_heads = num_heads\n",
    "        self.head_dim = emb_dim // num_heads\n",
    "        self.p_head_dim = p // num_heads\n",
    "\n",
    "        # Got this from documentation, and I found it usefull\n",
    "        assert (\n",
    "            self.head_dim * num_heads == self.emb_dim\n",
    "        ), \"Dimension of embeddings need to be divisible by the number of heads\"\n",
    "        assert (\n",
    "            self.p_head_dim * num_heads == self.p\n",
    "        ), \"Dimension of p need to be divisible by the number of heads\"\n",
    "\n",
    "        # Like tutorial 6\n",
    "        # self.embeddings = nn.Embedding(vocab_size, emb_dim)\n",
    "        # self.embeddings.load_state_dict(embedding_dict)\n",
    "\n",
    "        # self.identity_matrix = torch.eye(len(train_vocab))\n",
    "        # Freeze the layer\n",
    "        # for p in self.embeddings.parameters():\n",
    "        #    p.requires_grad = False\n",
    "\n",
    "        #Here the first argument should be context size. But if we want to generate longer sequences with a transformer, then the we need larger position matrix\n",
    "\n",
    "        self.pe = create_pe(context_size,emb_dim).to(device)\n",
    "\n",
    "        # Weights in dim PXD\n",
    "\n",
    "        # Using the register parameter to make the different parameters.\n",
    "        for h in range(num_heads):\n",
    "\n",
    "            setattr(self, f'Wq{h}', nn.Linear(emb_dim, p, bias=False))\n",
    "\n",
    "            setattr(self, f'Wk{h}', nn.Linear(emb_dim, p, bias=False))\n",
    "            \n",
    "            setattr(self, f'Wv{h}', nn.Linear(emb_dim, p, bias=False))\n",
    "\n",
    "        \n",
    "        setattr(self, f'Wo', nn.Linear(p, emb_dim, bias=False))\n",
    "\n",
    "    def forward(self, x):\n",
    "        # print(self.embeddings(x).squeeze(0))\n",
    "\n",
    "        # Usikker på om vi skal indexere ut embeddings eller kjøre input gjennom embedding.\n",
    "        # torch.matmul(self.identity_matrix[x], self.embeddings.weight)\n",
    "\n",
    "        x = x + self.pe[:x.shape[1]]\n",
    "\n",
    "        \n",
    "\n",
    "        xs = torch.split(x, self.head_dim, dim=1)\n",
    "\n",
    "        weighted = None\n",
    "        for i, h in enumerate(xs):\n",
    "\n",
    "            wq = getattr(self, f'Wq{i}')\n",
    "            wk = getattr(self, f'Wk{i}')\n",
    "            wv = getattr(self, f'Wv{i}')\n",
    "            \n",
    "\n",
    "            # Get PxD * DxN -> PxN\n",
    "            q = wq(h)\n",
    "\n",
    "            # Get PxD * DxN -> PxN\n",
    "            k_value = wk(h)\n",
    "\n",
    "            # Get PxD * DxN -> PxN\n",
    "            v = wv(h)\n",
    "\n",
    "            \n",
    "\n",
    "            # (K.T * Q)/(emb_dim**0.5) | NxP * PxN -> NxN\n",
    "            scores = torch.bmm(q, k_value.transpose(1, 2)) / self.emb_dim**0.5\n",
    "\n",
    "            # Softmax .sum(dim=2) -> [1,1,1,1]\n",
    "            attention = nn.Softmax(dim=2)(scores)\n",
    "\n",
    "            # PxN * NxN -> PxN\n",
    "            # In the book they used DxD for v.weights, instead of PxD\n",
    "            weighted_temp = torch.bmm(attention, v)\n",
    "\n",
    "            if weighted is None:\n",
    "                weighted = weighted_temp\n",
    "            else:\n",
    "\n",
    "                weighted = torch.cat((weighted, weighted_temp), dim=1)\n",
    "\n",
    "        # If V, DxD\n",
    "        # return torch.add(embeddings, weighted)\n",
    "        \n",
    "        return self.Wo(weighted)"
   ]
  },
  {
   "cell_type": "code",
   "execution_count": 55,
   "id": "f5c8a1de",
   "metadata": {},
   "outputs": [
    {
     "data": {
      "text/plain": [
       "<All keys matched successfully>"
      ]
     },
     "execution_count": 55,
     "metadata": {},
     "output_type": "execute_result"
    }
   ],
   "source": [
    "embeddings_train = nn.Embedding(len(train_vocab), EMBEDDING_SIZE)\n",
    "embeddings_train.load_state_dict(embedding_dict)"
   ]
  },
  {
   "cell_type": "code",
   "execution_count": 56,
   "id": "05abef77",
   "metadata": {},
   "outputs": [],
   "source": [
    "conjugate_words = \"be, am, are, is, was, were, been, being, have, has, had, having\".replace(' ', '').split(',')"
   ]
  },
  {
   "cell_type": "code",
   "execution_count": 57,
   "id": "c9232d4e",
   "metadata": {},
   "outputs": [],
   "source": [
    "train_dataset_t, train_context, train_targets = create_dataset(\n",
    "    train_token, train_vocab, CONTEXT_SIZE, banned_words=[], only_words=conjugate_words, position=\"middle\"\n",
    ")\n",
    "\n",
    "val_dataset_t, val_context, val_targets = create_dataset(\n",
    "    val_token, train_vocab, CONTEXT_SIZE, banned_words=[], only_words=conjugate_words, position=\"middle\"\n",
    ")\n",
    "\n",
    "test_dataset_t, test_context, test_targets = create_dataset(\n",
    "    test_token, train_vocab, CONTEXT_SIZE, banned_words=[], only_words=conjugate_words, position=\"middle\"\n",
    ")"
   ]
  },
  {
   "cell_type": "code",
   "execution_count": 64,
   "id": "87352de4",
   "metadata": {},
   "outputs": [
    {
     "data": {
      "text/plain": [
       "(tensor([ 0,  1,  2,  3,  4,  5,  6,  7,  8,  9, 10, 11]), 124031)"
      ]
     },
     "execution_count": 64,
     "metadata": {},
     "output_type": "execute_result"
    }
   ],
   "source": [
    "torch.unique(train_targets), len(train_dataset_t)"
   ]
  },
  {
   "cell_type": "markdown",
   "id": "b035bbdf",
   "metadata": {},
   "source": [
    "## 2.2 (returning)"
   ]
  },
  {
   "cell_type": "code",
   "execution_count": 65,
   "id": "1e511138",
   "metadata": {},
   "outputs": [],
   "source": [
    "class ConjugationMLP(nn.Module):\n",
    "    def __init__(self, embedding=None, context_size=CONTEXT_SIZE, use_attention=True):\n",
    "        super().__init__()\n",
    "        self.use_attention = use_attention\n",
    "\n",
    "        (vocab_size, embedding_dim) = embedding.weight.shape\n",
    "        # Instantiate an embedding layer\n",
    "        self.embedding = nn.Embedding(vocab_size, embedding_dim)\n",
    "        # Load the pretrained weights\n",
    "        self.embedding.load_state_dict(embedding.state_dict())\n",
    "        # Freeze the layer\n",
    "        for p in self.embedding.parameters():\n",
    "            p.requires_grad = False\n",
    "        \n",
    "        if self.use_attention:\n",
    "            self.multihead = MultiheadAttention(p=embedding_dim, num_heads=4).to(device)\n",
    "\n",
    "        # Regular MLP\n",
    "        self.fc1 = nn.Linear(embedding_dim * context_size, 128)\n",
    "        self.fc2 = nn.Linear(128, 12)\n",
    "\n",
    "    def forward(self, x):\n",
    "        out = self.embedding(x)\n",
    "        # out is now of shape (N, context_size, embedding_dim)\n",
    "\n",
    "        if self.use_attention:\n",
    "            out = self.multihead(out) + out\n",
    "\n",
    "        out = F.relu(self.fc1(torch.flatten(out, 1)))\n",
    "        # out is now of shape (N, context_size*embedding_dim)\n",
    "\n",
    "        out = self.fc2(out)\n",
    "        return out"
   ]
  },
  {
   "cell_type": "markdown",
   "id": "ba5220b1",
   "metadata": {},
   "source": [
    "MLP with attention"
   ]
  },
  {
   "cell_type": "code",
   "execution_count": 66,
   "id": "156135a7",
   "metadata": {
    "lines_to_next_cell": 2
   },
   "outputs": [],
   "source": [
    "torch.manual_seed(seed)\n",
    "tst_MLP_attn = ConjugationMLP(embedding=embeddings_train, use_attention=True).to(device)\n",
    "optimizer = optim.Adam(tst_MLP_attn.parameters())\n",
    "loss_fnc = nn.CrossEntropyLoss().to(device)"
   ]
  },
  {
   "cell_type": "code",
   "execution_count": 67,
   "id": "d8994a91",
   "metadata": {},
   "outputs": [],
   "source": [
    "behave_train_dataloader = DataLoader(train_dataset_t, batch_size=1024, shuffle=True)\n",
    "behave_val_dataloader = DataLoader(val_dataset_t, batch_size=1024, shuffle=True)\n",
    "behave_test_dataloader = DataLoader(test_dataset_t, batch_size=1024, shuffle=False)"
   ]
  },
  {
   "cell_type": "code",
   "execution_count": 68,
   "id": "b60a64ee",
   "metadata": {},
   "outputs": [
    {
     "data": {
      "text/plain": [
       "tensor([ 1,  1,  1, 11, 11], device='cuda:0')"
      ]
     },
     "execution_count": 68,
     "metadata": {},
     "output_type": "execute_result"
    }
   ],
   "source": [
    "tst_MLP_attn(train_dataset_t[0:5][0].to(device)).argmax(dim=1)"
   ]
  },
  {
   "cell_type": "code",
   "execution_count": 69,
   "id": "a592655e",
   "metadata": {},
   "outputs": [],
   "source": [
    "def train_behave(model, optimizer, loss_fn, n_epochs=20):\n",
    "    for epoch in trange(n_epochs, desc=\"Epoch\"):\n",
    "        for context, target in behave_train_dataloader:\n",
    "            context = context.to(device)\n",
    "            target = target.to(device)\n",
    "\n",
    "            output = model(context)\n",
    "            \n",
    "            loss = loss_fn(output, target)\n",
    "            optimizer.zero_grad()\n",
    "            loss.backward()\n",
    "            optimizer.step()\n",
    "\n",
    "        print(f\"Epoch {epoch}, Loss {loss}\")"
   ]
  },
  {
   "cell_type": "code",
   "execution_count": 70,
   "id": "67ac60d4",
   "metadata": {},
   "outputs": [
    {
     "name": "stderr",
     "output_type": "stream",
     "text": [
      "Epoch:   5%|▌         | 1/20 [00:00<00:16,  1.17it/s]"
     ]
    },
    {
     "name": "stdout",
     "output_type": "stream",
     "text": [
      "Epoch 0, Loss 1.2562390565872192\n"
     ]
    },
    {
     "name": "stderr",
     "output_type": "stream",
     "text": [
      "Epoch:  10%|█         | 2/20 [00:01<00:14,  1.25it/s]"
     ]
    },
    {
     "name": "stdout",
     "output_type": "stream",
     "text": [
      "Epoch 1, Loss 1.2357738018035889\n"
     ]
    },
    {
     "name": "stderr",
     "output_type": "stream",
     "text": [
      "Epoch:  15%|█▌        | 3/20 [00:02<00:13,  1.25it/s]"
     ]
    },
    {
     "name": "stdout",
     "output_type": "stream",
     "text": [
      "Epoch 2, Loss 1.003271222114563\n"
     ]
    },
    {
     "name": "stderr",
     "output_type": "stream",
     "text": [
      "Epoch:  20%|██        | 4/20 [00:03<00:12,  1.27it/s]"
     ]
    },
    {
     "name": "stdout",
     "output_type": "stream",
     "text": [
      "Epoch 3, Loss 0.9992084503173828\n"
     ]
    },
    {
     "name": "stderr",
     "output_type": "stream",
     "text": [
      "Epoch:  25%|██▌       | 5/20 [00:03<00:11,  1.29it/s]"
     ]
    },
    {
     "name": "stdout",
     "output_type": "stream",
     "text": [
      "Epoch 4, Loss 0.9895802736282349\n"
     ]
    },
    {
     "name": "stderr",
     "output_type": "stream",
     "text": [
      "Epoch:  30%|███       | 6/20 [00:04<00:10,  1.30it/s]"
     ]
    },
    {
     "name": "stdout",
     "output_type": "stream",
     "text": [
      "Epoch 5, Loss 1.1596808433532715\n"
     ]
    },
    {
     "name": "stderr",
     "output_type": "stream",
     "text": [
      "Epoch:  35%|███▌      | 7/20 [00:05<00:09,  1.31it/s]"
     ]
    },
    {
     "name": "stdout",
     "output_type": "stream",
     "text": [
      "Epoch 6, Loss 1.1765990257263184\n"
     ]
    },
    {
     "name": "stderr",
     "output_type": "stream",
     "text": [
      "Epoch:  40%|████      | 8/20 [00:06<00:09,  1.28it/s]"
     ]
    },
    {
     "name": "stdout",
     "output_type": "stream",
     "text": [
      "Epoch 7, Loss 1.1189799308776855\n"
     ]
    },
    {
     "name": "stderr",
     "output_type": "stream",
     "text": [
      "Epoch:  45%|████▌     | 9/20 [00:07<00:08,  1.29it/s]"
     ]
    },
    {
     "name": "stdout",
     "output_type": "stream",
     "text": [
      "Epoch 8, Loss 1.10977041721344\n"
     ]
    },
    {
     "name": "stderr",
     "output_type": "stream",
     "text": [
      "Epoch:  50%|█████     | 10/20 [00:07<00:07,  1.30it/s]"
     ]
    },
    {
     "name": "stdout",
     "output_type": "stream",
     "text": [
      "Epoch 9, Loss 0.944463312625885\n"
     ]
    },
    {
     "name": "stderr",
     "output_type": "stream",
     "text": [
      "Epoch:  55%|█████▌    | 11/20 [00:08<00:06,  1.29it/s]"
     ]
    },
    {
     "name": "stdout",
     "output_type": "stream",
     "text": [
      "Epoch 10, Loss 0.8962883949279785\n"
     ]
    },
    {
     "name": "stderr",
     "output_type": "stream",
     "text": [
      "Epoch:  60%|██████    | 12/20 [00:09<00:06,  1.29it/s]"
     ]
    },
    {
     "name": "stdout",
     "output_type": "stream",
     "text": [
      "Epoch 11, Loss 0.8975445032119751\n"
     ]
    },
    {
     "name": "stderr",
     "output_type": "stream",
     "text": [
      "Epoch:  65%|██████▌   | 13/20 [00:10<00:05,  1.24it/s]"
     ]
    },
    {
     "name": "stdout",
     "output_type": "stream",
     "text": [
      "Epoch 12, Loss 1.0299983024597168\n"
     ]
    },
    {
     "name": "stderr",
     "output_type": "stream",
     "text": [
      "Epoch:  70%|███████   | 14/20 [00:10<00:04,  1.26it/s]"
     ]
    },
    {
     "name": "stdout",
     "output_type": "stream",
     "text": [
      "Epoch 13, Loss 0.8552301526069641\n"
     ]
    },
    {
     "name": "stderr",
     "output_type": "stream",
     "text": [
      "Epoch:  75%|███████▌  | 15/20 [00:11<00:03,  1.28it/s]"
     ]
    },
    {
     "name": "stdout",
     "output_type": "stream",
     "text": [
      "Epoch 14, Loss 1.1039438247680664\n"
     ]
    },
    {
     "name": "stderr",
     "output_type": "stream",
     "text": [
      "Epoch:  80%|████████  | 16/20 [00:12<00:03,  1.28it/s]"
     ]
    },
    {
     "name": "stdout",
     "output_type": "stream",
     "text": [
      "Epoch 15, Loss 1.0020859241485596\n"
     ]
    },
    {
     "name": "stderr",
     "output_type": "stream",
     "text": [
      "Epoch:  85%|████████▌ | 17/20 [00:13<00:02,  1.29it/s]"
     ]
    },
    {
     "name": "stdout",
     "output_type": "stream",
     "text": [
      "Epoch 16, Loss 0.9543187022209167\n"
     ]
    },
    {
     "name": "stderr",
     "output_type": "stream",
     "text": [
      "Epoch:  90%|█████████ | 18/20 [00:14<00:01,  1.26it/s]"
     ]
    },
    {
     "name": "stdout",
     "output_type": "stream",
     "text": [
      "Epoch 17, Loss 1.0229499340057373\n"
     ]
    },
    {
     "name": "stderr",
     "output_type": "stream",
     "text": [
      "Epoch:  95%|█████████▌| 19/20 [00:14<00:00,  1.27it/s]"
     ]
    },
    {
     "name": "stdout",
     "output_type": "stream",
     "text": [
      "Epoch 18, Loss 0.877811849117279\n"
     ]
    },
    {
     "name": "stderr",
     "output_type": "stream",
     "text": [
      "Epoch: 100%|██████████| 20/20 [00:15<00:00,  1.27it/s]"
     ]
    },
    {
     "name": "stdout",
     "output_type": "stream",
     "text": [
      "Epoch 19, Loss 1.0309011936187744\n"
     ]
    },
    {
     "name": "stderr",
     "output_type": "stream",
     "text": [
      "\n"
     ]
    }
   ],
   "source": [
    "train_behave(tst_MLP_attn, optimizer, loss_fnc)"
   ]
  },
  {
   "cell_type": "code",
   "execution_count": 72,
   "id": "5ae4a931",
   "metadata": {},
   "outputs": [
    {
     "name": "stdout",
     "output_type": "stream",
     "text": [
      "Train accuracy:  tensor(0.6389, device='cuda:0')\n",
      "Validation accuracy:  tensor(0.5101, device='cuda:0')\n"
     ]
    }
   ],
   "source": [
    "print(\"Train accuracy: \", evaluate_model_dataloader(tst_MLP_attn, behave_train_dataloader))\n",
    "print(\"Validation accuracy: \", evaluate_model_dataloader(tst_MLP_attn, behave_val_dataloader))"
   ]
  },
  {
   "cell_type": "markdown",
   "id": "83141d84",
   "metadata": {},
   "source": [
    "MLP with no attention"
   ]
  },
  {
   "cell_type": "code",
   "execution_count": 73,
   "id": "4c9150ca",
   "metadata": {},
   "outputs": [],
   "source": [
    "torch.manual_seed(seed)\n",
    "tst_MLP_no_attn = ConjugationMLP(embedding=embeddings_train, use_attention=False).to(device)\n",
    "optimizer = optim.Adam(tst_MLP_no_attn.parameters())\n",
    "loss_fnc = nn.CrossEntropyLoss().to(device)"
   ]
  },
  {
   "cell_type": "code",
   "execution_count": 75,
   "id": "95063451",
   "metadata": {},
   "outputs": [
    {
     "name": "stderr",
     "output_type": "stream",
     "text": [
      "Epoch:   5%|▌         | 1/20 [00:00<00:14,  1.28it/s]"
     ]
    },
    {
     "name": "stdout",
     "output_type": "stream",
     "text": [
      "Epoch 0, Loss 1.3417067527770996\n"
     ]
    },
    {
     "name": "stderr",
     "output_type": "stream",
     "text": [
      "Epoch:  10%|█         | 2/20 [00:01<00:13,  1.30it/s]"
     ]
    },
    {
     "name": "stdout",
     "output_type": "stream",
     "text": [
      "Epoch 1, Loss 1.150078535079956\n"
     ]
    },
    {
     "name": "stderr",
     "output_type": "stream",
     "text": [
      "Epoch:  15%|█▌        | 3/20 [00:02<00:12,  1.37it/s]"
     ]
    },
    {
     "name": "stdout",
     "output_type": "stream",
     "text": [
      "Epoch 2, Loss 1.1661865711212158\n"
     ]
    },
    {
     "name": "stderr",
     "output_type": "stream",
     "text": [
      "Epoch:  20%|██        | 4/20 [00:02<00:11,  1.37it/s]"
     ]
    },
    {
     "name": "stdout",
     "output_type": "stream",
     "text": [
      "Epoch 3, Loss 1.2251933813095093\n"
     ]
    },
    {
     "name": "stderr",
     "output_type": "stream",
     "text": [
      "Epoch:  25%|██▌       | 5/20 [00:03<00:10,  1.38it/s]"
     ]
    },
    {
     "name": "stdout",
     "output_type": "stream",
     "text": [
      "Epoch 4, Loss 0.9226757884025574\n"
     ]
    },
    {
     "name": "stderr",
     "output_type": "stream",
     "text": [
      "Epoch:  30%|███       | 6/20 [00:04<00:09,  1.40it/s]"
     ]
    },
    {
     "name": "stdout",
     "output_type": "stream",
     "text": [
      "Epoch 5, Loss 1.1862858533859253\n"
     ]
    },
    {
     "name": "stderr",
     "output_type": "stream",
     "text": [
      "Epoch:  35%|███▌      | 7/20 [00:05<00:09,  1.36it/s]"
     ]
    },
    {
     "name": "stdout",
     "output_type": "stream",
     "text": [
      "Epoch 6, Loss 1.0736894607543945\n"
     ]
    },
    {
     "name": "stderr",
     "output_type": "stream",
     "text": [
      "Epoch:  40%|████      | 8/20 [00:05<00:08,  1.38it/s]"
     ]
    },
    {
     "name": "stdout",
     "output_type": "stream",
     "text": [
      "Epoch 7, Loss 0.9538249969482422\n"
     ]
    },
    {
     "name": "stderr",
     "output_type": "stream",
     "text": [
      "Epoch:  45%|████▌     | 9/20 [00:06<00:07,  1.38it/s]"
     ]
    },
    {
     "name": "stdout",
     "output_type": "stream",
     "text": [
      "Epoch 8, Loss 0.8634957671165466\n"
     ]
    },
    {
     "name": "stderr",
     "output_type": "stream",
     "text": [
      "Epoch:  50%|█████     | 10/20 [00:07<00:07,  1.40it/s]"
     ]
    },
    {
     "name": "stdout",
     "output_type": "stream",
     "text": [
      "Epoch 9, Loss 1.1253666877746582\n"
     ]
    },
    {
     "name": "stderr",
     "output_type": "stream",
     "text": [
      "Epoch:  55%|█████▌    | 11/20 [00:07<00:06,  1.39it/s]"
     ]
    },
    {
     "name": "stdout",
     "output_type": "stream",
     "text": [
      "Epoch 10, Loss 0.9879416227340698\n"
     ]
    },
    {
     "name": "stderr",
     "output_type": "stream",
     "text": [
      "Epoch:  60%|██████    | 12/20 [00:08<00:05,  1.35it/s]"
     ]
    },
    {
     "name": "stdout",
     "output_type": "stream",
     "text": [
      "Epoch 11, Loss 0.976795494556427\n"
     ]
    },
    {
     "name": "stderr",
     "output_type": "stream",
     "text": [
      "Epoch:  65%|██████▌   | 13/20 [00:09<00:05,  1.38it/s]"
     ]
    },
    {
     "name": "stdout",
     "output_type": "stream",
     "text": [
      "Epoch 12, Loss 0.9637759923934937\n"
     ]
    },
    {
     "name": "stderr",
     "output_type": "stream",
     "text": [
      "Epoch:  70%|███████   | 14/20 [00:10<00:04,  1.40it/s]"
     ]
    },
    {
     "name": "stdout",
     "output_type": "stream",
     "text": [
      "Epoch 13, Loss 0.9614425301551819\n"
     ]
    },
    {
     "name": "stderr",
     "output_type": "stream",
     "text": [
      "Epoch:  75%|███████▌  | 15/20 [00:10<00:03,  1.40it/s]"
     ]
    },
    {
     "name": "stdout",
     "output_type": "stream",
     "text": [
      "Epoch 14, Loss 0.967290461063385\n"
     ]
    },
    {
     "name": "stderr",
     "output_type": "stream",
     "text": [
      "Epoch:  80%|████████  | 16/20 [00:11<00:02,  1.42it/s]"
     ]
    },
    {
     "name": "stdout",
     "output_type": "stream",
     "text": [
      "Epoch 15, Loss 1.0905230045318604\n"
     ]
    },
    {
     "name": "stderr",
     "output_type": "stream",
     "text": [
      "Epoch:  85%|████████▌ | 17/20 [00:12<00:02,  1.40it/s]"
     ]
    },
    {
     "name": "stdout",
     "output_type": "stream",
     "text": [
      "Epoch 16, Loss 0.8454235196113586\n"
     ]
    },
    {
     "name": "stderr",
     "output_type": "stream",
     "text": [
      "Epoch:  90%|█████████ | 18/20 [00:12<00:01,  1.43it/s]"
     ]
    },
    {
     "name": "stdout",
     "output_type": "stream",
     "text": [
      "Epoch 17, Loss 1.049432396888733\n"
     ]
    },
    {
     "name": "stderr",
     "output_type": "stream",
     "text": [
      "Epoch:  95%|█████████▌| 19/20 [00:13<00:00,  1.45it/s]"
     ]
    },
    {
     "name": "stdout",
     "output_type": "stream",
     "text": [
      "Epoch 18, Loss 0.9667262434959412\n"
     ]
    },
    {
     "name": "stderr",
     "output_type": "stream",
     "text": [
      "Epoch: 100%|██████████| 20/20 [00:14<00:00,  1.40it/s]"
     ]
    },
    {
     "name": "stdout",
     "output_type": "stream",
     "text": [
      "Epoch 19, Loss 1.0290871858596802\n"
     ]
    },
    {
     "name": "stderr",
     "output_type": "stream",
     "text": [
      "\n"
     ]
    }
   ],
   "source": [
    "train_behave(tst_MLP_no_attn, optimizer, loss_fnc)"
   ]
  },
  {
   "cell_type": "code",
   "execution_count": 76,
   "id": "fd82862c",
   "metadata": {},
   "outputs": [
    {
     "name": "stdout",
     "output_type": "stream",
     "text": [
      "Train accuracy:  tensor(0.6411, device='cuda:0')\n",
      "Validation accuracy:  tensor(0.5111, device='cuda:0')\n"
     ]
    }
   ],
   "source": [
    "print(\"Train accuracy: \", evaluate_model_dataloader(tst_MLP_no_attn, behave_train_dataloader))\n",
    "print(\"Validation accuracy: \", evaluate_model_dataloader(tst_MLP_no_attn, behave_val_dataloader))"
   ]
  },
  {
   "cell_type": "markdown",
   "id": "47f444cf",
   "metadata": {},
   "source": [
    "RNN for be-have conjugation"
   ]
  },
  {
   "cell_type": "code",
   "execution_count": 77,
   "id": "ad5261db",
   "metadata": {},
   "outputs": [],
   "source": [
    "class ConjugationRNN(nn.Module):\n",
    "    def __init__(self, embedding=None, context_size=CONTEXT_SIZE, rnn_hidden_size=128, rnn_num_layers=1):\n",
    "        super().__init__()\n",
    "        \n",
    "        self.rnn_hidden_size = rnn_hidden_size\n",
    "        self.rnn_num_layers = rnn_num_layers\n",
    "        \n",
    "        (vocab_size, embedding_dim) = embedding.weight.shape\n",
    "        # Instantiate an embedding layer\n",
    "        self.embedding = nn.Embedding(vocab_size, embedding_dim)\n",
    "        # Load the pretrained weights\n",
    "        self.embedding.load_state_dict(embedding.state_dict())\n",
    "        # Freeze the layer\n",
    "        for p in self.embedding.parameters():\n",
    "            p.requires_grad = False\n",
    "        \n",
    "        # LSTM layer\n",
    "        self.lstm = nn.LSTM(\n",
    "            input_size=embedding_dim, hidden_size=self.rnn_hidden_size, num_layers=self.rnn_num_layers,\n",
    "            batch_first=True)\n",
    "\n",
    "        # Linear layers\n",
    "        self.fc1 = nn.Linear(self.rnn_hidden_size * context_size, 128)\n",
    "        self.fc2 = nn.Linear(128, 12)\n",
    "\n",
    "    def forward(self, x):\n",
    "        out = self.embedding(x)\n",
    "        # out is now of shape (N, context_size, embedding_dim)\n",
    "\n",
    "        # LSTM layer\n",
    "        out, _ = self.lstm(out)\n",
    "        # out is now of shape (N, context_size, hidden_size)\n",
    "\n",
    "        out = F.relu(self.fc1(torch.flatten(out, 1)))\n",
    "        # out is now of shape (N, context_size*hidden_size)\n",
    "\n",
    "        out = self.fc2(out)\n",
    "        return out"
   ]
  },
  {
   "cell_type": "code",
   "execution_count": 78,
   "id": "5979fdb2",
   "metadata": {},
   "outputs": [],
   "source": [
    "torch.manual_seed(seed)\n",
    "tst_RNN = ConjugationRNN(embedding=embeddings_train).to(device)\n",
    "optimizer = optim.Adam(tst_RNN.parameters())\n",
    "loss_fnc = nn.CrossEntropyLoss().to(device)"
   ]
  },
  {
   "cell_type": "code",
   "execution_count": 80,
   "id": "b96074d0",
   "metadata": {},
   "outputs": [
    {
     "name": "stderr",
     "output_type": "stream",
     "text": [
      "Epoch:   5%|▌         | 1/20 [00:01<00:21,  1.15s/it]"
     ]
    },
    {
     "name": "stdout",
     "output_type": "stream",
     "text": [
      "Epoch 0, Loss 1.0712254047393799\n"
     ]
    },
    {
     "name": "stderr",
     "output_type": "stream",
     "text": [
      "Epoch:  10%|█         | 2/20 [00:01<00:16,  1.07it/s]"
     ]
    },
    {
     "name": "stdout",
     "output_type": "stream",
     "text": [
      "Epoch 1, Loss 1.1797449588775635\n"
     ]
    },
    {
     "name": "stderr",
     "output_type": "stream",
     "text": [
      "Epoch:  15%|█▌        | 3/20 [00:02<00:14,  1.14it/s]"
     ]
    },
    {
     "name": "stdout",
     "output_type": "stream",
     "text": [
      "Epoch 2, Loss 1.1093422174453735\n"
     ]
    },
    {
     "name": "stderr",
     "output_type": "stream",
     "text": [
      "Epoch:  20%|██        | 4/20 [00:03<00:13,  1.19it/s]"
     ]
    },
    {
     "name": "stdout",
     "output_type": "stream",
     "text": [
      "Epoch 3, Loss 1.062217354774475\n"
     ]
    },
    {
     "name": "stderr",
     "output_type": "stream",
     "text": [
      "Epoch:  25%|██▌       | 5/20 [00:04<00:12,  1.22it/s]"
     ]
    },
    {
     "name": "stdout",
     "output_type": "stream",
     "text": [
      "Epoch 4, Loss 0.9340625405311584\n"
     ]
    },
    {
     "name": "stderr",
     "output_type": "stream",
     "text": [
      "Epoch:  30%|███       | 6/20 [00:05<00:11,  1.24it/s]"
     ]
    },
    {
     "name": "stdout",
     "output_type": "stream",
     "text": [
      "Epoch 5, Loss 1.039075255393982\n"
     ]
    },
    {
     "name": "stderr",
     "output_type": "stream",
     "text": [
      "Epoch:  35%|███▌      | 7/20 [00:05<00:10,  1.22it/s]"
     ]
    },
    {
     "name": "stdout",
     "output_type": "stream",
     "text": [
      "Epoch 6, Loss 1.1482490301132202\n"
     ]
    },
    {
     "name": "stderr",
     "output_type": "stream",
     "text": [
      "Epoch:  40%|████      | 8/20 [00:06<00:09,  1.24it/s]"
     ]
    },
    {
     "name": "stdout",
     "output_type": "stream",
     "text": [
      "Epoch 7, Loss 0.9094465970993042\n"
     ]
    },
    {
     "name": "stderr",
     "output_type": "stream",
     "text": [
      "Epoch:  45%|████▌     | 9/20 [00:07<00:08,  1.26it/s]"
     ]
    },
    {
     "name": "stdout",
     "output_type": "stream",
     "text": [
      "Epoch 8, Loss 0.8865634202957153\n"
     ]
    },
    {
     "name": "stderr",
     "output_type": "stream",
     "text": [
      "Epoch:  50%|█████     | 10/20 [00:08<00:07,  1.26it/s]"
     ]
    },
    {
     "name": "stdout",
     "output_type": "stream",
     "text": [
      "Epoch 9, Loss 0.7995813488960266\n"
     ]
    },
    {
     "name": "stderr",
     "output_type": "stream",
     "text": [
      "Epoch:  55%|█████▌    | 11/20 [00:09<00:07,  1.27it/s]"
     ]
    },
    {
     "name": "stdout",
     "output_type": "stream",
     "text": [
      "Epoch 10, Loss 0.9794569611549377\n"
     ]
    },
    {
     "name": "stderr",
     "output_type": "stream",
     "text": [
      "Epoch:  60%|██████    | 12/20 [00:09<00:06,  1.24it/s]"
     ]
    },
    {
     "name": "stdout",
     "output_type": "stream",
     "text": [
      "Epoch 11, Loss 0.8628477454185486\n"
     ]
    },
    {
     "name": "stderr",
     "output_type": "stream",
     "text": [
      "Epoch:  65%|██████▌   | 13/20 [00:10<00:05,  1.25it/s]"
     ]
    },
    {
     "name": "stdout",
     "output_type": "stream",
     "text": [
      "Epoch 12, Loss 0.7104310989379883\n"
     ]
    },
    {
     "name": "stderr",
     "output_type": "stream",
     "text": [
      "Epoch:  70%|███████   | 14/20 [00:11<00:04,  1.26it/s]"
     ]
    },
    {
     "name": "stdout",
     "output_type": "stream",
     "text": [
      "Epoch 13, Loss 0.7543728947639465\n"
     ]
    },
    {
     "name": "stderr",
     "output_type": "stream",
     "text": [
      "Epoch:  75%|███████▌  | 15/20 [00:12<00:03,  1.26it/s]"
     ]
    },
    {
     "name": "stdout",
     "output_type": "stream",
     "text": [
      "Epoch 14, Loss 0.7930043339729309\n"
     ]
    },
    {
     "name": "stderr",
     "output_type": "stream",
     "text": [
      "Epoch:  80%|████████  | 16/20 [00:13<00:03,  1.27it/s]"
     ]
    },
    {
     "name": "stdout",
     "output_type": "stream",
     "text": [
      "Epoch 15, Loss 0.7462414503097534\n"
     ]
    },
    {
     "name": "stderr",
     "output_type": "stream",
     "text": [
      "Epoch:  85%|████████▌ | 17/20 [00:13<00:02,  1.24it/s]"
     ]
    },
    {
     "name": "stdout",
     "output_type": "stream",
     "text": [
      "Epoch 16, Loss 0.8307874798774719\n"
     ]
    },
    {
     "name": "stderr",
     "output_type": "stream",
     "text": [
      "Epoch:  90%|█████████ | 18/20 [00:14<00:01,  1.25it/s]"
     ]
    },
    {
     "name": "stdout",
     "output_type": "stream",
     "text": [
      "Epoch 17, Loss 0.7527005076408386\n"
     ]
    },
    {
     "name": "stderr",
     "output_type": "stream",
     "text": [
      "Epoch:  95%|█████████▌| 19/20 [00:15<00:00,  1.26it/s]"
     ]
    },
    {
     "name": "stdout",
     "output_type": "stream",
     "text": [
      "Epoch 18, Loss 0.5843532085418701\n"
     ]
    },
    {
     "name": "stderr",
     "output_type": "stream",
     "text": [
      "Epoch: 100%|██████████| 20/20 [00:16<00:00,  1.23it/s]"
     ]
    },
    {
     "name": "stdout",
     "output_type": "stream",
     "text": [
      "Epoch 19, Loss 0.7483294606208801\n"
     ]
    },
    {
     "name": "stderr",
     "output_type": "stream",
     "text": [
      "\n"
     ]
    }
   ],
   "source": [
    "train_behave(tst_RNN, optimizer, loss_fnc)"
   ]
  },
  {
   "cell_type": "code",
   "execution_count": 81,
   "id": "c1670976",
   "metadata": {},
   "outputs": [
    {
     "name": "stdout",
     "output_type": "stream",
     "text": [
      "Train accuracy:  tensor(0.7087, device='cuda:0')\n",
      "Validation accuracy:  tensor(0.5387, device='cuda:0')\n"
     ]
    }
   ],
   "source": [
    "print(\"Train accuracy: \", evaluate_model_dataloader(tst_RNN, behave_train_dataloader))\n",
    "print(\"Validation accuracy: \", evaluate_model_dataloader(tst_RNN, behave_val_dataloader))"
   ]
  },
  {
   "cell_type": "markdown",
   "id": "026ed9e8",
   "metadata": {},
   "source": [
    "Be-have conjugation model selection"
   ]
  },
  {
   "cell_type": "code",
   "execution_count": 84,
   "id": "ee881904",
   "metadata": {},
   "outputs": [],
   "source": [
    "def behave_grid_search_generator():\n",
    "    for n_epochs in [15, 20]:\n",
    "        for model_class in [\"MLP\", \"RNN\"]:\n",
    "            match model_class:\n",
    "                case \"MLP\":\n",
    "                    for use_attention in [False, True]:\n",
    "                        torch.manual_seed(seed)\n",
    "                        model = ConjugationMLP(embedding=embeddings_train, use_attention=use_attention).to(device)\n",
    "                        yield model, [n_epochs, model_class, use_attention]\n",
    "                case \"RNN\":\n",
    "                    for n_layers in [1, 2]:\n",
    "                        for hidden_size in [64, 128]:\n",
    "                            torch.manual_seed(seed)\n",
    "                            model = ConjugationRNN(embedding=embeddings_train, rnn_hidden_size=hidden_size, rnn_num_layers=n_layers).to(device)\n",
    "                            yield model, [n_epochs, model_class, n_layers, hidden_size]\n",
    "                case _:\n",
    "                    print(f\"Unrecognized model_class {model_class}\")"
   ]
  },
  {
   "cell_type": "code",
   "execution_count": 85,
   "id": "1ed44320",
   "metadata": {},
   "outputs": [
    {
     "name": "stdout",
     "output_type": "stream",
     "text": [
      "Training model with hyperparams=[15, 'MLP', False]\n"
     ]
    },
    {
     "name": "stderr",
     "output_type": "stream",
     "text": [
      "Epoch:   7%|▋         | 1/15 [00:00<00:10,  1.28it/s]"
     ]
    },
    {
     "name": "stdout",
     "output_type": "stream",
     "text": [
      "Epoch 0, Loss 1.3417067527770996\n"
     ]
    },
    {
     "name": "stderr",
     "output_type": "stream",
     "text": [
      "Epoch:  13%|█▎        | 2/15 [00:01<00:09,  1.43it/s]"
     ]
    },
    {
     "name": "stdout",
     "output_type": "stream",
     "text": [
      "Epoch 1, Loss 1.150078535079956\n"
     ]
    },
    {
     "name": "stderr",
     "output_type": "stream",
     "text": [
      "Epoch:  20%|██        | 3/15 [00:02<00:08,  1.47it/s]"
     ]
    },
    {
     "name": "stdout",
     "output_type": "stream",
     "text": [
      "Epoch 2, Loss 1.1661865711212158\n"
     ]
    },
    {
     "name": "stderr",
     "output_type": "stream",
     "text": [
      "Epoch:  27%|██▋       | 4/15 [00:02<00:07,  1.49it/s]"
     ]
    },
    {
     "name": "stdout",
     "output_type": "stream",
     "text": [
      "Epoch 3, Loss 1.2251933813095093\n"
     ]
    },
    {
     "name": "stderr",
     "output_type": "stream",
     "text": [
      "Epoch:  33%|███▎      | 5/15 [00:03<00:06,  1.50it/s]"
     ]
    },
    {
     "name": "stdout",
     "output_type": "stream",
     "text": [
      "Epoch 4, Loss 0.9226757884025574\n"
     ]
    },
    {
     "name": "stderr",
     "output_type": "stream",
     "text": [
      "Epoch:  40%|████      | 6/15 [00:03<00:05,  1.57it/s]"
     ]
    },
    {
     "name": "stdout",
     "output_type": "stream",
     "text": [
      "Epoch 5, Loss 1.1862858533859253\n"
     ]
    },
    {
     "name": "stderr",
     "output_type": "stream",
     "text": [
      "Epoch:  47%|████▋     | 7/15 [00:04<00:05,  1.57it/s]"
     ]
    },
    {
     "name": "stdout",
     "output_type": "stream",
     "text": [
      "Epoch 6, Loss 1.0736894607543945\n"
     ]
    },
    {
     "name": "stderr",
     "output_type": "stream",
     "text": [
      "Epoch:  53%|█████▎    | 8/15 [00:05<00:04,  1.55it/s]"
     ]
    },
    {
     "name": "stdout",
     "output_type": "stream",
     "text": [
      "Epoch 7, Loss 0.9538249969482422\n"
     ]
    },
    {
     "name": "stderr",
     "output_type": "stream",
     "text": [
      "Epoch:  60%|██████    | 9/15 [00:05<00:03,  1.53it/s]"
     ]
    },
    {
     "name": "stdout",
     "output_type": "stream",
     "text": [
      "Epoch 8, Loss 0.8634957671165466\n"
     ]
    },
    {
     "name": "stderr",
     "output_type": "stream",
     "text": [
      "Epoch:  67%|██████▋   | 10/15 [00:06<00:03,  1.46it/s]"
     ]
    },
    {
     "name": "stdout",
     "output_type": "stream",
     "text": [
      "Epoch 9, Loss 1.1253666877746582\n"
     ]
    },
    {
     "name": "stderr",
     "output_type": "stream",
     "text": [
      "Epoch:  73%|███████▎  | 11/15 [00:07<00:02,  1.48it/s]"
     ]
    },
    {
     "name": "stdout",
     "output_type": "stream",
     "text": [
      "Epoch 10, Loss 0.9879416227340698\n"
     ]
    },
    {
     "name": "stderr",
     "output_type": "stream",
     "text": [
      "Epoch:  80%|████████  | 12/15 [00:07<00:01,  1.52it/s]"
     ]
    },
    {
     "name": "stdout",
     "output_type": "stream",
     "text": [
      "Epoch 11, Loss 0.976795494556427\n"
     ]
    },
    {
     "name": "stderr",
     "output_type": "stream",
     "text": [
      "Epoch:  87%|████████▋ | 13/15 [00:08<00:01,  1.55it/s]"
     ]
    },
    {
     "name": "stdout",
     "output_type": "stream",
     "text": [
      "Epoch 12, Loss 0.9637759923934937\n"
     ]
    },
    {
     "name": "stderr",
     "output_type": "stream",
     "text": [
      "Epoch:  93%|█████████▎| 14/15 [00:09<00:00,  1.56it/s]"
     ]
    },
    {
     "name": "stdout",
     "output_type": "stream",
     "text": [
      "Epoch 13, Loss 0.9614425301551819\n"
     ]
    },
    {
     "name": "stderr",
     "output_type": "stream",
     "text": [
      "Epoch: 100%|██████████| 15/15 [00:09<00:00,  1.52it/s]"
     ]
    },
    {
     "name": "stdout",
     "output_type": "stream",
     "text": [
      "Epoch 14, Loss 0.967290461063385\n"
     ]
    },
    {
     "name": "stderr",
     "output_type": "stream",
     "text": [
      "\n"
     ]
    },
    {
     "name": "stdout",
     "output_type": "stream",
     "text": [
      "Training model with hyperparams=[15, 'MLP', True]\n"
     ]
    },
    {
     "name": "stderr",
     "output_type": "stream",
     "text": [
      "Epoch:   7%|▋         | 1/15 [00:00<00:10,  1.32it/s]"
     ]
    },
    {
     "name": "stdout",
     "output_type": "stream",
     "text": [
      "Epoch 0, Loss 1.2562390565872192\n"
     ]
    },
    {
     "name": "stderr",
     "output_type": "stream",
     "text": [
      "Epoch:  13%|█▎        | 2/15 [00:01<00:09,  1.31it/s]"
     ]
    },
    {
     "name": "stdout",
     "output_type": "stream",
     "text": [
      "Epoch 1, Loss 1.2357738018035889\n"
     ]
    },
    {
     "name": "stderr",
     "output_type": "stream",
     "text": [
      "Epoch:  20%|██        | 3/15 [00:02<00:09,  1.31it/s]"
     ]
    },
    {
     "name": "stdout",
     "output_type": "stream",
     "text": [
      "Epoch 2, Loss 1.003271222114563\n"
     ]
    },
    {
     "name": "stderr",
     "output_type": "stream",
     "text": [
      "Epoch:  27%|██▋       | 4/15 [00:03<00:08,  1.30it/s]"
     ]
    },
    {
     "name": "stdout",
     "output_type": "stream",
     "text": [
      "Epoch 3, Loss 0.9992084503173828\n"
     ]
    },
    {
     "name": "stderr",
     "output_type": "stream",
     "text": [
      "Epoch:  33%|███▎      | 5/15 [00:03<00:07,  1.30it/s]"
     ]
    },
    {
     "name": "stdout",
     "output_type": "stream",
     "text": [
      "Epoch 4, Loss 0.9895802736282349\n"
     ]
    },
    {
     "name": "stderr",
     "output_type": "stream",
     "text": [
      "Epoch:  40%|████      | 6/15 [00:04<00:06,  1.31it/s]"
     ]
    },
    {
     "name": "stdout",
     "output_type": "stream",
     "text": [
      "Epoch 5, Loss 1.1596808433532715\n"
     ]
    },
    {
     "name": "stderr",
     "output_type": "stream",
     "text": [
      "Epoch:  47%|████▋     | 7/15 [00:05<00:06,  1.31it/s]"
     ]
    },
    {
     "name": "stdout",
     "output_type": "stream",
     "text": [
      "Epoch 6, Loss 1.1765990257263184\n"
     ]
    },
    {
     "name": "stderr",
     "output_type": "stream",
     "text": [
      "Epoch:  53%|█████▎    | 8/15 [00:06<00:05,  1.35it/s]"
     ]
    },
    {
     "name": "stdout",
     "output_type": "stream",
     "text": [
      "Epoch 7, Loss 1.1189799308776855\n"
     ]
    },
    {
     "name": "stderr",
     "output_type": "stream",
     "text": [
      "Epoch:  60%|██████    | 9/15 [00:06<00:04,  1.34it/s]"
     ]
    },
    {
     "name": "stdout",
     "output_type": "stream",
     "text": [
      "Epoch 8, Loss 1.10977041721344\n"
     ]
    },
    {
     "name": "stderr",
     "output_type": "stream",
     "text": [
      "Epoch:  67%|██████▋   | 10/15 [00:07<00:03,  1.34it/s]"
     ]
    },
    {
     "name": "stdout",
     "output_type": "stream",
     "text": [
      "Epoch 9, Loss 0.944463312625885\n"
     ]
    },
    {
     "name": "stderr",
     "output_type": "stream",
     "text": [
      "Epoch:  73%|███████▎  | 11/15 [00:08<00:02,  1.34it/s]"
     ]
    },
    {
     "name": "stdout",
     "output_type": "stream",
     "text": [
      "Epoch 10, Loss 0.8962883949279785\n"
     ]
    },
    {
     "name": "stderr",
     "output_type": "stream",
     "text": [
      "Epoch:  80%|████████  | 12/15 [00:09<00:02,  1.32it/s]"
     ]
    },
    {
     "name": "stdout",
     "output_type": "stream",
     "text": [
      "Epoch 11, Loss 0.8975445032119751\n"
     ]
    },
    {
     "name": "stderr",
     "output_type": "stream",
     "text": [
      "Epoch:  87%|████████▋ | 13/15 [00:09<00:01,  1.32it/s]"
     ]
    },
    {
     "name": "stdout",
     "output_type": "stream",
     "text": [
      "Epoch 12, Loss 1.0299983024597168\n"
     ]
    },
    {
     "name": "stderr",
     "output_type": "stream",
     "text": [
      "Epoch:  93%|█████████▎| 14/15 [00:10<00:00,  1.32it/s]"
     ]
    },
    {
     "name": "stdout",
     "output_type": "stream",
     "text": [
      "Epoch 13, Loss 0.8552301526069641\n"
     ]
    },
    {
     "name": "stderr",
     "output_type": "stream",
     "text": [
      "Epoch: 100%|██████████| 15/15 [00:11<00:00,  1.32it/s]"
     ]
    },
    {
     "name": "stdout",
     "output_type": "stream",
     "text": [
      "Epoch 14, Loss 1.1039438247680664\n"
     ]
    },
    {
     "name": "stderr",
     "output_type": "stream",
     "text": [
      "\n"
     ]
    },
    {
     "name": "stdout",
     "output_type": "stream",
     "text": [
      "Training model with hyperparams=[15, 'RNN', 1, 64]\n"
     ]
    },
    {
     "name": "stderr",
     "output_type": "stream",
     "text": [
      "Epoch:   7%|▋         | 1/15 [00:00<00:09,  1.46it/s]"
     ]
    },
    {
     "name": "stdout",
     "output_type": "stream",
     "text": [
      "Epoch 0, Loss 1.3904597759246826\n"
     ]
    },
    {
     "name": "stderr",
     "output_type": "stream",
     "text": [
      "Epoch:  13%|█▎        | 2/15 [00:01<00:08,  1.46it/s]"
     ]
    },
    {
     "name": "stdout",
     "output_type": "stream",
     "text": [
      "Epoch 1, Loss 1.0446608066558838\n"
     ]
    },
    {
     "name": "stderr",
     "output_type": "stream",
     "text": [
      "Epoch:  20%|██        | 3/15 [00:02<00:08,  1.45it/s]"
     ]
    },
    {
     "name": "stdout",
     "output_type": "stream",
     "text": [
      "Epoch 2, Loss 1.1410789489746094\n"
     ]
    },
    {
     "name": "stderr",
     "output_type": "stream",
     "text": [
      "Epoch:  27%|██▋       | 4/15 [00:02<00:07,  1.46it/s]"
     ]
    },
    {
     "name": "stdout",
     "output_type": "stream",
     "text": [
      "Epoch 3, Loss 0.9526775479316711\n"
     ]
    },
    {
     "name": "stderr",
     "output_type": "stream",
     "text": [
      "Epoch:  33%|███▎      | 5/15 [00:03<00:06,  1.45it/s]"
     ]
    },
    {
     "name": "stdout",
     "output_type": "stream",
     "text": [
      "Epoch 4, Loss 1.1271010637283325\n"
     ]
    },
    {
     "name": "stderr",
     "output_type": "stream",
     "text": [
      "Epoch:  40%|████      | 6/15 [00:04<00:06,  1.45it/s]"
     ]
    },
    {
     "name": "stdout",
     "output_type": "stream",
     "text": [
      "Epoch 5, Loss 1.0442330837249756\n"
     ]
    },
    {
     "name": "stderr",
     "output_type": "stream",
     "text": [
      "Epoch:  47%|████▋     | 7/15 [00:04<00:05,  1.44it/s]"
     ]
    },
    {
     "name": "stdout",
     "output_type": "stream",
     "text": [
      "Epoch 6, Loss 0.946201741695404\n"
     ]
    },
    {
     "name": "stderr",
     "output_type": "stream",
     "text": [
      "Epoch:  53%|█████▎    | 8/15 [00:05<00:04,  1.44it/s]"
     ]
    },
    {
     "name": "stdout",
     "output_type": "stream",
     "text": [
      "Epoch 7, Loss 0.9583057165145874\n"
     ]
    },
    {
     "name": "stderr",
     "output_type": "stream",
     "text": [
      "Epoch:  60%|██████    | 9/15 [00:06<00:04,  1.43it/s]"
     ]
    },
    {
     "name": "stdout",
     "output_type": "stream",
     "text": [
      "Epoch 8, Loss 1.0073667764663696\n"
     ]
    },
    {
     "name": "stderr",
     "output_type": "stream",
     "text": [
      "Epoch:  67%|██████▋   | 10/15 [00:06<00:03,  1.48it/s]"
     ]
    },
    {
     "name": "stdout",
     "output_type": "stream",
     "text": [
      "Epoch 9, Loss 0.9580730199813843\n"
     ]
    },
    {
     "name": "stderr",
     "output_type": "stream",
     "text": [
      "Epoch:  73%|███████▎  | 11/15 [00:07<00:02,  1.48it/s]"
     ]
    },
    {
     "name": "stdout",
     "output_type": "stream",
     "text": [
      "Epoch 10, Loss 1.0159984827041626\n"
     ]
    },
    {
     "name": "stderr",
     "output_type": "stream",
     "text": [
      "Epoch:  80%|████████  | 12/15 [00:08<00:02,  1.47it/s]"
     ]
    },
    {
     "name": "stdout",
     "output_type": "stream",
     "text": [
      "Epoch 11, Loss 1.028897762298584\n"
     ]
    },
    {
     "name": "stderr",
     "output_type": "stream",
     "text": [
      "Epoch:  87%|████████▋ | 13/15 [00:08<00:01,  1.45it/s]"
     ]
    },
    {
     "name": "stdout",
     "output_type": "stream",
     "text": [
      "Epoch 12, Loss 0.9530931115150452\n"
     ]
    },
    {
     "name": "stderr",
     "output_type": "stream",
     "text": [
      "Epoch:  93%|█████████▎| 14/15 [00:09<00:00,  1.45it/s]"
     ]
    },
    {
     "name": "stdout",
     "output_type": "stream",
     "text": [
      "Epoch 13, Loss 0.9194236397743225\n"
     ]
    },
    {
     "name": "stderr",
     "output_type": "stream",
     "text": [
      "Epoch: 100%|██████████| 15/15 [00:10<00:00,  1.45it/s]"
     ]
    },
    {
     "name": "stdout",
     "output_type": "stream",
     "text": [
      "Epoch 14, Loss 0.8663085699081421\n"
     ]
    },
    {
     "name": "stderr",
     "output_type": "stream",
     "text": [
      "\n"
     ]
    },
    {
     "name": "stdout",
     "output_type": "stream",
     "text": [
      "Training model with hyperparams=[15, 'RNN', 1, 128]\n"
     ]
    },
    {
     "name": "stderr",
     "output_type": "stream",
     "text": [
      "Epoch:   7%|▋         | 1/15 [00:00<00:10,  1.29it/s]"
     ]
    },
    {
     "name": "stdout",
     "output_type": "stream",
     "text": [
      "Epoch 0, Loss 1.0712254047393799\n"
     ]
    },
    {
     "name": "stderr",
     "output_type": "stream",
     "text": [
      "Epoch:  13%|█▎        | 2/15 [00:01<00:10,  1.29it/s]"
     ]
    },
    {
     "name": "stdout",
     "output_type": "stream",
     "text": [
      "Epoch 1, Loss 1.1797449588775635\n"
     ]
    },
    {
     "name": "stderr",
     "output_type": "stream",
     "text": [
      "Epoch:  20%|██        | 3/15 [00:02<00:09,  1.28it/s]"
     ]
    },
    {
     "name": "stdout",
     "output_type": "stream",
     "text": [
      "Epoch 2, Loss 1.1093422174453735\n"
     ]
    },
    {
     "name": "stderr",
     "output_type": "stream",
     "text": [
      "Epoch:  27%|██▋       | 4/15 [00:03<00:08,  1.27it/s]"
     ]
    },
    {
     "name": "stdout",
     "output_type": "stream",
     "text": [
      "Epoch 3, Loss 1.062217354774475\n"
     ]
    },
    {
     "name": "stderr",
     "output_type": "stream",
     "text": [
      "Epoch:  33%|███▎      | 5/15 [00:03<00:07,  1.27it/s]"
     ]
    },
    {
     "name": "stdout",
     "output_type": "stream",
     "text": [
      "Epoch 4, Loss 0.9340625405311584\n"
     ]
    },
    {
     "name": "stderr",
     "output_type": "stream",
     "text": [
      "Epoch:  40%|████      | 6/15 [00:04<00:07,  1.28it/s]"
     ]
    },
    {
     "name": "stdout",
     "output_type": "stream",
     "text": [
      "Epoch 5, Loss 1.039075255393982\n"
     ]
    },
    {
     "name": "stderr",
     "output_type": "stream",
     "text": [
      "Epoch:  47%|████▋     | 7/15 [00:05<00:06,  1.28it/s]"
     ]
    },
    {
     "name": "stdout",
     "output_type": "stream",
     "text": [
      "Epoch 6, Loss 1.1482490301132202\n"
     ]
    },
    {
     "name": "stderr",
     "output_type": "stream",
     "text": [
      "Epoch:  53%|█████▎    | 8/15 [00:06<00:05,  1.28it/s]"
     ]
    },
    {
     "name": "stdout",
     "output_type": "stream",
     "text": [
      "Epoch 7, Loss 0.9094465970993042\n"
     ]
    },
    {
     "name": "stderr",
     "output_type": "stream",
     "text": [
      "Epoch:  60%|██████    | 9/15 [00:07<00:04,  1.28it/s]"
     ]
    },
    {
     "name": "stdout",
     "output_type": "stream",
     "text": [
      "Epoch 8, Loss 0.8865634202957153\n"
     ]
    },
    {
     "name": "stderr",
     "output_type": "stream",
     "text": [
      "Epoch:  67%|██████▋   | 10/15 [00:07<00:03,  1.27it/s]"
     ]
    },
    {
     "name": "stdout",
     "output_type": "stream",
     "text": [
      "Epoch 9, Loss 0.7995813488960266\n"
     ]
    },
    {
     "name": "stderr",
     "output_type": "stream",
     "text": [
      "Epoch:  73%|███████▎  | 11/15 [00:08<00:03,  1.27it/s]"
     ]
    },
    {
     "name": "stdout",
     "output_type": "stream",
     "text": [
      "Epoch 10, Loss 0.9794569611549377\n"
     ]
    },
    {
     "name": "stderr",
     "output_type": "stream",
     "text": [
      "Epoch:  80%|████████  | 12/15 [00:09<00:02,  1.31it/s]"
     ]
    },
    {
     "name": "stdout",
     "output_type": "stream",
     "text": [
      "Epoch 11, Loss 0.8628477454185486\n"
     ]
    },
    {
     "name": "stderr",
     "output_type": "stream",
     "text": [
      "Epoch:  87%|████████▋ | 13/15 [00:10<00:01,  1.30it/s]"
     ]
    },
    {
     "name": "stdout",
     "output_type": "stream",
     "text": [
      "Epoch 12, Loss 0.7104310989379883\n"
     ]
    },
    {
     "name": "stderr",
     "output_type": "stream",
     "text": [
      "Epoch:  93%|█████████▎| 14/15 [00:10<00:00,  1.29it/s]"
     ]
    },
    {
     "name": "stdout",
     "output_type": "stream",
     "text": [
      "Epoch 13, Loss 0.7543728947639465\n"
     ]
    },
    {
     "name": "stderr",
     "output_type": "stream",
     "text": [
      "Epoch: 100%|██████████| 15/15 [00:11<00:00,  1.28it/s]"
     ]
    },
    {
     "name": "stdout",
     "output_type": "stream",
     "text": [
      "Epoch 14, Loss 0.7930043339729309\n"
     ]
    },
    {
     "name": "stderr",
     "output_type": "stream",
     "text": [
      "\n"
     ]
    },
    {
     "name": "stdout",
     "output_type": "stream",
     "text": [
      "Training model with hyperparams=[15, 'RNN', 2, 64]\n"
     ]
    },
    {
     "name": "stderr",
     "output_type": "stream",
     "text": [
      "Epoch:   7%|▋         | 1/15 [00:00<00:10,  1.39it/s]"
     ]
    },
    {
     "name": "stdout",
     "output_type": "stream",
     "text": [
      "Epoch 0, Loss 1.4043505191802979\n"
     ]
    },
    {
     "name": "stderr",
     "output_type": "stream",
     "text": [
      "Epoch:  13%|█▎        | 2/15 [00:01<00:09,  1.42it/s]"
     ]
    },
    {
     "name": "stdout",
     "output_type": "stream",
     "text": [
      "Epoch 1, Loss 1.3601179122924805\n"
     ]
    },
    {
     "name": "stderr",
     "output_type": "stream",
     "text": [
      "Epoch:  20%|██        | 3/15 [00:02<00:08,  1.41it/s]"
     ]
    },
    {
     "name": "stdout",
     "output_type": "stream",
     "text": [
      "Epoch 2, Loss 0.9937085509300232\n"
     ]
    },
    {
     "name": "stderr",
     "output_type": "stream",
     "text": [
      "Epoch:  27%|██▋       | 4/15 [00:02<00:07,  1.42it/s]"
     ]
    },
    {
     "name": "stdout",
     "output_type": "stream",
     "text": [
      "Epoch 3, Loss 1.036586880683899\n"
     ]
    },
    {
     "name": "stderr",
     "output_type": "stream",
     "text": [
      "Epoch:  33%|███▎      | 5/15 [00:03<00:07,  1.40it/s]"
     ]
    },
    {
     "name": "stdout",
     "output_type": "stream",
     "text": [
      "Epoch 4, Loss 1.0408214330673218\n"
     ]
    },
    {
     "name": "stderr",
     "output_type": "stream",
     "text": [
      "Epoch:  40%|████      | 6/15 [00:04<00:06,  1.40it/s]"
     ]
    },
    {
     "name": "stdout",
     "output_type": "stream",
     "text": [
      "Epoch 5, Loss 0.940796971321106\n"
     ]
    },
    {
     "name": "stderr",
     "output_type": "stream",
     "text": [
      "Epoch:  47%|████▋     | 7/15 [00:04<00:05,  1.40it/s]"
     ]
    },
    {
     "name": "stdout",
     "output_type": "stream",
     "text": [
      "Epoch 6, Loss 1.136170506477356\n"
     ]
    },
    {
     "name": "stderr",
     "output_type": "stream",
     "text": [
      "Epoch:  53%|█████▎    | 8/15 [00:05<00:04,  1.41it/s]"
     ]
    },
    {
     "name": "stdout",
     "output_type": "stream",
     "text": [
      "Epoch 7, Loss 0.999502956867218\n"
     ]
    },
    {
     "name": "stderr",
     "output_type": "stream",
     "text": [
      "Epoch:  60%|██████    | 9/15 [00:06<00:04,  1.38it/s]"
     ]
    },
    {
     "name": "stdout",
     "output_type": "stream",
     "text": [
      "Epoch 8, Loss 0.9840636849403381\n"
     ]
    },
    {
     "name": "stderr",
     "output_type": "stream",
     "text": [
      "Epoch:  67%|██████▋   | 10/15 [00:07<00:03,  1.38it/s]"
     ]
    },
    {
     "name": "stdout",
     "output_type": "stream",
     "text": [
      "Epoch 9, Loss 1.0145294666290283\n"
     ]
    },
    {
     "name": "stderr",
     "output_type": "stream",
     "text": [
      "Epoch:  73%|███████▎  | 11/15 [00:07<00:02,  1.36it/s]"
     ]
    },
    {
     "name": "stdout",
     "output_type": "stream",
     "text": [
      "Epoch 10, Loss 0.9498229622840881\n"
     ]
    },
    {
     "name": "stderr",
     "output_type": "stream",
     "text": [
      "Epoch:  80%|████████  | 12/15 [00:08<00:02,  1.36it/s]"
     ]
    },
    {
     "name": "stdout",
     "output_type": "stream",
     "text": [
      "Epoch 11, Loss 1.0887012481689453\n"
     ]
    },
    {
     "name": "stderr",
     "output_type": "stream",
     "text": [
      "Epoch:  87%|████████▋ | 13/15 [00:09<00:01,  1.39it/s]"
     ]
    },
    {
     "name": "stdout",
     "output_type": "stream",
     "text": [
      "Epoch 12, Loss 0.8150877952575684\n"
     ]
    },
    {
     "name": "stderr",
     "output_type": "stream",
     "text": [
      "Epoch:  93%|█████████▎| 14/15 [00:10<00:00,  1.40it/s]"
     ]
    },
    {
     "name": "stdout",
     "output_type": "stream",
     "text": [
      "Epoch 13, Loss 0.909991979598999\n"
     ]
    },
    {
     "name": "stderr",
     "output_type": "stream",
     "text": [
      "Epoch: 100%|██████████| 15/15 [00:10<00:00,  1.41it/s]"
     ]
    },
    {
     "name": "stdout",
     "output_type": "stream",
     "text": [
      "Epoch 14, Loss 0.9507534503936768\n"
     ]
    },
    {
     "name": "stderr",
     "output_type": "stream",
     "text": [
      "\n"
     ]
    },
    {
     "name": "stdout",
     "output_type": "stream",
     "text": [
      "Training model with hyperparams=[15, 'RNN', 2, 128]\n"
     ]
    },
    {
     "name": "stderr",
     "output_type": "stream",
     "text": [
      "Epoch:   7%|▋         | 1/15 [00:00<00:10,  1.40it/s]"
     ]
    },
    {
     "name": "stdout",
     "output_type": "stream",
     "text": [
      "Epoch 0, Loss 1.4846348762512207\n"
     ]
    },
    {
     "name": "stderr",
     "output_type": "stream",
     "text": [
      "Epoch:  13%|█▎        | 2/15 [00:01<00:08,  1.45it/s]"
     ]
    },
    {
     "name": "stdout",
     "output_type": "stream",
     "text": [
      "Epoch 1, Loss 1.1140023469924927\n"
     ]
    },
    {
     "name": "stderr",
     "output_type": "stream",
     "text": [
      "Epoch:  20%|██        | 3/15 [00:02<00:08,  1.45it/s]"
     ]
    },
    {
     "name": "stdout",
     "output_type": "stream",
     "text": [
      "Epoch 2, Loss 1.0217491388320923\n"
     ]
    },
    {
     "name": "stderr",
     "output_type": "stream",
     "text": [
      "Epoch:  27%|██▋       | 4/15 [00:02<00:07,  1.46it/s]"
     ]
    },
    {
     "name": "stdout",
     "output_type": "stream",
     "text": [
      "Epoch 3, Loss 1.0172748565673828\n"
     ]
    },
    {
     "name": "stderr",
     "output_type": "stream",
     "text": [
      "Epoch:  33%|███▎      | 5/15 [00:03<00:06,  1.44it/s]"
     ]
    },
    {
     "name": "stdout",
     "output_type": "stream",
     "text": [
      "Epoch 4, Loss 1.1016746759414673\n"
     ]
    },
    {
     "name": "stderr",
     "output_type": "stream",
     "text": [
      "Epoch:  40%|████      | 6/15 [00:04<00:06,  1.45it/s]"
     ]
    },
    {
     "name": "stdout",
     "output_type": "stream",
     "text": [
      "Epoch 5, Loss 0.9824539422988892\n"
     ]
    },
    {
     "name": "stderr",
     "output_type": "stream",
     "text": [
      "Epoch:  47%|████▋     | 7/15 [00:04<00:05,  1.46it/s]"
     ]
    },
    {
     "name": "stdout",
     "output_type": "stream",
     "text": [
      "Epoch 6, Loss 1.030415654182434\n"
     ]
    },
    {
     "name": "stderr",
     "output_type": "stream",
     "text": [
      "Epoch:  53%|█████▎    | 8/15 [00:05<00:04,  1.46it/s]"
     ]
    },
    {
     "name": "stdout",
     "output_type": "stream",
     "text": [
      "Epoch 7, Loss 0.8708010911941528\n"
     ]
    },
    {
     "name": "stderr",
     "output_type": "stream",
     "text": [
      "Epoch:  60%|██████    | 9/15 [00:06<00:04,  1.46it/s]"
     ]
    },
    {
     "name": "stdout",
     "output_type": "stream",
     "text": [
      "Epoch 8, Loss 1.0426318645477295\n"
     ]
    },
    {
     "name": "stderr",
     "output_type": "stream",
     "text": [
      "Epoch:  67%|██████▋   | 10/15 [00:06<00:03,  1.47it/s]"
     ]
    },
    {
     "name": "stdout",
     "output_type": "stream",
     "text": [
      "Epoch 9, Loss 0.7948912382125854\n"
     ]
    },
    {
     "name": "stderr",
     "output_type": "stream",
     "text": [
      "Epoch:  73%|███████▎  | 11/15 [00:07<00:02,  1.46it/s]"
     ]
    },
    {
     "name": "stdout",
     "output_type": "stream",
     "text": [
      "Epoch 10, Loss 0.8549607992172241\n"
     ]
    },
    {
     "name": "stderr",
     "output_type": "stream",
     "text": [
      "Epoch:  80%|████████  | 12/15 [00:08<00:02,  1.47it/s]"
     ]
    },
    {
     "name": "stdout",
     "output_type": "stream",
     "text": [
      "Epoch 11, Loss 1.0234349966049194\n"
     ]
    },
    {
     "name": "stderr",
     "output_type": "stream",
     "text": [
      "Epoch:  87%|████████▋ | 13/15 [00:08<00:01,  1.48it/s]"
     ]
    },
    {
     "name": "stdout",
     "output_type": "stream",
     "text": [
      "Epoch 12, Loss 0.8591918349266052\n"
     ]
    },
    {
     "name": "stderr",
     "output_type": "stream",
     "text": [
      "Epoch:  93%|█████████▎| 14/15 [00:09<00:00,  1.42it/s]"
     ]
    },
    {
     "name": "stdout",
     "output_type": "stream",
     "text": [
      "Epoch 13, Loss 0.7199611663818359\n"
     ]
    },
    {
     "name": "stderr",
     "output_type": "stream",
     "text": [
      "Epoch: 100%|██████████| 15/15 [00:10<00:00,  1.38it/s]"
     ]
    },
    {
     "name": "stdout",
     "output_type": "stream",
     "text": [
      "Epoch 14, Loss 0.8643753528594971\n"
     ]
    },
    {
     "name": "stderr",
     "output_type": "stream",
     "text": [
      "\n"
     ]
    },
    {
     "name": "stdout",
     "output_type": "stream",
     "text": [
      "Training model with hyperparams=[20, 'MLP', False]\n"
     ]
    },
    {
     "name": "stderr",
     "output_type": "stream",
     "text": [
      "Epoch:   5%|▌         | 1/20 [00:00<00:10,  1.81it/s]"
     ]
    },
    {
     "name": "stdout",
     "output_type": "stream",
     "text": [
      "Epoch 0, Loss 1.3417067527770996\n"
     ]
    },
    {
     "name": "stderr",
     "output_type": "stream",
     "text": [
      "Epoch:  10%|█         | 2/20 [00:01<00:10,  1.67it/s]"
     ]
    },
    {
     "name": "stdout",
     "output_type": "stream",
     "text": [
      "Epoch 1, Loss 1.150078535079956\n"
     ]
    },
    {
     "name": "stderr",
     "output_type": "stream",
     "text": [
      "Epoch:  15%|█▌        | 3/20 [00:01<00:10,  1.62it/s]"
     ]
    },
    {
     "name": "stdout",
     "output_type": "stream",
     "text": [
      "Epoch 2, Loss 1.1661865711212158\n"
     ]
    },
    {
     "name": "stderr",
     "output_type": "stream",
     "text": [
      "Epoch:  20%|██        | 4/20 [00:02<00:10,  1.59it/s]"
     ]
    },
    {
     "name": "stdout",
     "output_type": "stream",
     "text": [
      "Epoch 3, Loss 1.2251933813095093\n"
     ]
    },
    {
     "name": "stderr",
     "output_type": "stream",
     "text": [
      "Epoch:  25%|██▌       | 5/20 [00:03<00:09,  1.57it/s]"
     ]
    },
    {
     "name": "stdout",
     "output_type": "stream",
     "text": [
      "Epoch 4, Loss 0.9226757884025574\n"
     ]
    },
    {
     "name": "stderr",
     "output_type": "stream",
     "text": [
      "Epoch:  30%|███       | 6/20 [00:03<00:09,  1.55it/s]"
     ]
    },
    {
     "name": "stdout",
     "output_type": "stream",
     "text": [
      "Epoch 5, Loss 1.1862858533859253\n"
     ]
    },
    {
     "name": "stderr",
     "output_type": "stream",
     "text": [
      "Epoch:  35%|███▌      | 7/20 [00:04<00:08,  1.52it/s]"
     ]
    },
    {
     "name": "stdout",
     "output_type": "stream",
     "text": [
      "Epoch 6, Loss 1.0736894607543945\n"
     ]
    },
    {
     "name": "stderr",
     "output_type": "stream",
     "text": [
      "Epoch:  40%|████      | 8/20 [00:05<00:07,  1.51it/s]"
     ]
    },
    {
     "name": "stdout",
     "output_type": "stream",
     "text": [
      "Epoch 7, Loss 0.9538249969482422\n"
     ]
    },
    {
     "name": "stderr",
     "output_type": "stream",
     "text": [
      "Epoch:  45%|████▌     | 9/20 [00:05<00:07,  1.50it/s]"
     ]
    },
    {
     "name": "stdout",
     "output_type": "stream",
     "text": [
      "Epoch 8, Loss 0.8634957671165466\n"
     ]
    },
    {
     "name": "stderr",
     "output_type": "stream",
     "text": [
      "Epoch:  50%|█████     | 10/20 [00:06<00:06,  1.51it/s]"
     ]
    },
    {
     "name": "stdout",
     "output_type": "stream",
     "text": [
      "Epoch 9, Loss 1.1253666877746582\n"
     ]
    },
    {
     "name": "stderr",
     "output_type": "stream",
     "text": [
      "Epoch:  55%|█████▌    | 11/20 [00:07<00:05,  1.50it/s]"
     ]
    },
    {
     "name": "stdout",
     "output_type": "stream",
     "text": [
      "Epoch 10, Loss 0.9879416227340698\n"
     ]
    },
    {
     "name": "stderr",
     "output_type": "stream",
     "text": [
      "Epoch:  60%|██████    | 12/20 [00:07<00:05,  1.45it/s]"
     ]
    },
    {
     "name": "stdout",
     "output_type": "stream",
     "text": [
      "Epoch 11, Loss 0.976795494556427\n"
     ]
    },
    {
     "name": "stderr",
     "output_type": "stream",
     "text": [
      "Epoch:  65%|██████▌   | 13/20 [00:08<00:04,  1.48it/s]"
     ]
    },
    {
     "name": "stdout",
     "output_type": "stream",
     "text": [
      "Epoch 12, Loss 0.9637759923934937\n"
     ]
    },
    {
     "name": "stderr",
     "output_type": "stream",
     "text": [
      "Epoch:  70%|███████   | 14/20 [00:09<00:03,  1.51it/s]"
     ]
    },
    {
     "name": "stdout",
     "output_type": "stream",
     "text": [
      "Epoch 13, Loss 0.9614425301551819\n"
     ]
    },
    {
     "name": "stderr",
     "output_type": "stream",
     "text": [
      "Epoch:  75%|███████▌  | 15/20 [00:09<00:03,  1.52it/s]"
     ]
    },
    {
     "name": "stdout",
     "output_type": "stream",
     "text": [
      "Epoch 14, Loss 0.967290461063385\n"
     ]
    },
    {
     "name": "stderr",
     "output_type": "stream",
     "text": [
      "Epoch:  80%|████████  | 16/20 [00:10<00:02,  1.53it/s]"
     ]
    },
    {
     "name": "stdout",
     "output_type": "stream",
     "text": [
      "Epoch 15, Loss 1.0905230045318604\n"
     ]
    },
    {
     "name": "stderr",
     "output_type": "stream",
     "text": [
      "Epoch:  85%|████████▌ | 17/20 [00:11<00:01,  1.51it/s]"
     ]
    },
    {
     "name": "stdout",
     "output_type": "stream",
     "text": [
      "Epoch 16, Loss 0.8454235196113586\n"
     ]
    },
    {
     "name": "stderr",
     "output_type": "stream",
     "text": [
      "Epoch:  90%|█████████ | 18/20 [00:11<00:01,  1.50it/s]"
     ]
    },
    {
     "name": "stdout",
     "output_type": "stream",
     "text": [
      "Epoch 17, Loss 1.049432396888733\n"
     ]
    },
    {
     "name": "stderr",
     "output_type": "stream",
     "text": [
      "Epoch:  95%|█████████▌| 19/20 [00:12<00:00,  1.55it/s]"
     ]
    },
    {
     "name": "stdout",
     "output_type": "stream",
     "text": [
      "Epoch 18, Loss 0.9667262434959412\n"
     ]
    },
    {
     "name": "stderr",
     "output_type": "stream",
     "text": [
      "Epoch: 100%|██████████| 20/20 [00:13<00:00,  1.53it/s]"
     ]
    },
    {
     "name": "stdout",
     "output_type": "stream",
     "text": [
      "Epoch 19, Loss 1.0290871858596802\n"
     ]
    },
    {
     "name": "stderr",
     "output_type": "stream",
     "text": [
      "\n"
     ]
    },
    {
     "name": "stdout",
     "output_type": "stream",
     "text": [
      "Training model with hyperparams=[20, 'MLP', True]\n"
     ]
    },
    {
     "name": "stderr",
     "output_type": "stream",
     "text": [
      "Epoch:   5%|▌         | 1/20 [00:00<00:14,  1.28it/s]"
     ]
    },
    {
     "name": "stdout",
     "output_type": "stream",
     "text": [
      "Epoch 0, Loss 1.2562390565872192\n"
     ]
    },
    {
     "name": "stderr",
     "output_type": "stream",
     "text": [
      "Epoch:  10%|█         | 2/20 [00:01<00:13,  1.31it/s]"
     ]
    },
    {
     "name": "stdout",
     "output_type": "stream",
     "text": [
      "Epoch 1, Loss 1.2357738018035889\n"
     ]
    },
    {
     "name": "stderr",
     "output_type": "stream",
     "text": [
      "Epoch:  15%|█▌        | 3/20 [00:02<00:12,  1.33it/s]"
     ]
    },
    {
     "name": "stdout",
     "output_type": "stream",
     "text": [
      "Epoch 2, Loss 1.003271222114563\n"
     ]
    },
    {
     "name": "stderr",
     "output_type": "stream",
     "text": [
      "Epoch:  20%|██        | 4/20 [00:03<00:12,  1.33it/s]"
     ]
    },
    {
     "name": "stdout",
     "output_type": "stream",
     "text": [
      "Epoch 3, Loss 0.9992084503173828\n"
     ]
    },
    {
     "name": "stderr",
     "output_type": "stream",
     "text": [
      "Epoch:  25%|██▌       | 5/20 [00:03<00:11,  1.32it/s]"
     ]
    },
    {
     "name": "stdout",
     "output_type": "stream",
     "text": [
      "Epoch 4, Loss 0.9895802736282349\n"
     ]
    },
    {
     "name": "stderr",
     "output_type": "stream",
     "text": [
      "Epoch:  30%|███       | 6/20 [00:04<00:10,  1.32it/s]"
     ]
    },
    {
     "name": "stdout",
     "output_type": "stream",
     "text": [
      "Epoch 5, Loss 1.1596808433532715\n"
     ]
    },
    {
     "name": "stderr",
     "output_type": "stream",
     "text": [
      "Epoch:  35%|███▌      | 7/20 [00:05<00:09,  1.33it/s]"
     ]
    },
    {
     "name": "stdout",
     "output_type": "stream",
     "text": [
      "Epoch 6, Loss 1.1765990257263184\n"
     ]
    },
    {
     "name": "stderr",
     "output_type": "stream",
     "text": [
      "Epoch:  40%|████      | 8/20 [00:06<00:09,  1.33it/s]"
     ]
    },
    {
     "name": "stdout",
     "output_type": "stream",
     "text": [
      "Epoch 7, Loss 1.1189799308776855\n"
     ]
    },
    {
     "name": "stderr",
     "output_type": "stream",
     "text": [
      "Epoch:  45%|████▌     | 9/20 [00:06<00:08,  1.33it/s]"
     ]
    },
    {
     "name": "stdout",
     "output_type": "stream",
     "text": [
      "Epoch 8, Loss 1.10977041721344\n"
     ]
    },
    {
     "name": "stderr",
     "output_type": "stream",
     "text": [
      "Epoch:  50%|█████     | 10/20 [00:07<00:07,  1.32it/s]"
     ]
    },
    {
     "name": "stdout",
     "output_type": "stream",
     "text": [
      "Epoch 9, Loss 0.944463312625885\n"
     ]
    },
    {
     "name": "stderr",
     "output_type": "stream",
     "text": [
      "Epoch:  55%|█████▌    | 11/20 [00:08<00:06,  1.31it/s]"
     ]
    },
    {
     "name": "stdout",
     "output_type": "stream",
     "text": [
      "Epoch 10, Loss 0.8962883949279785\n"
     ]
    },
    {
     "name": "stderr",
     "output_type": "stream",
     "text": [
      "Epoch:  60%|██████    | 12/20 [00:09<00:06,  1.32it/s]"
     ]
    },
    {
     "name": "stdout",
     "output_type": "stream",
     "text": [
      "Epoch 11, Loss 0.8975445032119751\n"
     ]
    },
    {
     "name": "stderr",
     "output_type": "stream",
     "text": [
      "Epoch:  65%|██████▌   | 13/20 [00:09<00:05,  1.31it/s]"
     ]
    },
    {
     "name": "stdout",
     "output_type": "stream",
     "text": [
      "Epoch 12, Loss 1.0299983024597168\n"
     ]
    },
    {
     "name": "stderr",
     "output_type": "stream",
     "text": [
      "Epoch:  70%|███████   | 14/20 [00:10<00:04,  1.31it/s]"
     ]
    },
    {
     "name": "stdout",
     "output_type": "stream",
     "text": [
      "Epoch 13, Loss 0.8552301526069641\n"
     ]
    },
    {
     "name": "stderr",
     "output_type": "stream",
     "text": [
      "Epoch:  75%|███████▌  | 15/20 [00:11<00:03,  1.34it/s]"
     ]
    },
    {
     "name": "stdout",
     "output_type": "stream",
     "text": [
      "Epoch 14, Loss 1.1039438247680664\n"
     ]
    },
    {
     "name": "stderr",
     "output_type": "stream",
     "text": [
      "Epoch:  80%|████████  | 16/20 [00:12<00:03,  1.31it/s]"
     ]
    },
    {
     "name": "stdout",
     "output_type": "stream",
     "text": [
      "Epoch 15, Loss 1.0020859241485596\n"
     ]
    },
    {
     "name": "stderr",
     "output_type": "stream",
     "text": [
      "Epoch:  85%|████████▌ | 17/20 [00:12<00:02,  1.30it/s]"
     ]
    },
    {
     "name": "stdout",
     "output_type": "stream",
     "text": [
      "Epoch 16, Loss 0.9543187022209167\n"
     ]
    },
    {
     "name": "stderr",
     "output_type": "stream",
     "text": [
      "Epoch:  90%|█████████ | 18/20 [00:13<00:01,  1.29it/s]"
     ]
    },
    {
     "name": "stdout",
     "output_type": "stream",
     "text": [
      "Epoch 17, Loss 1.0229499340057373\n"
     ]
    },
    {
     "name": "stderr",
     "output_type": "stream",
     "text": [
      "Epoch:  95%|█████████▌| 19/20 [00:14<00:00,  1.30it/s]"
     ]
    },
    {
     "name": "stdout",
     "output_type": "stream",
     "text": [
      "Epoch 18, Loss 0.877811849117279\n"
     ]
    },
    {
     "name": "stderr",
     "output_type": "stream",
     "text": [
      "Epoch: 100%|██████████| 20/20 [00:15<00:00,  1.31it/s]"
     ]
    },
    {
     "name": "stdout",
     "output_type": "stream",
     "text": [
      "Epoch 19, Loss 1.0309011936187744\n"
     ]
    },
    {
     "name": "stderr",
     "output_type": "stream",
     "text": [
      "\n"
     ]
    },
    {
     "name": "stdout",
     "output_type": "stream",
     "text": [
      "Training model with hyperparams=[20, 'RNN', 1, 64]\n"
     ]
    },
    {
     "name": "stderr",
     "output_type": "stream",
     "text": [
      "Epoch:   5%|▌         | 1/20 [00:00<00:13,  1.40it/s]"
     ]
    },
    {
     "name": "stdout",
     "output_type": "stream",
     "text": [
      "Epoch 0, Loss 1.3904597759246826\n"
     ]
    },
    {
     "name": "stderr",
     "output_type": "stream",
     "text": [
      "Epoch:  10%|█         | 2/20 [00:01<00:12,  1.40it/s]"
     ]
    },
    {
     "name": "stdout",
     "output_type": "stream",
     "text": [
      "Epoch 1, Loss 1.0446608066558838\n"
     ]
    },
    {
     "name": "stderr",
     "output_type": "stream",
     "text": [
      "Epoch:  15%|█▌        | 3/20 [00:02<00:12,  1.42it/s]"
     ]
    },
    {
     "name": "stdout",
     "output_type": "stream",
     "text": [
      "Epoch 2, Loss 1.1410789489746094\n"
     ]
    },
    {
     "name": "stderr",
     "output_type": "stream",
     "text": [
      "Epoch:  20%|██        | 4/20 [00:02<00:11,  1.42it/s]"
     ]
    },
    {
     "name": "stdout",
     "output_type": "stream",
     "text": [
      "Epoch 3, Loss 0.9526775479316711\n"
     ]
    },
    {
     "name": "stderr",
     "output_type": "stream",
     "text": [
      "Epoch:  25%|██▌       | 5/20 [00:03<00:10,  1.43it/s]"
     ]
    },
    {
     "name": "stdout",
     "output_type": "stream",
     "text": [
      "Epoch 4, Loss 1.1271010637283325\n"
     ]
    },
    {
     "name": "stderr",
     "output_type": "stream",
     "text": [
      "Epoch:  30%|███       | 6/20 [00:04<00:09,  1.42it/s]"
     ]
    },
    {
     "name": "stdout",
     "output_type": "stream",
     "text": [
      "Epoch 5, Loss 1.0442330837249756\n"
     ]
    },
    {
     "name": "stderr",
     "output_type": "stream",
     "text": [
      "Epoch:  35%|███▌      | 7/20 [00:04<00:09,  1.42it/s]"
     ]
    },
    {
     "name": "stdout",
     "output_type": "stream",
     "text": [
      "Epoch 6, Loss 0.946201741695404\n"
     ]
    },
    {
     "name": "stderr",
     "output_type": "stream",
     "text": [
      "Epoch:  40%|████      | 8/20 [00:05<00:08,  1.42it/s]"
     ]
    },
    {
     "name": "stdout",
     "output_type": "stream",
     "text": [
      "Epoch 7, Loss 0.9583057165145874\n"
     ]
    },
    {
     "name": "stderr",
     "output_type": "stream",
     "text": [
      "Epoch:  45%|████▌     | 9/20 [00:06<00:07,  1.43it/s]"
     ]
    },
    {
     "name": "stdout",
     "output_type": "stream",
     "text": [
      "Epoch 8, Loss 1.0073667764663696\n"
     ]
    },
    {
     "name": "stderr",
     "output_type": "stream",
     "text": [
      "Epoch:  50%|█████     | 10/20 [00:07<00:06,  1.43it/s]"
     ]
    },
    {
     "name": "stdout",
     "output_type": "stream",
     "text": [
      "Epoch 9, Loss 0.9580730199813843\n"
     ]
    },
    {
     "name": "stderr",
     "output_type": "stream",
     "text": [
      "Epoch:  55%|█████▌    | 11/20 [00:07<00:06,  1.49it/s]"
     ]
    },
    {
     "name": "stdout",
     "output_type": "stream",
     "text": [
      "Epoch 10, Loss 1.0159984827041626\n"
     ]
    },
    {
     "name": "stderr",
     "output_type": "stream",
     "text": [
      "Epoch:  60%|██████    | 12/20 [00:08<00:05,  1.48it/s]"
     ]
    },
    {
     "name": "stdout",
     "output_type": "stream",
     "text": [
      "Epoch 11, Loss 1.028897762298584\n"
     ]
    },
    {
     "name": "stderr",
     "output_type": "stream",
     "text": [
      "Epoch:  65%|██████▌   | 13/20 [00:09<00:04,  1.46it/s]"
     ]
    },
    {
     "name": "stdout",
     "output_type": "stream",
     "text": [
      "Epoch 12, Loss 0.9530931115150452\n"
     ]
    },
    {
     "name": "stderr",
     "output_type": "stream",
     "text": [
      "Epoch:  70%|███████   | 14/20 [00:09<00:04,  1.46it/s]"
     ]
    },
    {
     "name": "stdout",
     "output_type": "stream",
     "text": [
      "Epoch 13, Loss 0.9194236397743225\n"
     ]
    },
    {
     "name": "stderr",
     "output_type": "stream",
     "text": [
      "Epoch:  75%|███████▌  | 15/20 [00:10<00:03,  1.44it/s]"
     ]
    },
    {
     "name": "stdout",
     "output_type": "stream",
     "text": [
      "Epoch 14, Loss 0.8663085699081421\n"
     ]
    },
    {
     "name": "stderr",
     "output_type": "stream",
     "text": [
      "Epoch:  80%|████████  | 16/20 [00:11<00:02,  1.43it/s]"
     ]
    },
    {
     "name": "stdout",
     "output_type": "stream",
     "text": [
      "Epoch 15, Loss 0.9208292961120605\n"
     ]
    },
    {
     "name": "stderr",
     "output_type": "stream",
     "text": [
      "Epoch:  85%|████████▌ | 17/20 [00:11<00:02,  1.42it/s]"
     ]
    },
    {
     "name": "stdout",
     "output_type": "stream",
     "text": [
      "Epoch 16, Loss 1.0345921516418457\n"
     ]
    },
    {
     "name": "stderr",
     "output_type": "stream",
     "text": [
      "Epoch:  90%|█████████ | 18/20 [00:12<00:01,  1.41it/s]"
     ]
    },
    {
     "name": "stdout",
     "output_type": "stream",
     "text": [
      "Epoch 17, Loss 0.935599684715271\n"
     ]
    },
    {
     "name": "stderr",
     "output_type": "stream",
     "text": [
      "Epoch:  95%|█████████▌| 19/20 [00:13<00:00,  1.42it/s]"
     ]
    },
    {
     "name": "stdout",
     "output_type": "stream",
     "text": [
      "Epoch 18, Loss 0.8263096809387207\n"
     ]
    },
    {
     "name": "stderr",
     "output_type": "stream",
     "text": [
      "Epoch: 100%|██████████| 20/20 [00:13<00:00,  1.43it/s]"
     ]
    },
    {
     "name": "stdout",
     "output_type": "stream",
     "text": [
      "Epoch 19, Loss 0.829239010810852\n"
     ]
    },
    {
     "name": "stderr",
     "output_type": "stream",
     "text": [
      "\n"
     ]
    },
    {
     "name": "stdout",
     "output_type": "stream",
     "text": [
      "Training model with hyperparams=[20, 'RNN', 1, 128]\n"
     ]
    },
    {
     "name": "stderr",
     "output_type": "stream",
     "text": [
      "Epoch:   5%|▌         | 1/20 [00:00<00:15,  1.26it/s]"
     ]
    },
    {
     "name": "stdout",
     "output_type": "stream",
     "text": [
      "Epoch 0, Loss 1.0712254047393799\n"
     ]
    },
    {
     "name": "stderr",
     "output_type": "stream",
     "text": [
      "Epoch:  10%|█         | 2/20 [00:01<00:14,  1.27it/s]"
     ]
    },
    {
     "name": "stdout",
     "output_type": "stream",
     "text": [
      "Epoch 1, Loss 1.1797449588775635\n"
     ]
    },
    {
     "name": "stderr",
     "output_type": "stream",
     "text": [
      "Epoch:  15%|█▌        | 3/20 [00:02<00:13,  1.28it/s]"
     ]
    },
    {
     "name": "stdout",
     "output_type": "stream",
     "text": [
      "Epoch 2, Loss 1.1093422174453735\n"
     ]
    },
    {
     "name": "stderr",
     "output_type": "stream",
     "text": [
      "Epoch:  20%|██        | 4/20 [00:03<00:12,  1.28it/s]"
     ]
    },
    {
     "name": "stdout",
     "output_type": "stream",
     "text": [
      "Epoch 3, Loss 1.062217354774475\n"
     ]
    },
    {
     "name": "stderr",
     "output_type": "stream",
     "text": [
      "Epoch:  25%|██▌       | 5/20 [00:03<00:11,  1.29it/s]"
     ]
    },
    {
     "name": "stdout",
     "output_type": "stream",
     "text": [
      "Epoch 4, Loss 0.9340625405311584\n"
     ]
    },
    {
     "name": "stderr",
     "output_type": "stream",
     "text": [
      "Epoch:  30%|███       | 6/20 [00:04<00:10,  1.29it/s]"
     ]
    },
    {
     "name": "stdout",
     "output_type": "stream",
     "text": [
      "Epoch 5, Loss 1.039075255393982\n"
     ]
    },
    {
     "name": "stderr",
     "output_type": "stream",
     "text": [
      "Epoch:  35%|███▌      | 7/20 [00:05<00:10,  1.29it/s]"
     ]
    },
    {
     "name": "stdout",
     "output_type": "stream",
     "text": [
      "Epoch 6, Loss 1.1482490301132202\n"
     ]
    },
    {
     "name": "stderr",
     "output_type": "stream",
     "text": [
      "Epoch:  40%|████      | 8/20 [00:06<00:09,  1.33it/s]"
     ]
    },
    {
     "name": "stdout",
     "output_type": "stream",
     "text": [
      "Epoch 7, Loss 0.9094465970993042\n"
     ]
    },
    {
     "name": "stderr",
     "output_type": "stream",
     "text": [
      "Epoch:  45%|████▌     | 9/20 [00:06<00:08,  1.31it/s]"
     ]
    },
    {
     "name": "stdout",
     "output_type": "stream",
     "text": [
      "Epoch 8, Loss 0.8865634202957153\n"
     ]
    },
    {
     "name": "stderr",
     "output_type": "stream",
     "text": [
      "Epoch:  50%|█████     | 10/20 [00:07<00:07,  1.29it/s]"
     ]
    },
    {
     "name": "stdout",
     "output_type": "stream",
     "text": [
      "Epoch 9, Loss 0.7995813488960266\n"
     ]
    },
    {
     "name": "stderr",
     "output_type": "stream",
     "text": [
      "Epoch:  55%|█████▌    | 11/20 [00:08<00:07,  1.28it/s]"
     ]
    },
    {
     "name": "stdout",
     "output_type": "stream",
     "text": [
      "Epoch 10, Loss 0.9794569611549377\n"
     ]
    },
    {
     "name": "stderr",
     "output_type": "stream",
     "text": [
      "Epoch:  60%|██████    | 12/20 [00:09<00:06,  1.27it/s]"
     ]
    },
    {
     "name": "stdout",
     "output_type": "stream",
     "text": [
      "Epoch 11, Loss 0.8628477454185486\n"
     ]
    },
    {
     "name": "stderr",
     "output_type": "stream",
     "text": [
      "Epoch:  65%|██████▌   | 13/20 [00:10<00:05,  1.27it/s]"
     ]
    },
    {
     "name": "stdout",
     "output_type": "stream",
     "text": [
      "Epoch 12, Loss 0.7104310989379883\n"
     ]
    },
    {
     "name": "stderr",
     "output_type": "stream",
     "text": [
      "Epoch:  70%|███████   | 14/20 [00:10<00:04,  1.25it/s]"
     ]
    },
    {
     "name": "stdout",
     "output_type": "stream",
     "text": [
      "Epoch 13, Loss 0.7543728947639465\n"
     ]
    },
    {
     "name": "stderr",
     "output_type": "stream",
     "text": [
      "Epoch:  75%|███████▌  | 15/20 [00:11<00:03,  1.29it/s]"
     ]
    },
    {
     "name": "stdout",
     "output_type": "stream",
     "text": [
      "Epoch 14, Loss 0.7930043339729309\n"
     ]
    },
    {
     "name": "stderr",
     "output_type": "stream",
     "text": [
      "Epoch:  80%|████████  | 16/20 [00:12<00:03,  1.30it/s]"
     ]
    },
    {
     "name": "stdout",
     "output_type": "stream",
     "text": [
      "Epoch 15, Loss 0.7462414503097534\n"
     ]
    },
    {
     "name": "stderr",
     "output_type": "stream",
     "text": [
      "Epoch:  85%|████████▌ | 17/20 [00:13<00:02,  1.29it/s]"
     ]
    },
    {
     "name": "stdout",
     "output_type": "stream",
     "text": [
      "Epoch 16, Loss 0.8307874798774719\n"
     ]
    },
    {
     "name": "stderr",
     "output_type": "stream",
     "text": [
      "Epoch:  90%|█████████ | 18/20 [00:14<00:01,  1.28it/s]"
     ]
    },
    {
     "name": "stdout",
     "output_type": "stream",
     "text": [
      "Epoch 17, Loss 0.7527005076408386\n"
     ]
    },
    {
     "name": "stderr",
     "output_type": "stream",
     "text": [
      "Epoch:  95%|█████████▌| 19/20 [00:14<00:00,  1.27it/s]"
     ]
    },
    {
     "name": "stdout",
     "output_type": "stream",
     "text": [
      "Epoch 18, Loss 0.5843532085418701\n"
     ]
    },
    {
     "name": "stderr",
     "output_type": "stream",
     "text": [
      "Epoch: 100%|██████████| 20/20 [00:15<00:00,  1.28it/s]"
     ]
    },
    {
     "name": "stdout",
     "output_type": "stream",
     "text": [
      "Epoch 19, Loss 0.7483294606208801\n"
     ]
    },
    {
     "name": "stderr",
     "output_type": "stream",
     "text": [
      "\n"
     ]
    },
    {
     "name": "stdout",
     "output_type": "stream",
     "text": [
      "Training model with hyperparams=[20, 'RNN', 2, 64]\n"
     ]
    },
    {
     "name": "stderr",
     "output_type": "stream",
     "text": [
      "Epoch:   5%|▌         | 1/20 [00:00<00:13,  1.42it/s]"
     ]
    },
    {
     "name": "stdout",
     "output_type": "stream",
     "text": [
      "Epoch 0, Loss 1.4043505191802979\n"
     ]
    },
    {
     "name": "stderr",
     "output_type": "stream",
     "text": [
      "Epoch:  10%|█         | 2/20 [00:01<00:12,  1.43it/s]"
     ]
    },
    {
     "name": "stdout",
     "output_type": "stream",
     "text": [
      "Epoch 1, Loss 1.3601179122924805\n"
     ]
    },
    {
     "name": "stderr",
     "output_type": "stream",
     "text": [
      "Epoch:  15%|█▌        | 3/20 [00:02<00:12,  1.42it/s]"
     ]
    },
    {
     "name": "stdout",
     "output_type": "stream",
     "text": [
      "Epoch 2, Loss 0.9937085509300232\n"
     ]
    },
    {
     "name": "stderr",
     "output_type": "stream",
     "text": [
      "Epoch:  20%|██        | 4/20 [00:02<00:11,  1.42it/s]"
     ]
    },
    {
     "name": "stdout",
     "output_type": "stream",
     "text": [
      "Epoch 3, Loss 1.036586880683899\n"
     ]
    },
    {
     "name": "stderr",
     "output_type": "stream",
     "text": [
      "Epoch:  25%|██▌       | 5/20 [00:03<00:10,  1.48it/s]"
     ]
    },
    {
     "name": "stdout",
     "output_type": "stream",
     "text": [
      "Epoch 4, Loss 1.0408214330673218\n"
     ]
    },
    {
     "name": "stderr",
     "output_type": "stream",
     "text": [
      "Epoch:  30%|███       | 6/20 [00:04<00:09,  1.47it/s]"
     ]
    },
    {
     "name": "stdout",
     "output_type": "stream",
     "text": [
      "Epoch 5, Loss 0.940796971321106\n"
     ]
    },
    {
     "name": "stderr",
     "output_type": "stream",
     "text": [
      "Epoch:  35%|███▌      | 7/20 [00:04<00:09,  1.42it/s]"
     ]
    },
    {
     "name": "stdout",
     "output_type": "stream",
     "text": [
      "Epoch 6, Loss 1.136170506477356\n"
     ]
    },
    {
     "name": "stderr",
     "output_type": "stream",
     "text": [
      "Epoch:  40%|████      | 8/20 [00:05<00:08,  1.41it/s]"
     ]
    },
    {
     "name": "stdout",
     "output_type": "stream",
     "text": [
      "Epoch 7, Loss 0.999502956867218\n"
     ]
    },
    {
     "name": "stderr",
     "output_type": "stream",
     "text": [
      "Epoch:  45%|████▌     | 9/20 [00:06<00:07,  1.41it/s]"
     ]
    },
    {
     "name": "stdout",
     "output_type": "stream",
     "text": [
      "Epoch 8, Loss 0.9840636849403381\n"
     ]
    },
    {
     "name": "stderr",
     "output_type": "stream",
     "text": [
      "Epoch:  50%|█████     | 10/20 [00:07<00:07,  1.41it/s]"
     ]
    },
    {
     "name": "stdout",
     "output_type": "stream",
     "text": [
      "Epoch 9, Loss 1.0145294666290283\n"
     ]
    },
    {
     "name": "stderr",
     "output_type": "stream",
     "text": [
      "Epoch:  55%|█████▌    | 11/20 [00:07<00:06,  1.41it/s]"
     ]
    },
    {
     "name": "stdout",
     "output_type": "stream",
     "text": [
      "Epoch 10, Loss 0.9498229622840881\n"
     ]
    },
    {
     "name": "stderr",
     "output_type": "stream",
     "text": [
      "Epoch:  60%|██████    | 12/20 [00:08<00:05,  1.41it/s]"
     ]
    },
    {
     "name": "stdout",
     "output_type": "stream",
     "text": [
      "Epoch 11, Loss 1.0887012481689453\n"
     ]
    },
    {
     "name": "stderr",
     "output_type": "stream",
     "text": [
      "Epoch:  65%|██████▌   | 13/20 [00:09<00:04,  1.41it/s]"
     ]
    },
    {
     "name": "stdout",
     "output_type": "stream",
     "text": [
      "Epoch 12, Loss 0.8150877952575684\n"
     ]
    },
    {
     "name": "stderr",
     "output_type": "stream",
     "text": [
      "Epoch:  70%|███████   | 14/20 [00:09<00:04,  1.39it/s]"
     ]
    },
    {
     "name": "stdout",
     "output_type": "stream",
     "text": [
      "Epoch 13, Loss 0.909991979598999\n"
     ]
    },
    {
     "name": "stderr",
     "output_type": "stream",
     "text": [
      "Epoch:  75%|███████▌  | 15/20 [00:10<00:03,  1.38it/s]"
     ]
    },
    {
     "name": "stdout",
     "output_type": "stream",
     "text": [
      "Epoch 14, Loss 0.9507534503936768\n"
     ]
    },
    {
     "name": "stderr",
     "output_type": "stream",
     "text": [
      "Epoch:  80%|████████  | 16/20 [00:11<00:02,  1.37it/s]"
     ]
    },
    {
     "name": "stdout",
     "output_type": "stream",
     "text": [
      "Epoch 15, Loss 0.9590354561805725\n"
     ]
    },
    {
     "name": "stderr",
     "output_type": "stream",
     "text": [
      "Epoch:  85%|████████▌ | 17/20 [00:12<00:02,  1.35it/s]"
     ]
    },
    {
     "name": "stdout",
     "output_type": "stream",
     "text": [
      "Epoch 16, Loss 0.9659873247146606\n"
     ]
    },
    {
     "name": "stderr",
     "output_type": "stream",
     "text": [
      "Epoch:  90%|█████████ | 18/20 [00:12<00:01,  1.35it/s]"
     ]
    },
    {
     "name": "stdout",
     "output_type": "stream",
     "text": [
      "Epoch 17, Loss 0.8820995092391968\n"
     ]
    },
    {
     "name": "stderr",
     "output_type": "stream",
     "text": [
      "Epoch:  95%|█████████▌| 19/20 [00:13<00:00,  1.37it/s]"
     ]
    },
    {
     "name": "stdout",
     "output_type": "stream",
     "text": [
      "Epoch 18, Loss 0.8834714889526367\n"
     ]
    },
    {
     "name": "stderr",
     "output_type": "stream",
     "text": [
      "Epoch: 100%|██████████| 20/20 [00:14<00:00,  1.40it/s]"
     ]
    },
    {
     "name": "stdout",
     "output_type": "stream",
     "text": [
      "Epoch 19, Loss 0.9794890880584717\n"
     ]
    },
    {
     "name": "stderr",
     "output_type": "stream",
     "text": [
      "\n"
     ]
    },
    {
     "name": "stdout",
     "output_type": "stream",
     "text": [
      "Training model with hyperparams=[20, 'RNN', 2, 128]\n"
     ]
    },
    {
     "name": "stderr",
     "output_type": "stream",
     "text": [
      "Epoch:   5%|▌         | 1/20 [00:00<00:14,  1.34it/s]"
     ]
    },
    {
     "name": "stdout",
     "output_type": "stream",
     "text": [
      "Epoch 0, Loss 1.4846348762512207\n"
     ]
    },
    {
     "name": "stderr",
     "output_type": "stream",
     "text": [
      "Epoch:  10%|█         | 2/20 [00:01<00:13,  1.38it/s]"
     ]
    },
    {
     "name": "stdout",
     "output_type": "stream",
     "text": [
      "Epoch 1, Loss 1.1140023469924927\n"
     ]
    },
    {
     "name": "stderr",
     "output_type": "stream",
     "text": [
      "Epoch:  15%|█▌        | 3/20 [00:02<00:11,  1.46it/s]"
     ]
    },
    {
     "name": "stdout",
     "output_type": "stream",
     "text": [
      "Epoch 2, Loss 1.0217491388320923\n"
     ]
    },
    {
     "name": "stderr",
     "output_type": "stream",
     "text": [
      "Epoch:  20%|██        | 4/20 [00:02<00:10,  1.46it/s]"
     ]
    },
    {
     "name": "stdout",
     "output_type": "stream",
     "text": [
      "Epoch 3, Loss 1.0172748565673828\n"
     ]
    },
    {
     "name": "stderr",
     "output_type": "stream",
     "text": [
      "Epoch:  25%|██▌       | 5/20 [00:03<00:10,  1.45it/s]"
     ]
    },
    {
     "name": "stdout",
     "output_type": "stream",
     "text": [
      "Epoch 4, Loss 1.1016746759414673\n"
     ]
    },
    {
     "name": "stderr",
     "output_type": "stream",
     "text": [
      "Epoch:  30%|███       | 6/20 [00:04<00:09,  1.43it/s]"
     ]
    },
    {
     "name": "stdout",
     "output_type": "stream",
     "text": [
      "Epoch 5, Loss 0.9824539422988892\n"
     ]
    },
    {
     "name": "stderr",
     "output_type": "stream",
     "text": [
      "Epoch:  35%|███▌      | 7/20 [00:04<00:09,  1.43it/s]"
     ]
    },
    {
     "name": "stdout",
     "output_type": "stream",
     "text": [
      "Epoch 6, Loss 1.030415654182434\n"
     ]
    },
    {
     "name": "stderr",
     "output_type": "stream",
     "text": [
      "Epoch:  40%|████      | 8/20 [00:05<00:08,  1.44it/s]"
     ]
    },
    {
     "name": "stdout",
     "output_type": "stream",
     "text": [
      "Epoch 7, Loss 0.8708010911941528\n"
     ]
    },
    {
     "name": "stderr",
     "output_type": "stream",
     "text": [
      "Epoch:  45%|████▌     | 9/20 [00:06<00:07,  1.43it/s]"
     ]
    },
    {
     "name": "stdout",
     "output_type": "stream",
     "text": [
      "Epoch 8, Loss 1.0426318645477295\n"
     ]
    },
    {
     "name": "stderr",
     "output_type": "stream",
     "text": [
      "Epoch:  50%|█████     | 10/20 [00:06<00:06,  1.44it/s]"
     ]
    },
    {
     "name": "stdout",
     "output_type": "stream",
     "text": [
      "Epoch 9, Loss 0.7948912382125854\n"
     ]
    },
    {
     "name": "stderr",
     "output_type": "stream",
     "text": [
      "Epoch:  55%|█████▌    | 11/20 [00:07<00:06,  1.44it/s]"
     ]
    },
    {
     "name": "stdout",
     "output_type": "stream",
     "text": [
      "Epoch 10, Loss 0.8549607992172241\n"
     ]
    },
    {
     "name": "stderr",
     "output_type": "stream",
     "text": [
      "Epoch:  60%|██████    | 12/20 [00:08<00:05,  1.43it/s]"
     ]
    },
    {
     "name": "stdout",
     "output_type": "stream",
     "text": [
      "Epoch 11, Loss 1.0234349966049194\n"
     ]
    },
    {
     "name": "stderr",
     "output_type": "stream",
     "text": [
      "Epoch:  65%|██████▌   | 13/20 [00:09<00:05,  1.40it/s]"
     ]
    },
    {
     "name": "stdout",
     "output_type": "stream",
     "text": [
      "Epoch 12, Loss 0.8591918349266052\n"
     ]
    },
    {
     "name": "stderr",
     "output_type": "stream",
     "text": [
      "Epoch:  70%|███████   | 14/20 [00:09<00:04,  1.41it/s]"
     ]
    },
    {
     "name": "stdout",
     "output_type": "stream",
     "text": [
      "Epoch 13, Loss 0.7199611663818359\n"
     ]
    },
    {
     "name": "stderr",
     "output_type": "stream",
     "text": [
      "Epoch:  75%|███████▌  | 15/20 [00:10<00:03,  1.42it/s]"
     ]
    },
    {
     "name": "stdout",
     "output_type": "stream",
     "text": [
      "Epoch 14, Loss 0.8643753528594971\n"
     ]
    },
    {
     "name": "stderr",
     "output_type": "stream",
     "text": [
      "Epoch:  80%|████████  | 16/20 [00:11<00:02,  1.38it/s]"
     ]
    },
    {
     "name": "stdout",
     "output_type": "stream",
     "text": [
      "Epoch 15, Loss 0.9915347099304199\n"
     ]
    },
    {
     "name": "stderr",
     "output_type": "stream",
     "text": [
      "Epoch:  85%|████████▌ | 17/20 [00:12<00:02,  1.39it/s]"
     ]
    },
    {
     "name": "stdout",
     "output_type": "stream",
     "text": [
      "Epoch 16, Loss 0.7853351831436157\n"
     ]
    },
    {
     "name": "stderr",
     "output_type": "stream",
     "text": [
      "Epoch:  90%|█████████ | 18/20 [00:12<00:01,  1.40it/s]"
     ]
    },
    {
     "name": "stdout",
     "output_type": "stream",
     "text": [
      "Epoch 17, Loss 0.7959012985229492\n"
     ]
    },
    {
     "name": "stderr",
     "output_type": "stream",
     "text": [
      "Epoch:  95%|█████████▌| 19/20 [00:13<00:00,  1.40it/s]"
     ]
    },
    {
     "name": "stdout",
     "output_type": "stream",
     "text": [
      "Epoch 18, Loss 0.8674218058586121\n"
     ]
    },
    {
     "name": "stderr",
     "output_type": "stream",
     "text": [
      "Epoch: 100%|██████████| 20/20 [00:14<00:00,  1.41it/s]"
     ]
    },
    {
     "name": "stdout",
     "output_type": "stream",
     "text": [
      "Epoch 19, Loss 0.8937193155288696\n"
     ]
    },
    {
     "name": "stderr",
     "output_type": "stream",
     "text": [
      "\n"
     ]
    }
   ],
   "source": [
    "if TRAINING:\n",
    "    conj_best_v_acc = 0\n",
    "    conj_best_model = None\n",
    "    conj_best_hyperparams = []\n",
    "    conj_best_acc = []\n",
    "\n",
    "    for model, hyperparams in behave_grid_search_generator():\n",
    "        n_epochs = hyperparams[0]\n",
    "        \n",
    "        print(f\"Training model with {hyperparams=}\")\n",
    "        \n",
    "        optimizer = optim.Adam(model.parameters())\n",
    "        loss_fnc = nn.CrossEntropyLoss().to(device)\n",
    "        \n",
    "        train_behave(model, optimizer, loss_fnc, n_epochs)\n",
    "        \n",
    "        t_acc = evaluate_model_dataloader(model, behave_train_dataloader)\n",
    "        v_acc = evaluate_model_dataloader(model, behave_val_dataloader)\n",
    "        \n",
    "        if v_acc > conj_best_v_acc or conj_best_v_acc == 0:\n",
    "            conj_best_model = model\n",
    "            conj_best_hyperparams = hyperparams\n",
    "            conj_best_acc = [t_acc, v_acc]"
   ]
  },
  {
   "cell_type": "code",
   "execution_count": 86,
   "id": "a0616265",
   "metadata": {},
   "outputs": [
    {
     "name": "stdout",
     "output_type": "stream",
     "text": [
      "Best model hyperparameters are [20, 'RNN', 2, 128] with 0.5185546875 validation accuracy\n"
     ]
    }
   ],
   "source": [
    "if TRAINING:\n",
    "    print(f\"Best model hyperparameters are {conj_best_hyperparams} with {conj_best_acc[1]} validation accuracy\")"
   ]
  },
  {
   "cell_type": "code",
   "execution_count": 87,
   "id": "0428ae59",
   "metadata": {},
   "outputs": [],
   "source": [
    "if not TRAINING:\n",
    "    # Make sure this corresponds to the actual selected hyperparameters\n",
    "    conj_best_model = ConjugationMLP(embedding=embeddings_train, use_attention=True).to(device)"
   ]
  },
  {
   "cell_type": "code",
   "execution_count": 88,
   "id": "16e83c6f",
   "metadata": {},
   "outputs": [],
   "source": [
    "conj_best_model = save_load_model(\n",
    "    filepath=SAVE_PATH + \"conjugation_model.pth\", model=conj_best_model, \n",
    "    model_instance=conj_best_model, force_save=TRAINING\n",
    ")"
   ]
  },
  {
   "cell_type": "code",
   "execution_count": 89,
   "id": "485a8e43",
   "metadata": {},
   "outputs": [
    {
     "data": {
      "text/plain": [
       "(ConjugationRNN(\n",
       "   (embedding): Embedding(1880, 16)\n",
       "   (lstm): LSTM(16, 128, num_layers=2, batch_first=True)\n",
       "   (fc1): Linear(in_features=768, out_features=128, bias=True)\n",
       "   (fc2): Linear(in_features=128, out_features=12, bias=True)\n",
       " ),\n",
       " True)"
      ]
     },
     "execution_count": 89,
     "metadata": {},
     "output_type": "execute_result"
    }
   ],
   "source": [
    "conj_best_model, TRAINING"
   ]
  },
  {
   "cell_type": "markdown",
   "id": "6e3286cf",
   "metadata": {},
   "source": [
    "Running the best model on test data"
   ]
  },
  {
   "cell_type": "code",
   "execution_count": 91,
   "id": "73cf099a",
   "metadata": {},
   "outputs": [
    {
     "name": "stdout",
     "output_type": "stream",
     "text": [
      "Performance on unseen data: 50.820%\n"
     ]
    }
   ],
   "source": [
    "conj_best_test_acc = evaluate_model_dataloader(conj_best_model, behave_test_dataloader)\n",
    "print(f'Performance on unseen data: {conj_best_test_acc*100:.3f}%')"
   ]
  },
  {
   "cell_type": "markdown",
   "id": "f8991654",
   "metadata": {},
   "source": [
    "## 2.3: text generation"
   ]
  },
  {
   "cell_type": "code",
   "execution_count": 92,
   "id": "74e862d5",
   "metadata": {},
   "outputs": [],
   "source": [
    "gen_train_dataset_t, gen_train_context, gen_train_targets = create_dataset(\n",
    "    train_token, train_vocab, CONTEXT_SIZE, banned_words=[0], position=\"ahead\"\n",
    ")\n",
    "\n",
    "gen_val_dataset_t, gen_val_context, gen_val_targets = create_dataset(\n",
    "    val_token, train_vocab, CONTEXT_SIZE, banned_words=[0], position=\"ahead\"\n",
    ")\n",
    "\n",
    "gen_test_dataset_t, gen_test_context, gen_test_targets = create_dataset(\n",
    "    test_token, train_vocab, CONTEXT_SIZE, banned_words=[0], position=\"ahead\"\n",
    ")"
   ]
  },
  {
   "cell_type": "code",
   "execution_count": 93,
   "id": "d7a7046f",
   "metadata": {},
   "outputs": [
    {
     "data": {
      "text/plain": [
       "0"
      ]
     },
     "execution_count": 93,
     "metadata": {},
     "output_type": "execute_result"
    }
   ],
   "source": [
    "# Removing unknown words since that is no fun\n",
    "len(gen_train_targets[gen_train_targets == 0])"
   ]
  },
  {
   "cell_type": "code",
   "execution_count": 94,
   "id": "9cefca79",
   "metadata": {},
   "outputs": [],
   "source": [
    "gen_train_dataloader = DataLoader(gen_train_dataset_t, batch_size=1024, shuffle=True)\n",
    "gen_val_dataloader = DataLoader(gen_val_dataset_t, batch_size=1024, shuffle=True)\n",
    "gen_test_dataloader = DataLoader(gen_test_dataset_t, batch_size=1024, shuffle=False)"
   ]
  },
  {
   "cell_type": "markdown",
   "id": "1ca04705",
   "metadata": {},
   "source": [
    "Pure RNN network"
   ]
  },
  {
   "cell_type": "code",
   "execution_count": 126,
   "id": "3581fac2",
   "metadata": {},
   "outputs": [],
   "source": [
    "class NextWordRNN(nn.Module):\n",
    "    def __init__(self, embedding=None, context_size=CONTEXT_SIZE, rnn_hidden_size=128, rnn_num_layers=1):\n",
    "        super().__init__()\n",
    "        \n",
    "        self.rnn_hidden_size = rnn_hidden_size\n",
    "        self.rnn_num_layers = rnn_num_layers\n",
    "        \n",
    "        (self.vocab_size, self.embedding_dim) = embedding.weight.shape\n",
    "        # Instantiate an embedding layer\n",
    "        self.embedding = nn.Embedding(self.vocab_size, self.embedding_dim)\n",
    "        # Load the pretrained weights\n",
    "        self.embedding.load_state_dict(embedding.state_dict())\n",
    "        # Freeze the layer\n",
    "        for p in self.embedding.parameters():\n",
    "            p.requires_grad = False\n",
    "        \n",
    "        # RNN layer\n",
    "        self.rnn = nn.RNN(\n",
    "            self.embedding_dim, self.embedding_dim, rnn_num_layers,\n",
    "            batch_first=True)\n",
    "\n",
    "        # Linear layers\n",
    "        self.fc1 = nn.Linear(self.embedding_dim, 256)\n",
    "        self.fc2 = nn.Linear(256, self.vocab_size)\n",
    "\n",
    "    def forward(self, x, hidden):\n",
    "        out = self.embedding(x)\n",
    "        # out is now of shape (N, context_size, embedding_dim)\n",
    "\n",
    "        # RNN layer\n",
    "        out, hidden = self.rnn(out, hidden)\n",
    "        # out is now of shape (N, context_size, hidden_size)\n",
    "\n",
    "        #out = F.relu(self.fc1(torch.flatten(out, 1)))\n",
    "        out = out.contiguous().mean(1).view(-1, self.embedding_dim)\n",
    "        # out is now of shape (N, context_size*hidden_size)\n",
    "\n",
    "        out = self.fc1(out)\n",
    "        out = self.fc2(out)\n",
    "        return out, hidden\n",
    "    \n",
    "    def init_hidden(self, batch_size):\n",
    "        return torch.zeros(self.rnn_num_layers, batch_size, self.embedding_dim)"
   ]
  },
  {
   "cell_type": "markdown",
   "id": "ee62fa99",
   "metadata": {},
   "source": [
    "RNN with attention (probably not the best idea...)"
   ]
  },
  {
   "cell_type": "code",
   "execution_count": 127,
   "id": "1380059c",
   "metadata": {},
   "outputs": [],
   "source": [
    "class OptimusBad(nn.Module):\n",
    "    def __init__(self, embedding=None, context_size=CONTEXT_SIZE, rnn_hidden_size=128, rnn_num_layers=1):\n",
    "        super().__init__()\n",
    "        \n",
    "        self.rnn_hidden_size = rnn_hidden_size\n",
    "        self.rnn_num_layers = rnn_num_layers\n",
    "        \n",
    "        (self.vocab_size, self.embedding_dim) = embedding.weight.shape\n",
    "        # Instantiate an embedding layer\n",
    "        self.embedding = nn.Embedding(self.vocab_size, self.embedding_dim)\n",
    "        # Load the pretrained weights\n",
    "        self.embedding.load_state_dict(embedding.state_dict())\n",
    "        # Freeze the layer\n",
    "        for p in self.embedding.parameters():\n",
    "            p.requires_grad = False\n",
    "        \n",
    "        # LSTM layer\n",
    "        self.rnn = nn.RNN(\n",
    "            self.embedding_dim, self.embedding_dim, rnn_num_layers,\n",
    "            batch_first=True)\n",
    "        \n",
    "        self.multihead = MultiheadAttention(p=self.embedding_dim, num_heads=4, context_size=100).to(device)\n",
    "\n",
    "        self.layer_norm = nn.LayerNorm(self.embedding_dim)\n",
    "        \n",
    "\n",
    "        # Linear layers\n",
    "        self.fc1 = nn.Linear(self.embedding_dim, 256)\n",
    "        self.fc2 = nn.Linear(256, self.vocab_size)\n",
    "\n",
    "    def forward(self, x, hidden):\n",
    "        out = self.embedding(x)\n",
    "        # out is now of shape (N, context_size, embedding_dim)\n",
    "\n",
    "        out = self.multihead(out) + out\n",
    "\n",
    "        out = self.layer_norm(out)\n",
    "\n",
    "        # LSTM layer\n",
    "        out, hidden = self.rnn(out, hidden)\n",
    "        # out is now of shape (N, context_size, hidden_size)\n",
    "\n",
    "        #out = F.relu(self.fc1(torch.flatten(out, 1)))\n",
    "        out = out.contiguous().mean(1).view(-1, self.embedding_dim)\n",
    "        # out is now of shape (N, context_size*hidden_size)\n",
    "\n",
    "        out = self.fc1(out)\n",
    "        out = self.fc2(out)\n",
    "        return out, hidden\n",
    "    \n",
    "    def init_hidden(self, batch_size):\n",
    "        return torch.zeros(self.rnn_num_layers, batch_size, self.embedding_dim)"
   ]
  },
  {
   "cell_type": "markdown",
   "id": "6b9727bd",
   "metadata": {},
   "source": [
    "Experimental training for NextWordRNN"
   ]
  },
  {
   "cell_type": "code",
   "execution_count": 128,
   "id": "a5e71fdd",
   "metadata": {},
   "outputs": [],
   "source": [
    "torch.manual_seed(seed)\n",
    "model_test = NextWordRNN(embedding=embeddings_train, rnn_hidden_size=128, rnn_num_layers=1).to(device)\n",
    "loss_fnc_test = nn.CrossEntropyLoss().to(device)\n",
    "optimizer_test = optim.Adam(model_test.parameters())"
   ]
  },
  {
   "cell_type": "code",
   "execution_count": 129,
   "id": "3a4bbc08",
   "metadata": {},
   "outputs": [
    {
     "data": {
      "text/plain": [
       "NextWordRNN(\n",
       "  (embedding): Embedding(1880, 16)\n",
       "  (rnn): RNN(16, 16, batch_first=True)\n",
       "  (fc1): Linear(in_features=16, out_features=256, bias=True)\n",
       "  (fc2): Linear(in_features=256, out_features=1880, bias=True)\n",
       ")"
      ]
     },
     "execution_count": 129,
     "metadata": {},
     "output_type": "execute_result"
    }
   ],
   "source": [
    "model_test"
   ]
  },
  {
   "cell_type": "code",
   "execution_count": 130,
   "id": "a27f6687",
   "metadata": {},
   "outputs": [],
   "source": [
    "def train_generator(model, loss_fn, optimizer, epochs):\n",
    "    for epoch in trange(epochs, desc=\"epochs\"):\n",
    "        for input, targets in gen_train_dataloader:\n",
    "            hidden = model.init_hidden(len(input)).to(device)\n",
    "\n",
    "            input = input.to(device)\n",
    "            targets = targets.to(device)\n",
    "\n",
    "            optimizer.zero_grad()\n",
    "            \n",
    "            # Forward pass\n",
    "            output, hidden = model(input, hidden)\n",
    "            \n",
    "            # Detach hidden states\n",
    "            hidden = tuple([h.detach() for h in hidden])\n",
    "            \n",
    "            loss = loss_fn(output, targets.view(-1))\n",
    "            loss.backward()\n",
    "            optimizer.step()\n",
    "\n",
    "        print(f\"Epoch {epoch}, Loss {loss}\")"
   ]
  },
  {
   "cell_type": "markdown",
   "id": "6ca934df",
   "metadata": {},
   "source": [
    "Hyperparameter tuning for text generation"
   ]
  },
  {
   "cell_type": "code",
   "execution_count": 137,
   "id": "6c37f2c5",
   "metadata": {},
   "outputs": [],
   "source": [
    "def text_gen_grid_search_generator():\n",
    "    for n_epochs in [10]:\n",
    "        for model_class in [\"Attention\", \"RNN\"]:\n",
    "            match model_class:\n",
    "                case \"Attention\":\n",
    "                    torch.manual_seed(seed)\n",
    "                    model = OptimusBad(embedding=embeddings_train).to(device)\n",
    "                    yield model, [n_epochs, model_class]\n",
    "                case \"RNN\":\n",
    "                    for hidden_size in [64]:\n",
    "                        torch.manual_seed(seed)\n",
    "                        model = NextWordRNN(embedding=embeddings_train, rnn_hidden_size=hidden_size).to(device)\n",
    "                        yield model, [n_epochs, model_class, hidden_size]\n",
    "                case _:\n",
    "                    print(f\"Unrecognized model_class {model_class}\")"
   ]
  },
  {
   "cell_type": "code",
   "execution_count": 138,
   "id": "902788a3",
   "metadata": {},
   "outputs": [
    {
     "name": "stdout",
     "output_type": "stream",
     "text": [
      "Training model with hyperparams=[10, 'Attention']\n"
     ]
    },
    {
     "name": "stderr",
     "output_type": "stream",
     "text": [
      "epochs:  10%|█         | 1/10 [00:15<02:17, 15.23s/it]"
     ]
    },
    {
     "name": "stdout",
     "output_type": "stream",
     "text": [
      "Epoch 0, Loss 4.893943786621094\n"
     ]
    },
    {
     "name": "stderr",
     "output_type": "stream",
     "text": [
      "epochs:  20%|██        | 2/10 [00:29<01:59, 14.92s/it]"
     ]
    },
    {
     "name": "stdout",
     "output_type": "stream",
     "text": [
      "Epoch 1, Loss 4.260959625244141\n"
     ]
    },
    {
     "name": "stderr",
     "output_type": "stream",
     "text": [
      "epochs:  30%|███       | 3/10 [00:44<01:42, 14.64s/it]"
     ]
    },
    {
     "name": "stdout",
     "output_type": "stream",
     "text": [
      "Epoch 2, Loss 5.121345520019531\n"
     ]
    },
    {
     "name": "stderr",
     "output_type": "stream",
     "text": [
      "epochs:  40%|████      | 4/10 [00:58<01:26, 14.43s/it]"
     ]
    },
    {
     "name": "stdout",
     "output_type": "stream",
     "text": [
      "Epoch 3, Loss 3.806652307510376\n"
     ]
    },
    {
     "name": "stderr",
     "output_type": "stream",
     "text": [
      "epochs:  50%|█████     | 5/10 [01:12<01:11, 14.30s/it]"
     ]
    },
    {
     "name": "stdout",
     "output_type": "stream",
     "text": [
      "Epoch 4, Loss 4.445745944976807\n"
     ]
    },
    {
     "name": "stderr",
     "output_type": "stream",
     "text": [
      "epochs:  60%|██████    | 6/10 [01:26<00:57, 14.28s/it]"
     ]
    },
    {
     "name": "stdout",
     "output_type": "stream",
     "text": [
      "Epoch 5, Loss 4.232029914855957\n"
     ]
    },
    {
     "name": "stderr",
     "output_type": "stream",
     "text": [
      "epochs:  70%|███████   | 7/10 [01:40<00:42, 14.24s/it]"
     ]
    },
    {
     "name": "stdout",
     "output_type": "stream",
     "text": [
      "Epoch 6, Loss 4.40986442565918\n"
     ]
    },
    {
     "name": "stderr",
     "output_type": "stream",
     "text": [
      "epochs:  80%|████████  | 8/10 [01:55<00:28, 14.29s/it]"
     ]
    },
    {
     "name": "stdout",
     "output_type": "stream",
     "text": [
      "Epoch 7, Loss 4.543718338012695\n"
     ]
    },
    {
     "name": "stderr",
     "output_type": "stream",
     "text": [
      "epochs:  90%|█████████ | 9/10 [02:09<00:14, 14.43s/it]"
     ]
    },
    {
     "name": "stdout",
     "output_type": "stream",
     "text": [
      "Epoch 8, Loss 3.876676082611084\n"
     ]
    },
    {
     "name": "stderr",
     "output_type": "stream",
     "text": [
      "epochs: 100%|██████████| 10/10 [02:24<00:00, 14.45s/it]"
     ]
    },
    {
     "name": "stdout",
     "output_type": "stream",
     "text": [
      "Epoch 9, Loss 4.669893264770508\n"
     ]
    },
    {
     "name": "stderr",
     "output_type": "stream",
     "text": [
      "\n"
     ]
    },
    {
     "name": "stdout",
     "output_type": "stream",
     "text": [
      "Training model with hyperparams=[10, 'RNN', 64]\n"
     ]
    },
    {
     "name": "stderr",
     "output_type": "stream",
     "text": [
      "epochs:  10%|█         | 1/10 [00:12<01:54, 12.69s/it]"
     ]
    },
    {
     "name": "stdout",
     "output_type": "stream",
     "text": [
      "Epoch 0, Loss 4.525826930999756\n"
     ]
    },
    {
     "name": "stderr",
     "output_type": "stream",
     "text": [
      "epochs:  20%|██        | 2/10 [00:25<01:40, 12.60s/it]"
     ]
    },
    {
     "name": "stdout",
     "output_type": "stream",
     "text": [
      "Epoch 1, Loss 4.447353363037109\n"
     ]
    },
    {
     "name": "stderr",
     "output_type": "stream",
     "text": [
      "epochs:  30%|███       | 3/10 [00:37<01:26, 12.42s/it]"
     ]
    },
    {
     "name": "stdout",
     "output_type": "stream",
     "text": [
      "Epoch 2, Loss 4.51756477355957\n"
     ]
    },
    {
     "name": "stderr",
     "output_type": "stream",
     "text": [
      "epochs:  40%|████      | 4/10 [00:50<01:15, 12.56s/it]"
     ]
    },
    {
     "name": "stdout",
     "output_type": "stream",
     "text": [
      "Epoch 3, Loss 4.244434356689453\n"
     ]
    },
    {
     "name": "stderr",
     "output_type": "stream",
     "text": [
      "epochs:  50%|█████     | 5/10 [01:03<01:03, 12.72s/it]"
     ]
    },
    {
     "name": "stdout",
     "output_type": "stream",
     "text": [
      "Epoch 4, Loss 5.079143524169922\n"
     ]
    },
    {
     "name": "stderr",
     "output_type": "stream",
     "text": [
      "epochs:  60%|██████    | 6/10 [01:15<00:50, 12.62s/it]"
     ]
    },
    {
     "name": "stdout",
     "output_type": "stream",
     "text": [
      "Epoch 5, Loss 4.6272292137146\n"
     ]
    },
    {
     "name": "stderr",
     "output_type": "stream",
     "text": [
      "epochs:  70%|███████   | 7/10 [01:28<00:37, 12.55s/it]"
     ]
    },
    {
     "name": "stdout",
     "output_type": "stream",
     "text": [
      "Epoch 6, Loss 4.4193549156188965\n"
     ]
    },
    {
     "name": "stderr",
     "output_type": "stream",
     "text": [
      "epochs:  80%|████████  | 8/10 [01:40<00:25, 12.57s/it]"
     ]
    },
    {
     "name": "stdout",
     "output_type": "stream",
     "text": [
      "Epoch 7, Loss 4.428864002227783\n"
     ]
    },
    {
     "name": "stderr",
     "output_type": "stream",
     "text": [
      "epochs:  90%|█████████ | 9/10 [01:53<00:12, 12.53s/it]"
     ]
    },
    {
     "name": "stdout",
     "output_type": "stream",
     "text": [
      "Epoch 8, Loss 3.952335834503174\n"
     ]
    },
    {
     "name": "stderr",
     "output_type": "stream",
     "text": [
      "epochs: 100%|██████████| 10/10 [02:05<00:00, 12.51s/it]"
     ]
    },
    {
     "name": "stdout",
     "output_type": "stream",
     "text": [
      "Epoch 9, Loss 4.398306369781494\n"
     ]
    },
    {
     "name": "stderr",
     "output_type": "stream",
     "text": [
      "\n"
     ]
    }
   ],
   "source": [
    "if TRAINING:\n",
    "    gen_best_v_acc = 0\n",
    "    gen_best_model = None\n",
    "    gen_best_hyperparams = []\n",
    "    gen_best_acc = []\n",
    "\n",
    "    for model, hyperparams in text_gen_grid_search_generator():\n",
    "        n_epochs = hyperparams[0]\n",
    "        \n",
    "        print(f\"Training model with {hyperparams=}\")\n",
    "        \n",
    "        optimizer = optim.Adam(model.parameters())\n",
    "        loss_fnc = nn.CrossEntropyLoss().to(device)\n",
    "        \n",
    "        train_generator(model, loss_fnc, optimizer, n_epochs)\n",
    "        \n",
    "        t_acc = evaluate_model_dataloader(model, gen_train_dataloader, hidden_arg=True)\n",
    "        v_acc = evaluate_model_dataloader(model, gen_val_dataloader, hidden_arg=True)\n",
    "        \n",
    "        if v_acc > gen_best_v_acc or gen_best_v_acc == 0:\n",
    "            gen_best_model = model\n",
    "            gen_best_hyperparams = hyperparams\n",
    "            gen_best_acc = [t_acc, v_acc]"
   ]
  },
  {
   "cell_type": "code",
   "execution_count": 139,
   "id": "b329b5ce",
   "metadata": {},
   "outputs": [
    {
     "name": "stdout",
     "output_type": "stream",
     "text": [
      "Best model hyperparameters are [10, 'RNN', 64] with 0.15322503447532654 validation accuracy\n"
     ]
    }
   ],
   "source": [
    "if TRAINING:\n",
    "    print(f\"Best model hyperparameters are {gen_best_hyperparams} with {gen_best_acc[1]} validation accuracy\")"
   ]
  },
  {
   "cell_type": "code",
   "execution_count": 140,
   "id": "4892fbad",
   "metadata": {},
   "outputs": [],
   "source": [
    "if not TRAINING:\n",
    "    # TODO: Make sure this corresponds to the actual selected hyperparameters\n",
    "    gen_best_model = NextWordRNN(embedding=embeddings_train).to(device)"
   ]
  },
  {
   "cell_type": "code",
   "execution_count": 141,
   "id": "5deac8c3",
   "metadata": {},
   "outputs": [],
   "source": [
    "gen_best_model = save_load_model(\n",
    "    filepath=SAVE_PATH + \"generation_model.pth\", model=gen_best_model,\n",
    "    model_instance=gen_best_model, force_save=TRAINING\n",
    ")"
   ]
  },
  {
   "cell_type": "code",
   "execution_count": 142,
   "id": "4d307d06",
   "metadata": {},
   "outputs": [
    {
     "data": {
      "text/plain": [
       "(NextWordRNN(\n",
       "   (embedding): Embedding(1880, 16)\n",
       "   (rnn): RNN(16, 16, batch_first=True)\n",
       "   (fc1): Linear(in_features=16, out_features=256, bias=True)\n",
       "   (fc2): Linear(in_features=256, out_features=1880, bias=True)\n",
       " ),\n",
       " True)"
      ]
     },
     "execution_count": 142,
     "metadata": {},
     "output_type": "execute_result"
    }
   ],
   "source": [
    "gen_best_model, TRAINING"
   ]
  },
  {
   "cell_type": "code",
   "execution_count": 143,
   "id": "33a4f55f",
   "metadata": {},
   "outputs": [
    {
     "data": {
      "text/plain": [
       "NextWordRNN(\n",
       "  (embedding): Embedding(1880, 16)\n",
       "  (rnn): RNN(16, 16, batch_first=True)\n",
       "  (fc1): Linear(in_features=16, out_features=256, bias=True)\n",
       "  (fc2): Linear(in_features=256, out_features=1880, bias=True)\n",
       ")"
      ]
     },
     "execution_count": 143,
     "metadata": {},
     "output_type": "execute_result"
    }
   ],
   "source": [
    "gen_best_model.eval()"
   ]
  },
  {
   "cell_type": "markdown",
   "id": "d30420c3",
   "metadata": {},
   "source": [
    "Testing accuracy for the selected generator model"
   ]
  },
  {
   "cell_type": "code",
   "execution_count": 144,
   "id": "27453f70",
   "metadata": {},
   "outputs": [
    {
     "name": "stdout",
     "output_type": "stream",
     "text": [
      "Selected model has 0.180 testing accuracy\n"
     ]
    }
   ],
   "source": [
    "test_acc = evaluate_model_dataloader(gen_best_model, gen_test_dataloader, hidden_arg=True)\n",
    "print(f\"Selected model has {test_acc:.3f} testing accuracy\")"
   ]
  },
  {
   "cell_type": "markdown",
   "id": "1431d955",
   "metadata": {},
   "source": [
    "Using the model"
   ]
  },
  {
   "cell_type": "code",
   "execution_count": 145,
   "id": "3a33f809",
   "metadata": {},
   "outputs": [],
   "source": [
    "sentence = 'You are tall'.lower().split(' ')"
   ]
  },
  {
   "cell_type": "code",
   "execution_count": 146,
   "id": "1e4e06cf",
   "metadata": {},
   "outputs": [],
   "source": [
    "start = train_vocab.lookup_indices(sentence)"
   ]
  },
  {
   "cell_type": "code",
   "execution_count": 147,
   "id": "7c0766cc",
   "metadata": {},
   "outputs": [],
   "source": [
    "hidden_t = None\n",
    "def get_next_word(sequence):\n",
    "    global hidden_t\n",
    "    print(sequence)\n",
    "    \n",
    "    hidden_test = gen_best_model.init_hidden(1).to(device) if len(sequence) == 1 else hidden_t\n",
    "    test_output, hidden_t = gen_best_model(torch.tensor(sequence).unsqueeze(0).to(device), hidden_test)\n",
    "    return sequence + test_output.argmax(dim=1).tolist()"
   ]
  },
  {
   "cell_type": "code",
   "execution_count": 148,
   "id": "2beb5488",
   "metadata": {},
   "outputs": [
    {
     "name": "stdout",
     "output_type": "stream",
     "text": [
      "[23, 38, 885]\n",
      "[23, 38, 885, 702]\n",
      "[23, 38, 885, 702, 3]\n",
      "[23, 38, 885, 702, 3, 1879]\n",
      "[23, 38, 885, 702, 3, 1879, 99]\n",
      "[23, 38, 885, 702, 3, 1879, 99, 2]\n",
      "[23, 38, 885, 702, 3, 1879, 99, 2, 123]\n",
      "[23, 38, 885, 702, 3, 1879, 99, 2, 123, 5]\n",
      "[23, 38, 885, 702, 3, 1879, 99, 2, 123, 5, 2]\n",
      "[23, 38, 885, 702, 3, 1879, 99, 2, 123, 5, 2, 3]\n"
     ]
    },
    {
     "data": {
      "text/plain": [
       "'you are tall francs . i t the same of the . the'"
      ]
     },
     "execution_count": 148,
     "metadata": {},
     "output_type": "execute_result"
    }
   ],
   "source": [
    "for n in range(10):\n",
    "    start = get_next_word(start)\n",
    "\n",
    "' '.join(train_vocab.lookup_tokens(start))"
   ]
  },
  {
   "cell_type": "code",
   "execution_count": 149,
   "id": "e2d1b458",
   "metadata": {},
   "outputs": [
    {
     "data": {
      "text/plain": [
       "[23, 38, 885, 702, 3, 1879, 99, 2, 123, 5, 2, 3, 2]"
      ]
     },
     "execution_count": 149,
     "metadata": {},
     "output_type": "execute_result"
    }
   ],
   "source": [
    "start"
   ]
  },
  {
   "cell_type": "markdown",
   "id": "9d64e7a4",
   "metadata": {},
   "source": [
    "## Beam Search"
   ]
  },
  {
   "cell_type": "code",
   "execution_count": 150,
   "id": "b2a4db58",
   "metadata": {},
   "outputs": [],
   "source": [
    "def prob_get_next_word(sequence, hidden=gen_best_model.init_hidden(1).to(device), k=10):\n",
    "    test_output, hidden = gen_best_model(torch.tensor(sequence).unsqueeze(0).to(device), hidden)\n",
    "    return test_output.topk(dim=1, k=k), hidden"
   ]
  },
  {
   "cell_type": "code",
   "execution_count": 151,
   "id": "02285ccd",
   "metadata": {},
   "outputs": [],
   "source": [
    "def sentence_to_sequence(sentence: str):\n",
    "    x = sentence.lower().split(' ')\n",
    "    init = train_vocab.lookup_indices(x)\n",
    "    return init"
   ]
  },
  {
   "cell_type": "code",
   "execution_count": 152,
   "id": "3afc1cdd",
   "metadata": {},
   "outputs": [],
   "source": [
    "init = sentence_to_sequence(\"the world is\")"
   ]
  },
  {
   "cell_type": "code",
   "execution_count": 153,
   "id": "4a1a175c",
   "metadata": {},
   "outputs": [
    {
     "data": {
      "text/plain": [
       "[2, 327, 16]"
      ]
     },
     "execution_count": 153,
     "metadata": {},
     "output_type": "execute_result"
    }
   ],
   "source": [
    "init"
   ]
  },
  {
   "cell_type": "code",
   "execution_count": 154,
   "id": "64a0b136",
   "metadata": {},
   "outputs": [],
   "source": [
    "def sequence_to_sentence(seq):\n",
    "    return ' '.join(train_vocab.lookup_tokens(seq))"
   ]
  },
  {
   "cell_type": "code",
   "execution_count": 155,
   "id": "8c10f30c",
   "metadata": {},
   "outputs": [
    {
     "data": {
      "text/plain": [
       "'the world is'"
      ]
     },
     "execution_count": 155,
     "metadata": {},
     "output_type": "execute_result"
    }
   ],
   "source": [
    "sequence_to_sentence(init)"
   ]
  },
  {
   "cell_type": "code",
   "execution_count": 156,
   "id": "db0e56a1",
   "metadata": {},
   "outputs": [
    {
     "data": {
      "text/plain": [
       "(torch.return_types.topk(\n",
       " values=tensor([[8.4971, 6.5575, 6.2429, 6.2337, 6.2202, 5.7945, 5.7251, 5.6326, 5.5832,\n",
       "          5.4375]], device='cuda:0', grad_fn=<TopkBackward0>),\n",
       " indices=tensor([[ 17,   7, 256,  56, 213,   6, 208, 196, 207, 175]], device='cuda:0')),\n",
       " tensor([[[ 0.4233,  0.1558, -0.0112,  0.3377, -0.1675,  0.3315, -0.7761,\n",
       "           -0.7873,  0.9817,  0.5754,  0.4610,  0.2490, -0.0244, -0.0995,\n",
       "            0.5053,  0.1190]]], device='cuda:0', grad_fn=<CudnnRnnBackward0>))"
      ]
     },
     "execution_count": 156,
     "metadata": {},
     "output_type": "execute_result"
    }
   ],
   "source": [
    "prob_get_next_word(init) "
   ]
  },
  {
   "cell_type": "code",
   "execution_count": 157,
   "id": "95395289",
   "metadata": {},
   "outputs": [],
   "source": [
    "class MaxHeapPriorityQueue:\n",
    "    def __init__(self, maxsize):\n",
    "        self.maxsize = maxsize\n",
    "        self.queue = []\n",
    "\n",
    "    def push(self, item, priority):\n",
    "        if len(self.queue) < self.maxsize:\n",
    "            heapq.heappush(self.queue, (-priority, item))\n",
    "        else:\n",
    "            heapq.heappushpop(self.queue, (-priority, item))\n",
    "\n",
    "    def pop(self):\n",
    "        if self.queue:\n",
    "            return heapq.heappop(self.queue)[1]\n",
    "        else:\n",
    "            raise IndexError(\"pop from an empty priority queue\")\n",
    "\n",
    "    def __len__(self):\n",
    "        return len(self.queue)"
   ]
  },
  {
   "cell_type": "markdown",
   "id": "ac0eb9e9",
   "metadata": {},
   "source": [
    "Beam search, prioritized by the sum of each token's logit"
   ]
  },
  {
   "cell_type": "code",
   "execution_count": 158,
   "id": "c1cc4950",
   "metadata": {},
   "outputs": [],
   "source": [
    "def beam_search(sentence: str, beam_width: int = 10, sentence_length: int = 10):\n",
    "    paths = MaxHeapPriorityQueue(beam_width)\n",
    "    \n",
    "    init = sentence_to_sequence(sentence)\n",
    "    (values, indices), hidden = prob_get_next_word(init, k=beam_width)\n",
    "    \n",
    "    for value, index in zip(values[0].tolist(), indices[0].tolist()):\n",
    "        paths.push((value, init + [index], hidden), value)\n",
    "        \n",
    "    for _ in range(sentence_length - len(init) - 1):\n",
    "        new_paths = MaxHeapPriorityQueue(beam_width)\n",
    "        while paths:\n",
    "            prev_value, seq, hidden = paths.pop()\n",
    "\n",
    "            (values, indices), hidden = prob_get_next_word(seq, hidden=hidden, k=beam_width)\n",
    "            for value, index in zip(values[0].tolist(), indices[0].tolist()):\n",
    "                new_paths.push((value + prev_value, seq + [index], hidden), value + prev_value)\n",
    "                \n",
    "        paths = new_paths\n",
    "        \n",
    "    return paths.pop()[1]"
   ]
  },
  {
   "cell_type": "markdown",
   "id": "bf3a6a21",
   "metadata": {},
   "source": [
    "Testing the beam search"
   ]
  },
  {
   "cell_type": "code",
   "execution_count": 159,
   "id": "de367f8f",
   "metadata": {},
   "outputs": [
    {
     "data": {
      "text/plain": [
       "[2, 327, 16, 175, 32, 527, 661, 40, 42, 12, 12, 5]"
      ]
     },
     "execution_count": 159,
     "metadata": {},
     "output_type": "execute_result"
    }
   ],
   "source": [
    "x = beam_search(\"the world is\", beam_width=15, sentence_length=12)\n",
    "x"
   ]
  },
  {
   "cell_type": "code",
   "execution_count": 160,
   "id": "eab75b99",
   "metadata": {},
   "outputs": [
    {
     "data": {
      "text/plain": [
       "'the world is called from sea floor one who his his of'"
      ]
     },
     "execution_count": 160,
     "metadata": {},
     "output_type": "execute_result"
    }
   ],
   "source": [
    "sequence_to_sentence(x)"
   ]
  },
  {
   "cell_type": "code",
   "execution_count": 161,
   "id": "723ab29b",
   "metadata": {},
   "outputs": [
    {
     "data": {
      "text/plain": [
       "'as a large <unk> <unk> which that which dear and and as'"
      ]
     },
     "execution_count": 161,
     "metadata": {},
     "output_type": "execute_result"
    }
   ],
   "source": [
    "x = beam_search(\"As a large language model\", beam_width=15, sentence_length=12)\n",
    "sequence_to_sentence(x)"
   ]
  },
  {
   "cell_type": "code",
   "execution_count": 162,
   "id": "5d034b4d",
   "metadata": {},
   "outputs": [
    {
     "data": {
      "text/plain": [
       "'my name is already are with of and when and so as'"
      ]
     },
     "execution_count": 162,
     "metadata": {},
     "output_type": "execute_result"
    }
   ],
   "source": [
    "x = beam_search(\"my name is\", beam_width=15, sentence_length=12)\n",
    "sequence_to_sentence(x)"
   ]
  },
  {
   "cell_type": "code",
   "execution_count": 163,
   "id": "30dc655a",
   "metadata": {},
   "outputs": [
    {
     "data": {
      "text/plain": [
       "'we hast out with long or so so on of very for'"
      ]
     },
     "execution_count": 163,
     "metadata": {},
     "output_type": "execute_result"
    }
   ],
   "source": [
    "x = beam_search(\"we\", beam_width=15, sentence_length=12)\n",
    "sequence_to_sentence(x)"
   ]
  },
  {
   "cell_type": "code",
   "execution_count": null,
   "id": "ef5169a2",
   "metadata": {},
   "outputs": [],
   "source": []
  }
 ],
 "metadata": {
  "kernelspec": {
   "display_name": "Python 3 (ipykernel)",
   "language": "python",
   "name": "python3"
  },
  "language_info": {
   "codemirror_mode": {
    "name": "ipython",
    "version": 3
   },
   "file_extension": ".py",
   "mimetype": "text/x-python",
   "name": "python",
   "nbconvert_exporter": "python",
   "pygments_lexer": "ipython3",
   "version": "3.11.9"
  }
 },
 "nbformat": 4,
 "nbformat_minor": 5
}
