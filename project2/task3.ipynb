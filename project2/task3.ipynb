{
 "cells": [
  {
   "cell_type": "code",
   "execution_count": 1,
   "id": "4893db1e-4a61-495a-9cfa-fcb447b239ed",
   "metadata": {
    "id": "4893db1e-4a61-495a-9cfa-fcb447b239ed"
   },
   "outputs": [],
   "source": [
    "import torch\n",
    "import torch.nn as nn\n",
    "import torch.nn.functional as F\n",
    "from torchvision import datasets, transforms\n",
    "from torchvision.utils import draw_bounding_boxes\n",
    "from torchvision.transforms import Normalize\n",
    "\n",
    "from torchvision.ops import distance_box_iou_loss\n",
    "import torch.optim as optim\n",
    "from datetime import datetime\n",
    "import matplotlib.pyplot as plt\n",
    "import numpy as np\n",
    "from torch.utils.data import random_split, DataLoader, TensorDataset\n",
    "\n",
    "from tqdm import tqdm\n",
    "import pickle"
   ]
  },
  {
   "cell_type": "code",
   "execution_count": 2,
   "id": "73440301-39af-47e2-bb0c-6c98bcb9d901",
   "metadata": {
    "colab": {
     "base_uri": "https://localhost:8080/"
    },
    "id": "73440301-39af-47e2-bb0c-6c98bcb9d901",
    "outputId": "e1ecee47-daea-4620-9a71-5ac8ef15c1c2"
   },
   "outputs": [
    {
     "name": "stdout",
     "output_type": "stream",
     "text": [
      "Selected device: cuda\n"
     ]
    }
   ],
   "source": [
    "seed = 265\n",
    "device = (torch.device('cuda') if torch.cuda.is_available()\n",
    "          else torch.device('cpu'))\n",
    "torch.manual_seed(seed)\n",
    "print(f'Selected device: {device}')"
   ]
  },
  {
   "cell_type": "markdown",
   "id": "adecd62c-45a3-4e31-8af3-63bb7127e45b",
   "metadata": {
    "id": "adecd62c-45a3-4e31-8af3-63bb7127e45b"
   },
   "source": [
    "## Data loading and preprocessing\n",
    "\n",
    "Need to load data, normalize, preprocess labels and create dataset.\n",
    "\n"
   ]
  },
  {
   "cell_type": "code",
   "execution_count": 3,
   "id": "5af04660-fe78-4d96-a021-54fb55f10a31",
   "metadata": {
    "id": "5af04660-fe78-4d96-a021-54fb55f10a31"
   },
   "outputs": [],
   "source": [
    "def load_data():\n",
    "    # return only the first tensor so that we can preprocess the labels\n",
    "    train_data = torch.load('data/detection_train.pt').tensors[0]\n",
    "    val_data = torch.load('data/detection_val.pt').tensors[0]\n",
    "    test_data = torch.load('data/detection_test.pt').tensors[0]\n",
    "\n",
    "    # un-processed labels\n",
    "    train_labels = torch.load('data/list_y_true_train.pt')\n",
    "    val_labels = torch.load('data/list_y_true_val.pt')\n",
    "    test_labels = torch.load('data/list_y_true_test.pt')\n",
    "\n",
    "    return train_data, train_labels, val_data, val_labels, test_data, test_labels\n",
    "train_data, train_labels, val_data, val_labels, test_data, test_labels = load_data()"
   ]
  },
  {
   "cell_type": "code",
   "execution_count": 4,
   "id": "edfcf134-0d23-41d5-9338-5880eb87632f",
   "metadata": {},
   "outputs": [],
   "source": [
    "#Getting the mean and std value of training and creating a normalizer\n",
    "def normalize_data(data):\n",
    "    return transforms.Normalize(mean=torch.mean(train_data, axis=(0, 2, 3)), std=torch.std(train_data, axis=(0, 2, 3)))(data)"
   ]
  },
  {
   "cell_type": "code",
   "execution_count": 5,
   "id": "242ed2d3-2485-45ca-a3c5-020efaaf6a66",
   "metadata": {},
   "outputs": [],
   "source": [
    "#Normalizing the data\n",
    "normalized_train = normalize_data(train_data)\n",
    "normalized_val = normalize_data(val_data)\n",
    "normalized_test = normalize_data(test_data)"
   ]
  },
  {
   "cell_type": "code",
   "execution_count": 6,
   "id": "fb060261",
   "metadata": {},
   "outputs": [
    {
     "name": "stdout",
     "output_type": "stream",
     "text": [
      "Train mean, std : tensor(-1.2770e-07) tensor(1.)\n",
      "Train mean, std : tensor(-0.0045) tensor(0.9961)\n"
     ]
    }
   ],
   "source": [
    "#Sanity check\n",
    "print('Train mean, std :',normalized_train.mean(), normalized_train.std())\n",
    "print('Train mean, std :',normalized_val.mean(), normalized_val.std())\n",
    "#Dont want to look at test yet. As long as we know that we only normalized on training"
   ]
  },
  {
   "cell_type": "code",
   "execution_count": 7,
   "id": "2525cfeb-862e-4f15-a9c9-a726f81f135a",
   "metadata": {
    "id": "2525cfeb-862e-4f15-a9c9-a726f81f135a"
   },
   "outputs": [],
   "source": [
    "#Takes in bounding box with global cords and transform it to local cell cords\n",
    "def convert_to_local(t):\n",
    "    x_global, y_global, w_global, h_global = t[1:-1]\n",
    "\n",
    "    if y_global <= 0.5:\n",
    "        row = 0\n",
    "        grid_y = 0\n",
    "    else:\n",
    "        row = 1\n",
    "        grid_y = 0.5\n",
    "\n",
    "    if x_global < 1/3:\n",
    "        col = 0\n",
    "        grid_x = 0\n",
    "    elif 1/3 <= x_global <= 2/3:\n",
    "        col = 1\n",
    "        grid_x = 1/3\n",
    "    else:\n",
    "        col = 2\n",
    "        grid_x = 2/3\n",
    "\n",
    "    x_local = (x_global - grid_x) * 3\n",
    "\n",
    "    y_local = (y_global - grid_y) * 2\n",
    "\n",
    "    w_local = w_global * 3\n",
    "    h_local = h_global * 2\n",
    "\n",
    "    return row, col, torch.tensor([t[0], x_local, y_local, w_local, h_local, t[-1]])"
   ]
  },
  {
   "cell_type": "code",
   "execution_count": 8,
   "id": "51781bb9-bd9a-4c8d-9b39-ba3c6b8c4cfb",
   "metadata": {
    "id": "51781bb9-bd9a-4c8d-9b39-ba3c6b8c4cfb"
   },
   "outputs": [],
   "source": [
    "#Need to process all the data. Could use tensor operations, but runtime on desktop is suffiecient enough. Runtime is estimated to be around O(n^2) to O(nlogn)\n",
    "#We only need to run this before training, and not during. \n",
    "def process_all(labels):\n",
    "    new_tensor = torch.zeros(len(labels), 2, 3, 6)\n",
    "    for idx, t1 in enumerate(labels):\n",
    "        for t2 in t1:\n",
    "            if t2[0] == 1:\n",
    "                row, col, coords_tensor = convert_to_local(t2)\n",
    "                new_tensor[idx, row, col, :] = coords_tensor\n",
    "    return new_tensor"
   ]
  },
  {
   "cell_type": "code",
   "execution_count": 9,
   "id": "b41b25e5-97d1-438e-9073-d7d41b29f537",
   "metadata": {
    "id": "b41b25e5-97d1-438e-9073-d7d41b29f537"
   },
   "outputs": [],
   "source": [
    "train_labels_p = process_all(train_labels)\n",
    "val_labels_p = process_all(val_labels)\n",
    "test_labels_p = process_all(test_labels)"
   ]
  },
  {
   "cell_type": "code",
   "execution_count": 10,
   "id": "24596c6b-fa79-47f9-b3a7-8867f45ebc95",
   "metadata": {},
   "outputs": [
    {
     "data": {
      "text/plain": [
       "torch.Size([26874, 2, 3, 6])"
      ]
     },
     "execution_count": 10,
     "metadata": {},
     "output_type": "execute_result"
    }
   ],
   "source": [
    "train_labels_p.shape"
   ]
  },
  {
   "cell_type": "markdown",
   "id": "6816f3ad-baeb-4a0b-a9e1-2926b1ba4000",
   "metadata": {
    "id": "6816f3ad-baeb-4a0b-a9e1-2926b1ba4000"
   },
   "source": [
    "## Data exploration of self-preprocessed data"
   ]
  },
  {
   "cell_type": "code",
   "execution_count": 11,
   "id": "be7b3d38-09b3-4cae-9f7a-85fca3ed3e0f",
   "metadata": {
    "colab": {
     "base_uri": "https://localhost:8080/"
    },
    "id": "be7b3d38-09b3-4cae-9f7a-85fca3ed3e0f",
    "outputId": "d47f4f37-f3db-4bbb-b3af-aa97ff5c5316"
   },
   "outputs": [
    {
     "name": "stdout",
     "output_type": "stream",
     "text": [
      "Size of training set: 26874\n",
      "Size of validation set: 2967\n",
      "Size of test set: 4981\n",
      "\n",
      "Image size: torch.Size([26874, 1, 48, 60])\n",
      "Possible labels in the dataset: 0: 16035, 1: 18225\n",
      "\n",
      "Counts of different amount of objects in the data:\n",
      "Amount of images with 0 objects: 0\n",
      "Amount of images with 1 object: 19859\n",
      "Amount of images with 2 objects: 6650\n",
      "Amount of images with 3 objects: 359\n",
      "Amount of images with 4 objects: 6\n",
      "Amount of images with 5 objects: 0\n",
      "Total: 26874\n"
     ]
    }
   ],
   "source": [
    "print(f'Size of training set: {len(normalized_train)}')\n",
    "print(f'Size of validation set: {len(normalized_val)}')\n",
    "print(f'Size of test set: {len(normalized_test)}')\n",
    "print()\n",
    "\n",
    "train_labels_objects_only = (train_labels_p[train_labels_p[:,:,:,0] == 1])\n",
    "vals, counts = torch.unique(train_labels_objects_only[:,-1], return_counts=True)\n",
    "print(f'Image size: {train_data.shape}')\n",
    "print(f'Possible labels in the dataset: {int(vals[0])}: {counts[0]}, {int(vals[1])}: {counts[1]}')\n",
    "\n",
    "print()\n",
    "\n",
    "print('Counts of different amount of objects in the data:')\n",
    "\n",
    "no_objects = len(train_labels_p[torch.where(train_labels_p[:,:,:,0].sum(dim=2).sum(dim=1) == 0)])\n",
    "one_object = len(train_labels_p[torch.where(train_labels_p[:,:,:,0].sum(dim=2).sum(dim=1) == 1)])\n",
    "two_objects = len(train_labels_p[torch.where(train_labels_p[:,:,:,0].sum(dim=2).sum(dim=1) == 2)])\n",
    "three_objects = len(train_labels_p[torch.where(train_labels_p[:,:,:,0].sum(dim=2).sum(dim=1) == 3)])\n",
    "four_objects = len(train_labels_p[torch.where(train_labels_p[:,:,:,0].sum(dim=2).sum(dim=1) == 4)])\n",
    "five_objects = len(train_labels_p[torch.where(train_labels_p[:,:,:,0].sum(dim=2).sum(dim=1) == 5)])\n",
    "print(f'Amount of images with 0 objects: {no_objects}')\n",
    "print(f'Amount of images with 1 object: {one_object}')\n",
    "print(f'Amount of images with 2 objects: {two_objects}')\n",
    "print(f'Amount of images with 3 objects: {three_objects}')\n",
    "print(f'Amount of images with 4 objects: {four_objects}')\n",
    "print(f'Amount of images with 5 objects: {five_objects}')\n",
    "\n",
    "print(f'Total: {np.sum([one_object, two_objects, three_objects, four_objects])}')\n"
   ]
  },
  {
   "cell_type": "markdown",
   "id": "63532cf1-b457-4965-9710-c7e6e7d34cc7",
   "metadata": {
    "id": "63532cf1-b457-4965-9710-c7e6e7d34cc7"
   },
   "source": [
    "## Training examples:"
   ]
  },
  {
   "cell_type": "code",
   "execution_count": 12,
   "id": "67595de5-6566-4242-9202-8091246ffecd",
   "metadata": {
    "colab": {
     "base_uri": "https://localhost:8080/",
     "height": 406
    },
    "id": "67595de5-6566-4242-9202-8091246ffecd",
    "outputId": "07e6403e-aa23-43ca-9a77-c37c227b56a4"
   },
   "outputs": [
    {
     "data": {
      "image/png": "[encoded data removed]",
      "text/plain": [
       "<Figure size 640x480 with 20 Axes>"
      ]
     },
     "metadata": {},
     "output_type": "display_data"
    }
   ],
   "source": [
    "def show_examples():\n",
    "    fig, ax = plt.subplots(5, 4)\n",
    "    ax = ax.flatten()\n",
    "    for i in range(20):\n",
    "        ax[i].imshow(normalized_train[i].permute(1, 2, 0))\n",
    "        ax[i].axis('off')\n",
    "\n",
    "show_examples()"
   ]
  },
  {
   "cell_type": "markdown",
   "id": "73543826-c42d-45cd-818f-bca614822be7",
   "metadata": {
    "id": "73543826-c42d-45cd-818f-bca614822be7"
   },
   "source": [
    "## Training examples with bounding boxes"
   ]
  },
  {
   "cell_type": "markdown",
   "id": "93fdb494-228f-4264-82f5-11e559524859",
   "metadata": {
    "id": "93fdb494-228f-4264-82f5-11e559524859"
   },
   "source": [
    "#### We first have to convert the local data back to global coordinates"
   ]
  },
  {
   "cell_type": "code",
   "execution_count": 13,
   "id": "c5acb99e-c484-4732-9cf1-f0425e3f8c8e",
   "metadata": {
    "id": "c5acb99e-c484-4732-9cf1-f0425e3f8c8e"
   },
   "outputs": [],
   "source": [
    "# Function to convert everything in a tensor to global coordinates\n",
    "def convert_to_global(t):\n",
    "    ls_results = []\n",
    "\n",
    "    objs, local_x, local_y, local_w, local_h = t[:,:,:,0], t[:,:,:,1], t[:,:,:,2], t[:,:,:,3], t[:,:,:,4]\n",
    "\n",
    "\n",
    "    for label in t:\n",
    "        sub_list = []\n",
    "        indices = torch.nonzero(label[:,:,0] == 1)\n",
    "        indices = tuple((indices.tolist()))\n",
    "        for idx in indices:\n",
    "            instance = label[idx[0], idx[1], :]\n",
    "            converted = convert_single_global(instance, idx)\n",
    "            sub_list.append(converted)\n",
    "\n",
    "        ls_results.append(sub_list)\n",
    "    return ls_results"
   ]
  },
  {
   "cell_type": "code",
   "execution_count": 14,
   "id": "d02c9997-8f13-43ae-b2de-f1f69d75ddb7",
   "metadata": {
    "id": "d02c9997-8f13-43ae-b2de-f1f69d75ddb7"
   },
   "outputs": [],
   "source": [
    "# Function to convert a single line to a tensor based on input index\n",
    "def convert_single_global(t, idx):\n",
    "    row, col = idx\n",
    "\n",
    "    x_local, y_local, w_local, h_local = t[1:-1]\n",
    "\n",
    "    x_global = (x_local + col) / 3\n",
    "    y_global = (y_local + row) / 2\n",
    "\n",
    "    w_global = w_local / 3\n",
    "    h_global = h_local / 2\n",
    "\n",
    "    return torch.tensor([t[0], x_global, y_global, w_global, h_global, t[-1]])\n"
   ]
  },
  {
   "cell_type": "code",
   "execution_count": 15,
   "id": "58a38022-3efc-45a6-b681-7a54c5804677",
   "metadata": {
    "id": "58a38022-3efc-45a6-b681-7a54c5804677"
   },
   "outputs": [],
   "source": [
    "def draw_bounding(data, labels, idx, predictions=None, local=True, show_img=True):\n",
    "    # If data with local coordinates is passed in, convert them to global coordinates\n",
    "    if local:\n",
    "        labels = convert_to_global(labels)\n",
    "\n",
    "    #Scale the image so it is compatible with draw bounding boxes\n",
    "    data_point = (data[idx]*255).to(torch.uint8)\n",
    "\n",
    "    data_label = labels[idx]\n",
    "\n",
    "    #Create an empty shell for box convert. And convert to propper format\n",
    "    bboxes_true = torch.zeros(len(data_label), 4)\n",
    "\n",
    "    for i, label in enumerate(data_label):\n",
    "        bbox = label[1:-1]\n",
    "\n",
    "        x_min = (bbox[0] - bbox[2] / 2) * 60\n",
    "        y_min = (bbox[1] - bbox[3] / 2) * 48\n",
    "        x_max = (bbox[0] + bbox[2] / 2) * 60\n",
    "        y_max = (bbox[1] + bbox[3] / 2) * 48\n",
    "        converted_bb = torch.stack([x_min, y_min, x_max, y_max])\n",
    "\n",
    "        bboxes_true[i] = converted_bb\n",
    "\n",
    "    #If comparison with predictions are passed in. Convert it to propper format\n",
    "    if predictions is not None:\n",
    "        prediction_label = predictions[idx]\n",
    "        bboxes_pred = torch.zeros(len(prediction_label), 4)\n",
    "        for j, label in enumerate(prediction_label):\n",
    "            bbox = label[1:-1]\n",
    "\n",
    "            x_min = (bbox[0] - bbox[2] / 2) * 60\n",
    "            y_min = (bbox[1] - bbox[3] / 2) * 48\n",
    "            x_max = (bbox[0] + bbox[2] / 2) * 60\n",
    "            y_max = (bbox[1] + bbox[3] / 2) * 48\n",
    "            converted_bb = torch.stack([x_min, y_min, x_max, y_max])\n",
    "\n",
    "            bboxes_pred[j] = converted_bb\n",
    "\n",
    "    #Using torchvisions function for drawing bounding boxes\n",
    "    bbox_img = draw_bounding_boxes(data_point, bboxes_true, colors=(0, 0, 255), fill=True)\n",
    "    if predictions:\n",
    "        bbox_img = draw_bounding_boxes(bbox_img, bboxes_pred, colors=(255, 0, 0), fill=True)\n",
    "\n",
    "    bbox_img = transforms.ToPILImage()(bbox_img)\n",
    "\n",
    "\n",
    "    if show_img == True:\n",
    "        plt.imshow(bbox_img)\n",
    "\n",
    "    return bbox_img"
   ]
  },
  {
   "cell_type": "code",
   "execution_count": 16,
   "id": "6d41b311-50ff-4578-ba75-9ef6230ead18",
   "metadata": {},
   "outputs": [],
   "source": [
    "train_labels_g = convert_to_global(train_labels_p)\n",
    "val_labels_g = convert_to_global(val_labels_p)\n",
    "test_labels_g = convert_to_global(test_labels_p)"
   ]
  },
  {
   "cell_type": "code",
   "execution_count": 17,
   "id": "d1328227-b0ce-4f3f-931c-44935cb33f21",
   "metadata": {
    "colab": {
     "base_uri": "https://localhost:8080/",
     "height": 431
    },
    "id": "d1328227-b0ce-4f3f-931c-44935cb33f21",
    "outputId": "1fc6b373-ea3c-46e8-e427-5a7cdabfa131"
   },
   "outputs": [
    {
     "data": {
      "image/png": "[encoded data removed]",
      "text/plain": [
       "<PIL.Image.Image image mode=RGB size=60x48>"
      ]
     },
     "execution_count": 17,
     "metadata": {},
     "output_type": "execute_result"
    },
    {
     "data": {
      "image/png": "[encoded data removed]",
      "text/plain": [
       "<Figure size 640x480 with 1 Axes>"
      ]
     },
     "metadata": {},
     "output_type": "display_data"
    }
   ],
   "source": [
    "draw_bounding(normalized_train, train_labels_g, 0, local=False)"
   ]
  },
  {
   "cell_type": "code",
   "execution_count": 18,
   "id": "7a696dd1-75d2-40f6-b459-cb1ab2bb0ffe",
   "metadata": {},
   "outputs": [
    {
     "data": {
      "image/png": "[encoded data removed]",
      "text/plain": [
       "<PIL.Image.Image image mode=RGB size=60x48>"
      ]
     },
     "execution_count": 18,
     "metadata": {},
     "output_type": "execute_result"
    },
    {
     "data": {
      "image/png": "[encoded data removed]",
      "text/plain": [
       "<Figure size 640x480 with 1 Axes>"
      ]
     },
     "metadata": {},
     "output_type": "display_data"
    }
   ],
   "source": [
    "draw_bounding(train_data, train_labels_g, 0, local=False)"
   ]
  },
  {
   "cell_type": "markdown",
   "id": "67a7a701-a065-44ea-a88a-6b3774c11c17",
   "metadata": {
    "id": "67a7a701-a065-44ea-a88a-6b3774c11c17"
   },
   "source": [
    "## Model architectures"
   ]
  },
  {
   "cell_type": "code",
   "execution_count": 19,
   "id": "56dd7ab2-db47-4312-9d99-2a8ceb29ed6e",
   "metadata": {},
   "outputs": [],
   "source": [
    "class ShallowCNN(nn.Module):\n",
    "    def __init__(self):\n",
    "        super().__init__()\n",
    "        self.conv1 = nn.Conv2d(1, 12, (3, 3), stride=1, padding=1) # -> 48x60x12\n",
    "        self.conv2 = nn.Conv2d(12, 12, (3, 3), stride=1, padding=1) # -> 48x60x12\n",
    "        self.max_pool1 = nn.MaxPool2d((2, 2), stride=2) # -> 24x30x12\n",
    "        \n",
    "        self.conv3 = nn.Conv2d(12, 12, (3, 3), stride=1, padding=1) # -> 24x30x12\n",
    "        self.max_pool2 = nn.MaxPool2d((2, 2), stride=2) # -> 12x15x12\n",
    "        \n",
    "        self.conv4 = nn.Conv2d(12, 12, (3, 4), stride=1) # -> 10x12x12\n",
    "        self.max_pool3 = nn.MaxPool2d((2, 2), stride=2) # -> 5x6x12\n",
    "        \n",
    "        self.conv5 = nn.Conv2d(12, 6, (4, 4), stride=1) # -> 2x3x12\n",
    "\n",
    "    def forward(self, x):\n",
    "        x = F.relu(self.conv1(x))\n",
    "        x = F.relu(self.conv2(x))\n",
    "        x = self.max_pool1(x)\n",
    "        \n",
    "        x = F.relu(self.conv3(x))\n",
    "        x = self.max_pool2(x)\n",
    "\n",
    "        x = F.relu(self.conv4(x))\n",
    "        x = self.max_pool3(x)\n",
    "\n",
    "        return self.conv5(x)"
   ]
  },
  {
   "cell_type": "code",
   "execution_count": 20,
   "id": "1db50b12",
   "metadata": {},
   "outputs": [],
   "source": [
    "class MediumCNN(nn.Module):\n",
    "    def __init__(self):\n",
    "        super().__init__()\n",
    "        self.conv1 = nn.Conv2d(1, 24, (5, 5), stride=1, padding=1) # -> 48x60x24\n",
    "        self.conv2 = nn.Conv2d(24, 24, (3, 3), stride=1, padding=1) # -> 48x60x24\n",
    "        self.max_pool1 = nn.MaxPool2d((2, 2), stride=2) # -> 24x30x20\n",
    "        \n",
    "        self.conv3 = nn.Conv2d(24, 20, (3, 3), stride=1, padding=1) # -> 24x30x20\n",
    "        self.conv4 = nn.Conv2d(20, 18, (3, 3), stride=1, padding=1) # -> 24x30x18\n",
    "        self.max_pool2 = nn.MaxPool2d((2, 2), stride=2) # -> 12x15x18\n",
    "        \n",
    "        self.conv5 = nn.Conv2d(18, 12, (3, 3), stride=1) # -> 10x13x12\n",
    "        self.conv6 = nn.Conv2d(12, 12, (3, 4), stride=1, padding=1) # -> 10x12x12\n",
    "        self.max_pool3 = nn.MaxPool2d((2, 2), stride=2) # -> 5x6x12\n",
    "        \n",
    "        self.conv7 = nn.Conv2d(12, 6, (3, 3), stride=1) # -> 2x3x6\n",
    "        \n",
    "    def forward(self, x):\n",
    "        x = F.relu(self.conv1(x))\n",
    "        x = F.relu(self.conv2(x))\n",
    "        x = self.max_pool1(x)\n",
    "\n",
    "        x = F.relu(self.conv3(x))\n",
    "        x = F.relu(self.conv4(x))\n",
    "        x = self.max_pool2(x)\n",
    "\n",
    "        x = F.relu(self.conv5(x))\n",
    "        x = F.relu(self.conv6(x))\n",
    "        x = self.max_pool3(x)\n",
    "\n",
    "        return self.conv7(x)"
   ]
  },
  {
   "cell_type": "code",
   "execution_count": 21,
   "id": "87a59b05-906d-4f73-89c4-c8b4f4de0259",
   "metadata": {
    "id": "87a59b05-906d-4f73-89c4-c8b4f4de0259"
   },
   "outputs": [],
   "source": [
    "class MediumCNN_bn(nn.Module):\n",
    "    def __init__(self):\n",
    "        super().__init__()\n",
    "        self.conv1 = nn.Conv2d(1, 24, (5, 5), stride=1, padding=1) # -> 48x60x24\n",
    "        self.batchnorm24 = nn.BatchNorm2d(24)\n",
    "        self.conv2 = nn.Conv2d(24, 24, (3, 3), stride=1, padding=1) # -> 48x60x24\n",
    "        self.max_pool1 = nn.MaxPool2d((2, 2), stride=2) # -> 24x30x20\n",
    "        \n",
    "        self.conv3 = nn.Conv2d(24, 20, (3, 3), stride=1, padding=1) # -> 24x30x20\n",
    "        self.batchnorm20 = nn.BatchNorm2d(20)\n",
    "        self.conv4 = nn.Conv2d(20, 18, (3, 3), stride=1, padding=1) # -> 24x30x18\n",
    "        self.batchnorm18 = nn.BatchNorm2d(18)\n",
    "        self.max_pool2 = nn.MaxPool2d((2, 2), stride=2) # -> 12x15x18\n",
    "        \n",
    "        self.conv5 = nn.Conv2d(18, 12, (3, 3), stride=1) # -> 10x13x12\n",
    "        self.batchnorm12 = nn.BatchNorm2d(12)\n",
    "        self.conv6 = nn.Conv2d(12, 12, (3, 4), stride=1, padding=1) # -> 10x12x12\n",
    "        self.max_pool3 = nn.MaxPool2d((2, 2), stride=2) # -> 5x6x12\n",
    "        \n",
    "        self.conv7 = nn.Conv2d(12, 6, (3, 3), stride=1) # -> 2x3x6\n",
    "        \n",
    "    def forward(self, x):\n",
    "        x = F.relu(self.batchnorm24(self.conv1(x)))\n",
    "        x = F.relu(self.batchnorm24(self.conv2(x)))\n",
    "        x = self.max_pool1(x)\n",
    "\n",
    "        x = F.relu(self.batchnorm20(self.conv3(x)))\n",
    "        x = F.relu(self.batchnorm18(self.conv4(x)))\n",
    "        x = self.max_pool2(x)\n",
    "\n",
    "        x = F.relu(self.batchnorm12(self.conv5(x)))\n",
    "        x = F.relu(self.batchnorm12(self.conv6(x)))\n",
    "        x = self.max_pool3(x)\n",
    "\n",
    "        return self.conv7(x)"
   ]
  },
  {
   "cell_type": "code",
   "execution_count": 22,
   "id": "3dd58ba3-f6bd-4b6a-b60f-0033d2ea2c13",
   "metadata": {},
   "outputs": [],
   "source": [
    "class DeepCNN(nn.Module):\n",
    "    def __init__(self):\n",
    "        super().__init__()\n",
    "        self.conv1 = nn.Conv2d(1, 16, (3, 3), stride=1, padding=1) # -> 48x60x16\n",
    "        self.conv2 = nn.Conv2d(16, 32, (3, 3), stride=1, padding=1) # -> 48x60x32\n",
    "        self.max_pool1 = nn.MaxPool2d((2, 2), stride=2) # -> 24x30x32\n",
    "        \n",
    "        self.conv3 = nn.Conv2d(32, 64, (3, 3), stride=1, padding=1) # -> 24x30x64\n",
    "        self.conv4 = nn.Conv2d(64, 64, (3, 3), stride=1, padding=1) # -> 24x30x64\n",
    "        self.max_pool2 = nn.MaxPool2d((2, 2), stride=2) # -> 12x15x64\n",
    "        \n",
    "        self.conv5 = nn.Conv2d(64, 128, (3, 4), stride=1) # -> 10x12x128\n",
    "        self.conv6 = nn.Conv2d(128, 128, (3, 3), stride=1, padding=1) # -> 10x12x128\n",
    "        self.max_pool3 = nn.MaxPool2d((2, 2), stride=2) # -> 5x6x128\n",
    "        \n",
    "        self.conv7 = nn.Conv2d(128, 64, (3, 3), stride=1, padding=1) # -> 5x6x64\n",
    "        self.conv8 = nn.Conv2d(64, 32, (3, 3), stride=1, padding=1) # -> 5x6x32\n",
    "        self.conv9 = nn.Conv2d(32, 6, (4, 4), stride=1) # -> 2x3x6\n",
    "\n",
    "    def forward(self, x):\n",
    "        x = F.relu(self.conv1(x))\n",
    "        x = F.relu(self.conv2(x))\n",
    "        x = self.max_pool1(x)\n",
    "        \n",
    "        x = F.relu(self.conv3(x))\n",
    "        x = F.relu(self.conv4(x))\n",
    "        x = self.max_pool2(x)\n",
    "\n",
    "        x = F.relu(self.conv5(x))\n",
    "        x = F.relu(self.conv6(x))\n",
    "        x = self.max_pool3(x)\n",
    "\n",
    "        x = F.relu(self.conv7(x))\n",
    "        x = F.relu(self.conv8(x))\n",
    "\n",
    "        return self.conv9(x)\n",
    "        "
   ]
  },
  {
   "cell_type": "code",
   "execution_count": 23,
   "id": "2ed19115",
   "metadata": {},
   "outputs": [],
   "source": [
    "class DeepCNN_bn(nn.Module):\n",
    "    def __init__(self):\n",
    "        super().__init__()\n",
    "        self.conv1 = nn.Conv2d(1, 16, (3, 3), stride=1, padding=1) # -> 48x60x16\n",
    "        self.batchnorm16 = nn.BatchNorm2d(16)\n",
    "        self.conv2 = nn.Conv2d(16, 32, (3, 3), stride=1, padding=1) # -> 48x60x32\n",
    "        self.batchnorm32 = nn.BatchNorm2d(32)\n",
    "        self.max_pool1 = nn.MaxPool2d((2, 2), stride=2) # -> 24x30x32\n",
    "        \n",
    "        self.conv3 = nn.Conv2d(32, 64, (3, 3), stride=1, padding=1) # -> 24x30x64\n",
    "        self.batchnorm64 = nn.BatchNorm2d(64)\n",
    "        self.conv4 = nn.Conv2d(64, 64, (3, 3), stride=1, padding=1) # -> 24x30x64\n",
    "        self.max_pool2 = nn.MaxPool2d((2, 2), stride=2) # -> 12x15x64\n",
    "        \n",
    "        self.conv5 = nn.Conv2d(64, 128, (3, 4), stride=1) # -> 10x12x128\n",
    "        self.batchnorm128 = nn.BatchNorm2d(128)\n",
    "        self.conv6 = nn.Conv2d(128, 128, (3, 3), stride=1, padding=1) # -> 10x12x128\n",
    "        self.max_pool3 = nn.MaxPool2d((2, 2), stride=2) # -> 5x6x128\n",
    "        \n",
    "        self.conv7 = nn.Conv2d(128, 64, (3, 3), stride=1, padding=1) # -> 5x6x64\n",
    "        self.conv8 = nn.Conv2d(64, 32, (3, 3), stride=1, padding=1) # -> 5x6x32\n",
    "        self.conv9 = nn.Conv2d(32, 6, (4, 4), stride=1) # -> 2x3x6\n",
    "\n",
    "    def forward(self, x):\n",
    "        x = F.relu(self.batchnorm16(self.conv1(x)))\n",
    "        x = F.relu(self.batchnorm32(self.conv2(x)))\n",
    "        x = self.max_pool1(x)\n",
    "        \n",
    "        x = F.relu(self.batchnorm64(self.conv3(x)))\n",
    "        x = F.relu(self.batchnorm64(self.conv4(x)))\n",
    "        x = self.max_pool2(x)\n",
    "\n",
    "        x = F.relu(self.batchnorm128(self.conv5(x)))\n",
    "        x = F.relu(self.batchnorm128(self.conv6(x)))\n",
    "        x = self.max_pool3(x)\n",
    "\n",
    "        x = F.relu(self.batchnorm64(self.conv7(x)))\n",
    "        x = F.relu(self.batchnorm32(self.conv8(x)))\n",
    "\n",
    "        return self.conv9(x)"
   ]
  },
  {
   "cell_type": "markdown",
   "id": "c8351bae-964f-42d1-bdb7-c505ba7ea43c",
   "metadata": {},
   "source": [
    "## Loss functions"
   ]
  },
  {
   "cell_type": "code",
   "execution_count": 26,
   "id": "K8Pq91osGOaN",
   "metadata": {
    "id": "K8Pq91osGOaN"
   },
   "outputs": [],
   "source": [
    "class MCELoss(nn.Module):\n",
    "    def __init__(self):\n",
    "        super().__init__()\n",
    "\n",
    "    def forward(self, input, target):\n",
    "      error = (input - target) ** 3\n",
    "      return torch.mean(error)"
   ]
  },
  {
   "cell_type": "code",
   "execution_count": 27,
   "id": "Q6_M1X573JQm",
   "metadata": {
    "id": "Q6_M1X573JQm"
   },
   "outputs": [],
   "source": [
    "def detection_loss_with_mce(pred_obj, y_obj, pred_bbox, y_bbox, pred_label, y_label):\n",
    "    l1 = nn.BCEWithLogitsLoss()\n",
    "    l2 = MCELoss()\n",
    "    l3 = nn.BCEWithLogitsLoss()\n",
    "\n",
    "    l1_loss = l1(pred_obj, y_obj)\n",
    "    l2_loss = l2(pred_bbox, y_bbox) \n",
    "    l3_loss = l3(pred_label, y_label)\n",
    "\n",
    "    return l1_loss + l2_loss + l3_loss"
   ]
  },
  {
   "cell_type": "code",
   "execution_count": 28,
   "id": "l5RO3MISI--a",
   "metadata": {
    "id": "l5RO3MISI--a"
   },
   "outputs": [],
   "source": [
    "def detection_loss_with_mse(pred_obj, y_obj, pred_bbox, y_bbox, pred_label, y_label):\n",
    "    l1 = nn.BCEWithLogitsLoss()\n",
    "    l2 = nn.MSELoss()\n",
    "    l3 = nn.BCEWithLogitsLoss()\n",
    "\n",
    "    l1_loss = l1(pred_obj, y_obj)\n",
    "\n",
    "    mask = pred_obj > 0.5\n",
    "    \n",
    "    if mask.any():\n",
    "        l2_loss = l2(pred_bbox[mask], y_bbox[mask]) \n",
    "        l3_loss = l3(pred_label[mask], y_label[mask])\n",
    "    else:\n",
    "        l2_loss = torch.tensor(0.0, device=pred_obj.device)\n",
    "        l3_loss = torch.tensor(0.0, device=pred_obj.device)\n",
    "        \n",
    "    return l1_loss + l2_loss + l3_loss"
   ]
  },
  {
   "cell_type": "code",
   "execution_count": 29,
   "id": "ff958a43-5d37-43dd-b19d-9eca86cf808f",
   "metadata": {
    "id": "ff958a43-5d37-43dd-b19d-9eca86cf808f"
   },
   "outputs": [],
   "source": [
    "def detection_loss_with_iou(pred_obj, y_obj, pred_bbox, y_bbox, pred_label, y_label):\n",
    "    l1 = nn.BCEWithLogitsLoss()\n",
    "    l3 = nn.BCEWithLogitsLoss()\n",
    "\n",
    "    l1_loss = l1(pred_obj, y_obj)\n",
    "    l2_loss = distance_box_iou_loss(pred_bbox, y_bbox, reduction='mean')\n",
    "    l3_loss = l3(pred_label, y_label)\n",
    "\n",
    "    return l1_loss + l2_loss + l3_loss"
   ]
  },
  {
   "cell_type": "code",
   "execution_count": 30,
   "id": "65a21d1e-4445-4675-9138-2d1fa64a166d",
   "metadata": {},
   "outputs": [],
   "source": [
    "def detection_loss_with_l1(pred_obj, y_obj, pred_bbox, y_bbox, pred_label, y_label):\n",
    "    l1 = nn.BCEWithLogitsLoss()\n",
    "    l2 = nn.SmoothL1Loss()\n",
    "    l3 = nn.BCEWithLogitsLoss()\n",
    "\n",
    "    l1_loss = l1(pred_obj, y_obj)\n",
    "\n",
    "    mask = pred_obj > 0.5\n",
    "    \n",
    "    if mask.any():\n",
    "        l2_loss = l2(pred_bbox[mask], y_bbox[mask]) \n",
    "        l3_loss = l3(pred_label[mask], y_label[mask])\n",
    "    else:\n",
    "        l2_loss = torch.tensor(0.0, device=pred_obj.device)\n",
    "        l3_loss = torch.tensor(0.0, device=pred_obj.device)\n",
    "\n",
    "    return l1_loss + l2_loss + l3_loss"
   ]
  },
  {
   "cell_type": "markdown",
   "id": "f7497556-305a-4b16-82c8-1abe4bd418e8",
   "metadata": {},
   "source": [
    "## Training loop"
   ]
  },
  {
   "cell_type": "code",
   "execution_count": 31,
   "id": "e404719b",
   "metadata": {},
   "outputs": [],
   "source": [
    "import time"
   ]
  },
  {
   "cell_type": "code",
   "execution_count": 32,
   "id": "5cbd33f4-e0b1-42be-86fb-3e8099318d9f",
   "metadata": {
    "id": "5cbd33f4-e0b1-42be-86fb-3e8099318d9f"
   },
   "outputs": [],
   "source": [
    "def train(n_epochs, optimizer, lossfn, model, train_loader, val_loader):\n",
    "\n",
    "    batch_size = train_loader.batch_size\n",
    "\n",
    "    # Get number of batches, make a list for training losses, change model mode to training, and zero the gradients.\n",
    "    n_batch = len(train_loader)\n",
    "    losses_train = []\n",
    "    losses_val = []\n",
    "\n",
    "    optimizer.zero_grad(set_to_none=True)\n",
    "    model.train()\n",
    "\n",
    "    # Every epoch compute gradients of the parameters and update them\n",
    "    for epoch in range(1, n_epochs + 1):\n",
    "        # Progress bar\n",
    "        train_progressbar = tqdm(train_loader, desc=f\"Epoch: {epoch}\", unit=\"batch\", leave=True)\n",
    "\n",
    "        # Store the total loss for the epoch\n",
    "        loss_train = 0.0\n",
    "\n",
    "        model.train()\n",
    "\n",
    "        # For every batch in the loader\n",
    "        for imgs, labels in train_progressbar:\n",
    "\n",
    "            # Send the data to the same device\n",
    "            imgs = imgs.to(device=device)\n",
    "            labels = labels.to(device=device)\n",
    "\n",
    "            # Compute the inference of the images\n",
    "            output = model(imgs.float())\n",
    "\n",
    "            p_c_pred = output[:,0,:,:]\n",
    "            bbox_pred = output[:, 1:5, :, :].permute(0, 2, 3, 1)\n",
    "            labels_pred = output[:, -1, :, :]\n",
    "\n",
    "            # True label - is there an object in the image?\n",
    "            p_c_true = labels[:, :, :, 0].float()\n",
    "\n",
    "            bbox_true = labels[:,:,:,1:5]\n",
    "\n",
    "            labels_true = labels[:, :, :, -1].float()\n",
    "\n",
    "            \n",
    "            # Compare the loss between inference and true labels\n",
    "            loss = lossfn(p_c_pred, p_c_true, bbox_pred, bbox_true, labels_pred, labels_true)\n",
    "            \n",
    "\n",
    "            # Find the gradients of loss with respect to gradients\n",
    "            loss.backward()\n",
    "\n",
    "            # Update the parameters\n",
    "            optimizer.step()\n",
    "\n",
    "            # Zero the gradient\n",
    "            optimizer.zero_grad()\n",
    "\n",
    "            # Add the loss\n",
    "            loss_train += loss.sum().item()\n",
    "\n",
    "        #Validation\n",
    "        model.eval()\n",
    "\n",
    "        loss_val = 0.0\n",
    "\n",
    "        with torch.no_grad():\n",
    "            for imgs, labels in val_loader:\n",
    "                imgs = imgs.to(device=device)\n",
    "                labels = labels.to(device=device)\n",
    "\n",
    "\n",
    "                output = model(imgs.float())\n",
    "\n",
    "                p_c_pred = output[:,0,:,:]\n",
    "                bbox_pred = output[:, 1:5, :, :].permute(0, 2, 3, 1)\n",
    "                labels_pred = output[:, -1, :, :]\n",
    "\n",
    "                # True label - is there an object in the image?\n",
    "                p_c_true = labels[:, :, :, 0].float()\n",
    "\n",
    "                # bbox_true = torch.cat((labels[:,:,:,1:3], F.relu(labels[:,:,:,3:5])), dim=3)\n",
    "\n",
    "                bbox_true = labels[:,:,:,1:5]\n",
    "\n",
    "                # bbox_true = labels[:,:,:,1:5] #F.sigmoid(labels[:, :, :, 1:5]) # squashing input between 0 and 1 - we don't want negative values for coordinates\n",
    "\n",
    "                labels_true = labels[:, :, :, -1].float()\n",
    "\n",
    "                # Compare the loss between inference and true labels\n",
    "                loss = lossfn(p_c_pred, p_c_true, bbox_pred, bbox_true, labels_pred, labels_true)\n",
    "\n",
    "                loss_val += loss.item()\n",
    "\n",
    "        final_val_loss = loss_val / len(val_loader)\n",
    "\n",
    "        losses_val.append(final_val_loss)\n",
    "\n",
    "        # Add the loss of the epoch to the list\n",
    "        the_loss = loss_train / n_batch\n",
    "        losses_train.append(the_loss)\n",
    "        print(f\"Epoch: {epoch}, Train loss: {the_loss : .3f}, Val loss: {final_val_loss : .3f}\")\n",
    "        train_progressbar.close() # Close the progress bar for the epoch\n",
    "\n",
    "    return losses_train, losses_val\n"
   ]
  },
  {
   "cell_type": "markdown",
   "id": "3fa220cf-2c93-4cd1-88ac-510eb18d4fee",
   "metadata": {},
   "source": [
    "## Performance measures"
   ]
  },
  {
   "cell_type": "code",
   "execution_count": 33,
   "id": "272df07d-37e0-445b-9489-a4573465eb2f",
   "metadata": {},
   "outputs": [],
   "source": [
    "def compute_intersection(box1, box2):\n",
    "    x1, y1, w1, h1 = box1\n",
    "    x2, y2, w2, h2 = box2\n",
    "\n",
    "    x_inter = max(x1, x2)\n",
    "    y_inter = max(y1, y2)\n",
    "    w_inter = min(x1 + w1, x2 + w2) - x_inter\n",
    "    h_inter = min(y1 + h1, y2 + h2) - y_inter\n",
    "\n",
    "    if w_inter <= 0 or h_inter <= 0:\n",
    "        return 0\n",
    "    else:\n",
    "        return w_inter * h_inter"
   ]
  },
  {
   "cell_type": "code",
   "execution_count": 34,
   "id": "afd0a2cf-e660-4a65-9b7b-e745aa045afb",
   "metadata": {},
   "outputs": [],
   "source": [
    "def compute_union_area(box1, box2, intersection_area):\n",
    "    x1, y1, w1, h1 = box1\n",
    "    x2, y2, w2, h2 = box2\n",
    "\n",
    "    area_box1 = w1 * h1\n",
    "    area_box2 = w2 * h2\n",
    "\n",
    "    return area_box1 + area_box2 - intersection_area"
   ]
  },
  {
   "cell_type": "code",
   "execution_count": 35,
   "id": "24071be5-4a12-407d-9f06-8f7a93ddf2c2",
   "metadata": {},
   "outputs": [],
   "source": [
    "def iou(box1, box2):\n",
    "    intersect = compute_intersection(box1, box2)\n",
    "    union = compute_union_area(box1, box2, intersect)\n",
    "    return intersect/union"
   ]
  },
  {
   "cell_type": "code",
   "execution_count": 36,
   "id": "b10b7d3b-1f39-46f5-9017-9780c2e62431",
   "metadata": {},
   "outputs": [],
   "source": [
    "def compute_accuracy(predictions, target):\n",
    "    return len(predictions.reshape(-1)[torch.where(predictions.reshape(-1) == target.reshape(-1))]) / len(predictions.reshape(-1))"
   ]
  },
  {
   "cell_type": "code",
   "execution_count": 37,
   "id": "96c3226b",
   "metadata": {},
   "outputs": [],
   "source": [
    "def compute_iuo(box1, box2):\n",
    "    \n",
    "    x1, y1, w1, h1 = box1[:,0], box1[:,1], box1[:,2], box1[:,3]\n",
    "    x2, y2, w2, h2 = box2[:,0], box2[:,1], box2[:,2], box2[:,3]\n",
    "\n",
    "    #print(x1,y1, w1, h1)\n",
    "    #print(box1)\n",
    "\n",
    "    x_inter = torch.max(x1, x2)\n",
    "    y_inter = torch.max(y1, y2)\n",
    "    w_inter = torch.min(x1 + w1, x2 + w2) - x_inter\n",
    "    h_inter = torch.min(y1 + h1, y2 + h2) - y_inter\n",
    "\n",
    "    \n",
    "    w_inter[w_inter <= 0] = 0\n",
    "    h_inter[h_inter <= 0] = 0\n",
    "    \n",
    "    intersection_area = torch.mul(w_inter, h_inter)\n",
    "    area_box1 = w1 * h1\n",
    "    area_box2 = w2 * h2\n",
    "\n",
    "    return intersection_area/(area_box1 + area_box2 - intersection_area)"
   ]
  },
  {
   "cell_type": "code",
   "execution_count": 38,
   "id": "94e65e55-3e58-419f-af3f-7d9134023f41",
   "metadata": {},
   "outputs": [],
   "source": [
    "def final_acc_iou(preds, target):\n",
    "    p_c_pred = preds[:,:,:,0]\n",
    "    bbox_pred = preds[:,:,:,1:5][torch.where(p_c_pred == 1)]\n",
    "    label_pred = preds[:,:,:,-1][torch.where(p_c_pred == 1)]\n",
    "\n",
    "    p_c_true = target[:,:,:,0]\n",
    "    bbox_true = target[:,:,:,1:5][torch.where(p_c_pred == 1)]\n",
    "    label_true = target[:,:,:,-1][torch.where(p_c_pred == 1)]\n",
    "    \n",
    "    p_c_acc = len(p_c_pred.reshape(-1)[torch.where(p_c_pred.reshape(-1) == p_c_true.reshape(-1))]) / len(p_c_pred.reshape(-1))\n",
    "\n",
    "    bbox_iou = compute_iuo(bbox_pred, bbox_true).mean()\n",
    "    \n",
    "\n",
    "    label_acc = len(label_pred.flatten()[torch.where(label_pred.flatten() == label_true.flatten())]) / len(label_pred.flatten())\n",
    "\n",
    "\n",
    "\n",
    "    print(f'Average p_c accuracy: {p_c_acc:.3f}')\n",
    "    print(f'Average bbox_iou: {bbox_iou:.3f}')\n",
    "    print(f'Average label_acc: {label_acc:.3f}')\n",
    "\n",
    "    print(f'Combined: {((p_c_acc + bbox_iou + label_acc) / 3):.3f}')\n",
    "    return (p_c_acc + bbox_iou + label_acc) / 3"
   ]
  },
  {
   "cell_type": "markdown",
   "id": "db523dc3-75e1-486c-804d-c3fe142ef8a0",
   "metadata": {},
   "source": [
    "## Function to make output compatible with performance measures"
   ]
  },
  {
   "cell_type": "code",
   "execution_count": 39,
   "id": "5b3b8683-3bf0-4d80-9b79-139ec6349ef0",
   "metadata": {},
   "outputs": [],
   "source": [
    "def process_predictions(predictions):\n",
    "    with torch.no_grad():\n",
    "        predictions = predictions.permute(0, 2, 3, 1)\n",
    "\n",
    "        predictions[:,:,:,0] = (F.sigmoid(predictions[:,:,:,0]) > 0.5).to(int)\n",
    "        predictions[:,:,:,1:5] = predictions[:,:,:,1:5]\n",
    "        predictions[:,:,:,5] = (F.sigmoid(predictions[:,:,:,5]) > 0.5).to(int)\n",
    "\n",
    "        return predictions"
   ]
  },
  {
   "cell_type": "markdown",
   "id": "80ffa37e-2a5c-4eb1-9f2f-474095114618",
   "metadata": {},
   "source": [
    "## Model selection and evaluation"
   ]
  },
  {
   "cell_type": "code",
   "execution_count": 40,
   "id": "a2cef928",
   "metadata": {},
   "outputs": [
    {
     "data": {
      "text/plain": [
       "torch.Size([26874, 2, 3, 6])"
      ]
     },
     "execution_count": 40,
     "metadata": {},
     "output_type": "execute_result"
    }
   ],
   "source": [
    "train_labels_p.shape"
   ]
  },
  {
   "cell_type": "code",
   "execution_count": 41,
   "id": "74714213-f4df-4419-9d3a-3a32022d2b83",
   "metadata": {},
   "outputs": [],
   "source": [
    "train_dataset = TensorDataset(normalized_train, train_labels_p)\n",
    "val_dataset = TensorDataset(normalized_val, val_labels_p)\n",
    "test_dataset = TensorDataset(normalized_test, test_labels_p)\n",
    "\n",
    "train_loader = DataLoader(train_dataset, batch_size=128, shuffle=True, drop_last=True)\n",
    "val_loader = DataLoader(val_dataset, batch_size=128)"
   ]
  },
  {
   "cell_type": "code",
   "execution_count": 42,
   "id": "d0f1adca-0414-4b56-80c9-b6aa9b9ee2de",
   "metadata": {},
   "outputs": [],
   "source": [
    "torch.manual_seed(seed)\n",
    "shallow = ShallowCNN().to(device)"
   ]
  },
  {
   "cell_type": "markdown",
   "id": "2415bbac-45d4-47a6-b47d-544c2d155c74",
   "metadata": {},
   "source": [
    "## Testing shallow model"
   ]
  },
  {
   "cell_type": "code",
   "execution_count": 43,
   "id": "5a548005-6747-4f25-8314-ec320d3ba9e3",
   "metadata": {},
   "outputs": [
    {
     "name": "stderr",
     "output_type": "stream",
     "text": [
      "Epoch: 1:   0%|          | 1/209 [00:00<00:40,  5.19batch/s]"
     ]
    },
    {
     "name": "stderr",
     "output_type": "stream",
     "text": [
      "Epoch: 1: 100%|██████████| 209/209 [00:01<00:00, 174.52batch/s]\n"
     ]
    },
    {
     "name": "stdout",
     "output_type": "stream",
     "text": [
      "Epoch: 1, Train loss:  0.548, Val loss:  0.472\n"
     ]
    },
    {
     "name": "stderr",
     "output_type": "stream",
     "text": [
      "Epoch: 2: 100%|██████████| 209/209 [00:01<00:00, 201.82batch/s]\n"
     ]
    },
    {
     "name": "stdout",
     "output_type": "stream",
     "text": [
      "Epoch: 2, Train loss:  0.588, Val loss:  0.657\n"
     ]
    },
    {
     "name": "stderr",
     "output_type": "stream",
     "text": [
      "Epoch: 3: 100%|██████████| 209/209 [00:01<00:00, 184.29batch/s]\n"
     ]
    },
    {
     "name": "stdout",
     "output_type": "stream",
     "text": [
      "Epoch: 3, Train loss:  0.669, Val loss:  0.621\n"
     ]
    },
    {
     "name": "stderr",
     "output_type": "stream",
     "text": [
      "Epoch: 4: 100%|██████████| 209/209 [00:01<00:00, 185.17batch/s]\n"
     ]
    },
    {
     "name": "stdout",
     "output_type": "stream",
     "text": [
      "Epoch: 4, Train loss:  0.699, Val loss:  0.684\n"
     ]
    },
    {
     "name": "stderr",
     "output_type": "stream",
     "text": [
      "Epoch: 5: 100%|██████████| 209/209 [00:01<00:00, 186.05batch/s]\n"
     ]
    },
    {
     "name": "stdout",
     "output_type": "stream",
     "text": [
      "Epoch: 5, Train loss:  0.711, Val loss:  0.546\n"
     ]
    },
    {
     "name": "stderr",
     "output_type": "stream",
     "text": [
      "Epoch: 6: 100%|██████████| 209/209 [00:01<00:00, 187.85batch/s]\n"
     ]
    },
    {
     "name": "stdout",
     "output_type": "stream",
     "text": [
      "Epoch: 6, Train loss:  0.550, Val loss:  0.470\n"
     ]
    },
    {
     "name": "stderr",
     "output_type": "stream",
     "text": [
      "Epoch: 7: 100%|██████████| 209/209 [00:01<00:00, 187.47batch/s]\n"
     ]
    },
    {
     "name": "stdout",
     "output_type": "stream",
     "text": [
      "Epoch: 7, Train loss:  0.496, Val loss:  0.473\n"
     ]
    },
    {
     "name": "stderr",
     "output_type": "stream",
     "text": [
      "Epoch: 8: 100%|██████████| 209/209 [00:01<00:00, 184.97batch/s]\n"
     ]
    },
    {
     "name": "stdout",
     "output_type": "stream",
     "text": [
      "Epoch: 8, Train loss:  0.459, Val loss:  0.431\n"
     ]
    },
    {
     "name": "stderr",
     "output_type": "stream",
     "text": [
      "Epoch: 9: 100%|██████████| 209/209 [00:01<00:00, 189.01batch/s]\n"
     ]
    },
    {
     "name": "stdout",
     "output_type": "stream",
     "text": [
      "Epoch: 9, Train loss:  0.429, Val loss:  0.434\n"
     ]
    },
    {
     "name": "stderr",
     "output_type": "stream",
     "text": [
      "Epoch: 10: 100%|██████████| 209/209 [00:01<00:00, 189.02batch/s]\n"
     ]
    },
    {
     "name": "stdout",
     "output_type": "stream",
     "text": [
      "Epoch: 10, Train loss:  0.411, Val loss:  0.410\n"
     ]
    },
    {
     "name": "stderr",
     "output_type": "stream",
     "text": [
      "Epoch: 11: 100%|██████████| 209/209 [00:01<00:00, 186.08batch/s]\n"
     ]
    },
    {
     "name": "stdout",
     "output_type": "stream",
     "text": [
      "Epoch: 11, Train loss:  0.394, Val loss:  0.378\n"
     ]
    },
    {
     "name": "stderr",
     "output_type": "stream",
     "text": [
      "Epoch: 12: 100%|██████████| 209/209 [00:01<00:00, 189.47batch/s]\n"
     ]
    },
    {
     "name": "stdout",
     "output_type": "stream",
     "text": [
      "Epoch: 12, Train loss:  0.382, Val loss:  0.373\n"
     ]
    },
    {
     "name": "stderr",
     "output_type": "stream",
     "text": [
      "Epoch: 13: 100%|██████████| 209/209 [00:01<00:00, 188.06batch/s]\n"
     ]
    },
    {
     "name": "stdout",
     "output_type": "stream",
     "text": [
      "Epoch: 13, Train loss:  0.369, Val loss:  0.348\n"
     ]
    },
    {
     "name": "stderr",
     "output_type": "stream",
     "text": [
      "Epoch: 14: 100%|██████████| 209/209 [00:01<00:00, 186.47batch/s]\n"
     ]
    },
    {
     "name": "stdout",
     "output_type": "stream",
     "text": [
      "Epoch: 14, Train loss:  0.357, Val loss:  0.336\n"
     ]
    },
    {
     "name": "stderr",
     "output_type": "stream",
     "text": [
      "Epoch: 15: 100%|██████████| 209/209 [00:01<00:00, 183.81batch/s]\n"
     ]
    },
    {
     "name": "stdout",
     "output_type": "stream",
     "text": [
      "Epoch: 15, Train loss:  0.341, Val loss:  0.330\n"
     ]
    },
    {
     "name": "stderr",
     "output_type": "stream",
     "text": [
      "Epoch: 16: 100%|██████████| 209/209 [00:01<00:00, 179.22batch/s]\n"
     ]
    },
    {
     "name": "stdout",
     "output_type": "stream",
     "text": [
      "Epoch: 16, Train loss:  0.336, Val loss:  0.314\n"
     ]
    },
    {
     "name": "stderr",
     "output_type": "stream",
     "text": [
      "Epoch: 17: 100%|██████████| 209/209 [00:01<00:00, 168.74batch/s]\n"
     ]
    },
    {
     "name": "stdout",
     "output_type": "stream",
     "text": [
      "Epoch: 17, Train loss:  0.329, Val loss:  0.330\n"
     ]
    },
    {
     "name": "stderr",
     "output_type": "stream",
     "text": [
      "Epoch: 18: 100%|██████████| 209/209 [00:01<00:00, 169.55batch/s]\n"
     ]
    },
    {
     "name": "stdout",
     "output_type": "stream",
     "text": [
      "Epoch: 18, Train loss:  0.320, Val loss:  0.301\n"
     ]
    },
    {
     "name": "stderr",
     "output_type": "stream",
     "text": [
      "Epoch: 19: 100%|██████████| 209/209 [00:01<00:00, 167.93batch/s]\n"
     ]
    },
    {
     "name": "stdout",
     "output_type": "stream",
     "text": [
      "Epoch: 19, Train loss:  0.314, Val loss:  0.333\n"
     ]
    },
    {
     "name": "stderr",
     "output_type": "stream",
     "text": [
      "Epoch: 20: 100%|██████████| 209/209 [00:01<00:00, 165.72batch/s]"
     ]
    },
    {
     "name": "stdout",
     "output_type": "stream",
     "text": [
      "Epoch: 20, Train loss:  0.310, Val loss:  0.284\n"
     ]
    },
    {
     "name": "stderr",
     "output_type": "stream",
     "text": [
      "\n"
     ]
    }
   ],
   "source": [
    "torch.manual_seed(seed)\n",
    "optim = torch.optim.Adam(shallow.parameters(), lr=0.001)\n",
    "lossfn = detection_loss_with_mse\n",
    "\n",
    "s_train_loss, s_val_loss = train(20, optim, lossfn, shallow, train_loader, val_loader)"
   ]
  },
  {
   "cell_type": "code",
   "execution_count": 44,
   "id": "e2d2a451-1266-457a-98d4-2aa4a33fe73d",
   "metadata": {},
   "outputs": [],
   "source": [
    "def show_losses(train_losses, val_losses, num_epochs):\n",
    "    plt.plot(range(num_epochs), train_losses)\n",
    "    plt.plot(range(num_epochs), val_losses)\n",
    "    plt.legend(['Train losses', 'Val losses'])\n",
    "    "
   ]
  },
  {
   "cell_type": "code",
   "execution_count": 45,
   "id": "a3e80943-60cc-4427-a17b-bf11657c774b",
   "metadata": {},
   "outputs": [
    {
     "data": {
      "image/png": "[encoded data removed]",
      "text/plain": [
       "<Figure size 640x480 with 1 Axes>"
      ]
     },
     "metadata": {},
     "output_type": "display_data"
    }
   ],
   "source": [
    "show_losses(s_train_loss, s_val_loss, 20)"
   ]
  },
  {
   "cell_type": "code",
   "execution_count": 46,
   "id": "089892f3-a858-46a7-8dca-b1aaef95e82a",
   "metadata": {},
   "outputs": [],
   "source": [
    "def performance_loader(model, loader):\n",
    "    preds_p = torch.tensor([]).to(device)\n",
    "    labels_p = torch.tensor([]).to(device)\n",
    "\n",
    "    with torch.no_grad():\n",
    "        for img, labels in loader:\n",
    "            img = img.to(device)\n",
    "            labels = labels.to(device)\n",
    "            preds = model(img)\n",
    "            \n",
    "            preds_p_temp = process_predictions(preds)\n",
    "            preds_p = torch.cat((preds_p, preds_p_temp),0)\n",
    "            labels_p = torch.cat((labels_p, labels),0)\n",
    "            \n",
    "        performance = final_acc_iou(preds_p, labels_p)\n",
    "    return performance, preds_p\n",
    "    "
   ]
  },
  {
   "cell_type": "code",
   "execution_count": 77,
   "id": "dc8997b2",
   "metadata": {},
   "outputs": [
    {
     "name": "stdout",
     "output_type": "stream",
     "text": [
      "Average p_c accuracy: 0.951\n",
      "Average bbox_iou: 0.360\n",
      "Average label_acc: 0.951\n",
      "Combined: 0.754\n"
     ]
    }
   ],
   "source": [
    "p_ , preds_p = performance_loader(shallow, train_loader)"
   ]
  },
  {
   "cell_type": "code",
   "execution_count": 47,
   "id": "c77e0129",
   "metadata": {},
   "outputs": [
    {
     "name": "stdout",
     "output_type": "stream",
     "text": [
      "Average p_c accuracy: 0.948\n",
      "Average bbox_iou: 0.432\n",
      "Average label_acc: 0.951\n",
      "Combined: 0.777\n"
     ]
    }
   ],
   "source": [
    "p_ , preds_p = performance_loader(shallow, val_loader)"
   ]
  },
  {
   "cell_type": "code",
   "execution_count": 48,
   "id": "e3a16fa6-b778-41c5-9e9e-7d28c0a8a6d3",
   "metadata": {},
   "outputs": [],
   "source": [
    "preds_g = convert_to_global(preds_p)"
   ]
  },
  {
   "cell_type": "code",
   "execution_count": 49,
   "id": "f19b72fc-0764-45be-8e86-8c5580a57241",
   "metadata": {},
   "outputs": [
    {
     "data": {
      "image/png": "[encoded data removed]",
      "text/plain": [
       "<PIL.Image.Image image mode=RGB size=60x48>"
      ]
     },
     "execution_count": 49,
     "metadata": {},
     "output_type": "execute_result"
    },
    {
     "data": {
      "image/png": "[encoded data removed]",
      "text/plain": [
       "<Figure size 640x480 with 1 Axes>"
      ]
     },
     "metadata": {},
     "output_type": "display_data"
    }
   ],
   "source": [
    "draw_bounding(val_data, preds_g, 0, local=False)"
   ]
  },
  {
   "cell_type": "markdown",
   "id": "dcba1b0d-6909-44e0-8810-522066cc9955",
   "metadata": {},
   "source": [
    "## Final training experiment and comparison"
   ]
  },
  {
   "cell_type": "code",
   "execution_count": 50,
   "id": "461970c3",
   "metadata": {},
   "outputs": [],
   "source": [
    "torch.manual_seed(seed)\n",
    "shallow = ShallowCNN().to(device)\n",
    "torch.manual_seed(seed)\n",
    "medium = MediumCNN().to(device)\n",
    "torch.manual_seed(seed)\n",
    "deep = DeepCNN().to(device)\n",
    "\n",
    "torch.manual_seed(seed)\n",
    "medium_bn = MediumCNN_bn().to(device)\n",
    "torch.manual_seed(seed)\n",
    "deep_bn = DeepCNN_bn().to(device)"
   ]
  },
  {
   "cell_type": "code",
   "execution_count": 51,
   "id": "43a58a32-da3c-45cc-b507-481d0dae87e9",
   "metadata": {},
   "outputs": [],
   "source": [
    "models = [shallow, medium, deep, medium_bn, deep_bn] # add resnet? shallow, medium, deep,   medium_bn, deep_bn\n",
    "lossfns = [detection_loss_with_l1, detection_loss_with_mse]"
   ]
  },
  {
   "cell_type": "code",
   "execution_count": 52,
   "id": "915b0a95-5d9d-42f6-a29e-9c2e7295fcb2",
   "metadata": {},
   "outputs": [],
   "source": [
    "torch.manual_seed(seed)\n",
    "\n",
    "def run_all_models(models, lossfn):\n",
    "    all_losses = {}\n",
    "    all_performances = {}\n",
    "    for model in models:\n",
    "        \n",
    "        model = model.to(device)\n",
    "        optim = torch.optim.Adam(model.parameters(), lr=0.001)\n",
    "\n",
    "        model_name = type(model).__name__\n",
    "\n",
    "        print('\\nNow testing', model_name)\n",
    "\n",
    "        all_losses[model_name] = train(30, optim, detection_loss_with_l1, model, train_loader, val_loader)\n",
    "\n",
    "        val_preds_p = torch.tensor([]).to(device)\n",
    "        labels_tot = torch.tensor([]).to(device)\n",
    "\n",
    "        #To make the validation faster and prevent hogging of vram it is better to use a dataloader than to send the dataset to device\n",
    "        #final_acc_iou is implemented to print score. Could change it to only return values and have a verbose argument instead.\n",
    "        #To make this work with dataloader, we need to process the data to match, and then add the tensor to the total tensor\n",
    "        #Then compute final acc\n",
    "        with torch.no_grad():\n",
    "            for img, labels in val_loader:\n",
    "                img = img.to(device)\n",
    "                labels = labels.to(device)\n",
    "                val_preds = model(img)\n",
    "                \n",
    "                val_preds_p_temp = process_predictions(val_preds)\n",
    "                val_preds_p = torch.cat((val_preds_p, val_preds_p_temp),0)\n",
    "                labels_tot = torch.cat((labels_tot, labels),0)\n",
    "                \n",
    "            all_performances[model_name] = final_acc_iou(val_preds_p, labels_tot)\n",
    "        \n",
    "        print('Done training\\n')\n",
    "        '''\n",
    "        with open(f'{model_name}.pkl', 'wb') as f:\n",
    "            pickle.dump(model, f)\n",
    "        '''\n",
    "\n",
    "    return all_losses, all_performances"
   ]
  },
  {
   "cell_type": "code",
   "execution_count": 53,
   "id": "2a2788d9-2954-4a4e-820e-6851025df899",
   "metadata": {},
   "outputs": [],
   "source": [
    "def show_losses(train_losses, val_losses, num_epochs):\n",
    "    plt.plot(range(num_epochs), train_losses)\n",
    "    plt.plot(range(num_epochs), val_losses)\n",
    "    plt.legend(['Train losses', 'Val losses'])\n",
    "    "
   ]
  },
  {
   "cell_type": "code",
   "execution_count": 54,
   "id": "283de850-6638-473a-adb9-f8a71debc06f",
   "metadata": {},
   "outputs": [
    {
     "name": "stdout",
     "output_type": "stream",
     "text": [
      "\n",
      "Now testing ShallowCNN\n"
     ]
    },
    {
     "name": "stderr",
     "output_type": "stream",
     "text": [
      "Epoch: 1: 100%|██████████| 209/209 [00:00<00:00, 216.37batch/s]\n"
     ]
    },
    {
     "name": "stdout",
     "output_type": "stream",
     "text": [
      "Epoch: 1, Train loss:  0.542, Val loss:  0.466\n"
     ]
    },
    {
     "name": "stderr",
     "output_type": "stream",
     "text": [
      "Epoch: 2: 100%|██████████| 209/209 [00:01<00:00, 179.52batch/s]\n"
     ]
    },
    {
     "name": "stdout",
     "output_type": "stream",
     "text": [
      "Epoch: 2, Train loss:  0.560, Val loss:  0.552\n"
     ]
    },
    {
     "name": "stderr",
     "output_type": "stream",
     "text": [
      "Epoch: 3: 100%|██████████| 209/209 [00:01<00:00, 167.01batch/s]\n"
     ]
    },
    {
     "name": "stdout",
     "output_type": "stream",
     "text": [
      "Epoch: 3, Train loss:  0.619, Val loss:  0.621\n"
     ]
    },
    {
     "name": "stderr",
     "output_type": "stream",
     "text": [
      "Epoch: 4: 100%|██████████| 209/209 [00:01<00:00, 176.51batch/s]\n"
     ]
    },
    {
     "name": "stdout",
     "output_type": "stream",
     "text": [
      "Epoch: 4, Train loss:  0.680, Val loss:  0.689\n"
     ]
    },
    {
     "name": "stderr",
     "output_type": "stream",
     "text": [
      "Epoch: 5: 100%|██████████| 209/209 [00:01<00:00, 172.27batch/s]\n"
     ]
    },
    {
     "name": "stdout",
     "output_type": "stream",
     "text": [
      "Epoch: 5, Train loss:  0.570, Val loss:  0.468\n"
     ]
    },
    {
     "name": "stderr",
     "output_type": "stream",
     "text": [
      "Epoch: 6: 100%|██████████| 209/209 [00:01<00:00, 174.93batch/s]\n"
     ]
    },
    {
     "name": "stdout",
     "output_type": "stream",
     "text": [
      "Epoch: 6, Train loss:  0.476, Val loss:  0.436\n"
     ]
    },
    {
     "name": "stderr",
     "output_type": "stream",
     "text": [
      "Epoch: 7: 100%|██████████| 209/209 [00:01<00:00, 175.15batch/s]\n"
     ]
    },
    {
     "name": "stdout",
     "output_type": "stream",
     "text": [
      "Epoch: 7, Train loss:  0.439, Val loss:  0.448\n"
     ]
    },
    {
     "name": "stderr",
     "output_type": "stream",
     "text": [
      "Epoch: 8: 100%|██████████| 209/209 [00:01<00:00, 172.48batch/s]\n"
     ]
    },
    {
     "name": "stdout",
     "output_type": "stream",
     "text": [
      "Epoch: 8, Train loss:  0.414, Val loss:  0.381\n"
     ]
    },
    {
     "name": "stderr",
     "output_type": "stream",
     "text": [
      "Epoch: 9: 100%|██████████| 209/209 [00:01<00:00, 176.19batch/s]\n"
     ]
    },
    {
     "name": "stdout",
     "output_type": "stream",
     "text": [
      "Epoch: 9, Train loss:  0.392, Val loss:  0.384\n"
     ]
    },
    {
     "name": "stderr",
     "output_type": "stream",
     "text": [
      "Epoch: 10: 100%|██████████| 209/209 [00:01<00:00, 178.21batch/s]\n"
     ]
    },
    {
     "name": "stdout",
     "output_type": "stream",
     "text": [
      "Epoch: 10, Train loss:  0.381, Val loss:  0.367\n"
     ]
    },
    {
     "name": "stderr",
     "output_type": "stream",
     "text": [
      "Epoch: 11: 100%|██████████| 209/209 [00:01<00:00, 176.71batch/s]\n"
     ]
    },
    {
     "name": "stdout",
     "output_type": "stream",
     "text": [
      "Epoch: 11, Train loss:  0.364, Val loss:  0.366\n"
     ]
    },
    {
     "name": "stderr",
     "output_type": "stream",
     "text": [
      "Epoch: 12: 100%|██████████| 209/209 [00:01<00:00, 177.59batch/s]\n"
     ]
    },
    {
     "name": "stdout",
     "output_type": "stream",
     "text": [
      "Epoch: 12, Train loss:  0.354, Val loss:  0.406\n"
     ]
    },
    {
     "name": "stderr",
     "output_type": "stream",
     "text": [
      "Epoch: 13: 100%|██████████| 209/209 [00:01<00:00, 177.63batch/s]\n"
     ]
    },
    {
     "name": "stdout",
     "output_type": "stream",
     "text": [
      "Epoch: 13, Train loss:  0.347, Val loss:  0.371\n"
     ]
    },
    {
     "name": "stderr",
     "output_type": "stream",
     "text": [
      "Epoch: 14: 100%|██████████| 209/209 [00:01<00:00, 178.46batch/s]\n"
     ]
    },
    {
     "name": "stdout",
     "output_type": "stream",
     "text": [
      "Epoch: 14, Train loss:  0.336, Val loss:  0.333\n"
     ]
    },
    {
     "name": "stderr",
     "output_type": "stream",
     "text": [
      "Epoch: 15: 100%|██████████| 209/209 [00:01<00:00, 174.07batch/s]\n"
     ]
    },
    {
     "name": "stdout",
     "output_type": "stream",
     "text": [
      "Epoch: 15, Train loss:  0.327, Val loss:  0.329\n"
     ]
    },
    {
     "name": "stderr",
     "output_type": "stream",
     "text": [
      "Epoch: 16: 100%|██████████| 209/209 [00:01<00:00, 175.28batch/s]\n"
     ]
    },
    {
     "name": "stdout",
     "output_type": "stream",
     "text": [
      "Epoch: 16, Train loss:  0.326, Val loss:  0.360\n"
     ]
    },
    {
     "name": "stderr",
     "output_type": "stream",
     "text": [
      "Epoch: 17: 100%|██████████| 209/209 [00:01<00:00, 175.96batch/s]\n"
     ]
    },
    {
     "name": "stdout",
     "output_type": "stream",
     "text": [
      "Epoch: 17, Train loss:  0.320, Val loss:  0.343\n"
     ]
    },
    {
     "name": "stderr",
     "output_type": "stream",
     "text": [
      "Epoch: 18: 100%|██████████| 209/209 [00:01<00:00, 177.03batch/s]\n"
     ]
    },
    {
     "name": "stdout",
     "output_type": "stream",
     "text": [
      "Epoch: 18, Train loss:  0.313, Val loss:  0.328\n"
     ]
    },
    {
     "name": "stderr",
     "output_type": "stream",
     "text": [
      "Epoch: 19: 100%|██████████| 209/209 [00:01<00:00, 180.06batch/s]\n"
     ]
    },
    {
     "name": "stdout",
     "output_type": "stream",
     "text": [
      "Epoch: 19, Train loss:  0.305, Val loss:  0.320\n"
     ]
    },
    {
     "name": "stderr",
     "output_type": "stream",
     "text": [
      "Epoch: 20: 100%|██████████| 209/209 [00:01<00:00, 182.88batch/s]\n"
     ]
    },
    {
     "name": "stdout",
     "output_type": "stream",
     "text": [
      "Epoch: 20, Train loss:  0.303, Val loss:  0.339\n"
     ]
    },
    {
     "name": "stderr",
     "output_type": "stream",
     "text": [
      "Epoch: 21: 100%|██████████| 209/209 [00:01<00:00, 186.35batch/s]\n"
     ]
    },
    {
     "name": "stdout",
     "output_type": "stream",
     "text": [
      "Epoch: 21, Train loss:  0.299, Val loss:  0.306\n"
     ]
    },
    {
     "name": "stderr",
     "output_type": "stream",
     "text": [
      "Epoch: 22: 100%|██████████| 209/209 [00:01<00:00, 186.83batch/s]\n"
     ]
    },
    {
     "name": "stdout",
     "output_type": "stream",
     "text": [
      "Epoch: 22, Train loss:  0.296, Val loss:  0.303\n"
     ]
    },
    {
     "name": "stderr",
     "output_type": "stream",
     "text": [
      "Epoch: 23: 100%|██████████| 209/209 [00:01<00:00, 185.38batch/s]\n"
     ]
    },
    {
     "name": "stdout",
     "output_type": "stream",
     "text": [
      "Epoch: 23, Train loss:  0.292, Val loss:  0.301\n"
     ]
    },
    {
     "name": "stderr",
     "output_type": "stream",
     "text": [
      "Epoch: 24: 100%|██████████| 209/209 [00:01<00:00, 184.75batch/s]\n"
     ]
    },
    {
     "name": "stdout",
     "output_type": "stream",
     "text": [
      "Epoch: 24, Train loss:  0.291, Val loss:  0.298\n"
     ]
    },
    {
     "name": "stderr",
     "output_type": "stream",
     "text": [
      "Epoch: 25: 100%|██████████| 209/209 [00:01<00:00, 185.01batch/s]\n"
     ]
    },
    {
     "name": "stdout",
     "output_type": "stream",
     "text": [
      "Epoch: 25, Train loss:  0.287, Val loss:  0.289\n"
     ]
    },
    {
     "name": "stderr",
     "output_type": "stream",
     "text": [
      "Epoch: 26: 100%|██████████| 209/209 [00:01<00:00, 186.48batch/s]\n"
     ]
    },
    {
     "name": "stdout",
     "output_type": "stream",
     "text": [
      "Epoch: 26, Train loss:  0.282, Val loss:  0.303\n"
     ]
    },
    {
     "name": "stderr",
     "output_type": "stream",
     "text": [
      "Epoch: 27: 100%|██████████| 209/209 [00:01<00:00, 184.22batch/s]\n"
     ]
    },
    {
     "name": "stdout",
     "output_type": "stream",
     "text": [
      "Epoch: 27, Train loss:  0.280, Val loss:  0.278\n"
     ]
    },
    {
     "name": "stderr",
     "output_type": "stream",
     "text": [
      "Epoch: 28: 100%|██████████| 209/209 [00:01<00:00, 183.77batch/s]\n"
     ]
    },
    {
     "name": "stdout",
     "output_type": "stream",
     "text": [
      "Epoch: 28, Train loss:  0.277, Val loss:  0.304\n"
     ]
    },
    {
     "name": "stderr",
     "output_type": "stream",
     "text": [
      "Epoch: 29: 100%|██████████| 209/209 [00:01<00:00, 180.39batch/s]\n"
     ]
    },
    {
     "name": "stdout",
     "output_type": "stream",
     "text": [
      "Epoch: 29, Train loss:  0.273, Val loss:  0.302\n"
     ]
    },
    {
     "name": "stderr",
     "output_type": "stream",
     "text": [
      "Epoch: 30: 100%|██████████| 209/209 [00:01<00:00, 185.24batch/s]\n"
     ]
    },
    {
     "name": "stdout",
     "output_type": "stream",
     "text": [
      "Epoch: 30, Train loss:  0.271, Val loss:  0.279\n",
      "Average p_c accuracy: 0.951\n",
      "Average bbox_iou: 0.360\n",
      "Average label_acc: 0.949\n",
      "Combined: 0.754\n",
      "Done training\n",
      "\n",
      "\n",
      "Now testing MediumCNN\n"
     ]
    },
    {
     "name": "stderr",
     "output_type": "stream",
     "text": [
      "Epoch: 1: 100%|██████████| 209/209 [00:01<00:00, 129.01batch/s]\n"
     ]
    },
    {
     "name": "stdout",
     "output_type": "stream",
     "text": [
      "Epoch: 1, Train loss:  0.583, Val loss:  0.528\n"
     ]
    },
    {
     "name": "stderr",
     "output_type": "stream",
     "text": [
      "Epoch: 2: 100%|██████████| 209/209 [00:01<00:00, 120.71batch/s]\n"
     ]
    },
    {
     "name": "stdout",
     "output_type": "stream",
     "text": [
      "Epoch: 2, Train loss:  0.714, Val loss:  0.654\n"
     ]
    },
    {
     "name": "stderr",
     "output_type": "stream",
     "text": [
      "Epoch: 3: 100%|██████████| 209/209 [00:01<00:00, 119.59batch/s]\n"
     ]
    },
    {
     "name": "stdout",
     "output_type": "stream",
     "text": [
      "Epoch: 3, Train loss:  0.620, Val loss:  0.541\n"
     ]
    },
    {
     "name": "stderr",
     "output_type": "stream",
     "text": [
      "Epoch: 4: 100%|██████████| 209/209 [00:01<00:00, 118.63batch/s]\n"
     ]
    },
    {
     "name": "stdout",
     "output_type": "stream",
     "text": [
      "Epoch: 4, Train loss:  0.560, Val loss:  0.541\n"
     ]
    },
    {
     "name": "stderr",
     "output_type": "stream",
     "text": [
      "Epoch: 5: 100%|██████████| 209/209 [00:01<00:00, 120.01batch/s]\n"
     ]
    },
    {
     "name": "stdout",
     "output_type": "stream",
     "text": [
      "Epoch: 5, Train loss:  0.531, Val loss:  0.486\n"
     ]
    },
    {
     "name": "stderr",
     "output_type": "stream",
     "text": [
      "Epoch: 6: 100%|██████████| 209/209 [00:01<00:00, 119.53batch/s]\n"
     ]
    },
    {
     "name": "stdout",
     "output_type": "stream",
     "text": [
      "Epoch: 6, Train loss:  0.396, Val loss:  0.303\n"
     ]
    },
    {
     "name": "stderr",
     "output_type": "stream",
     "text": [
      "Epoch: 7: 100%|██████████| 209/209 [00:01<00:00, 120.33batch/s]\n"
     ]
    },
    {
     "name": "stdout",
     "output_type": "stream",
     "text": [
      "Epoch: 7, Train loss:  0.315, Val loss:  0.286\n"
     ]
    },
    {
     "name": "stderr",
     "output_type": "stream",
     "text": [
      "Epoch: 8: 100%|██████████| 209/209 [00:01<00:00, 120.65batch/s]\n"
     ]
    },
    {
     "name": "stdout",
     "output_type": "stream",
     "text": [
      "Epoch: 8, Train loss:  0.285, Val loss:  0.244\n"
     ]
    },
    {
     "name": "stderr",
     "output_type": "stream",
     "text": [
      "Epoch: 9: 100%|██████████| 209/209 [00:01<00:00, 118.74batch/s]\n"
     ]
    },
    {
     "name": "stdout",
     "output_type": "stream",
     "text": [
      "Epoch: 9, Train loss:  0.266, Val loss:  0.298\n"
     ]
    },
    {
     "name": "stderr",
     "output_type": "stream",
     "text": [
      "Epoch: 10: 100%|██████████| 209/209 [00:01<00:00, 117.38batch/s]\n"
     ]
    },
    {
     "name": "stdout",
     "output_type": "stream",
     "text": [
      "Epoch: 10, Train loss:  0.254, Val loss:  0.250\n"
     ]
    },
    {
     "name": "stderr",
     "output_type": "stream",
     "text": [
      "Epoch: 11: 100%|██████████| 209/209 [00:01<00:00, 115.70batch/s]\n"
     ]
    },
    {
     "name": "stdout",
     "output_type": "stream",
     "text": [
      "Epoch: 11, Train loss:  0.245, Val loss:  0.287\n"
     ]
    },
    {
     "name": "stderr",
     "output_type": "stream",
     "text": [
      "Epoch: 12: 100%|██████████| 209/209 [00:01<00:00, 116.02batch/s]\n"
     ]
    },
    {
     "name": "stdout",
     "output_type": "stream",
     "text": [
      "Epoch: 12, Train loss:  0.235, Val loss:  0.228\n"
     ]
    },
    {
     "name": "stderr",
     "output_type": "stream",
     "text": [
      "Epoch: 13: 100%|██████████| 209/209 [00:01<00:00, 115.05batch/s]\n"
     ]
    },
    {
     "name": "stdout",
     "output_type": "stream",
     "text": [
      "Epoch: 13, Train loss:  0.217, Val loss:  0.221\n"
     ]
    },
    {
     "name": "stderr",
     "output_type": "stream",
     "text": [
      "Epoch: 14: 100%|██████████| 209/209 [00:01<00:00, 116.40batch/s]\n"
     ]
    },
    {
     "name": "stdout",
     "output_type": "stream",
     "text": [
      "Epoch: 14, Train loss:  0.215, Val loss:  0.228\n"
     ]
    },
    {
     "name": "stderr",
     "output_type": "stream",
     "text": [
      "Epoch: 15: 100%|██████████| 209/209 [00:01<00:00, 115.43batch/s]\n"
     ]
    },
    {
     "name": "stdout",
     "output_type": "stream",
     "text": [
      "Epoch: 15, Train loss:  0.204, Val loss:  0.212\n"
     ]
    },
    {
     "name": "stderr",
     "output_type": "stream",
     "text": [
      "Epoch: 16: 100%|██████████| 209/209 [00:01<00:00, 116.40batch/s]\n"
     ]
    },
    {
     "name": "stdout",
     "output_type": "stream",
     "text": [
      "Epoch: 16, Train loss:  0.199, Val loss:  0.201\n"
     ]
    },
    {
     "name": "stderr",
     "output_type": "stream",
     "text": [
      "Epoch: 17: 100%|██████████| 209/209 [00:01<00:00, 115.93batch/s]\n"
     ]
    },
    {
     "name": "stdout",
     "output_type": "stream",
     "text": [
      "Epoch: 17, Train loss:  0.188, Val loss:  0.189\n"
     ]
    },
    {
     "name": "stderr",
     "output_type": "stream",
     "text": [
      "Epoch: 18: 100%|██████████| 209/209 [00:01<00:00, 115.70batch/s]\n"
     ]
    },
    {
     "name": "stdout",
     "output_type": "stream",
     "text": [
      "Epoch: 18, Train loss:  0.186, Val loss:  0.203\n"
     ]
    },
    {
     "name": "stderr",
     "output_type": "stream",
     "text": [
      "Epoch: 19: 100%|██████████| 209/209 [00:01<00:00, 118.74batch/s]\n"
     ]
    },
    {
     "name": "stdout",
     "output_type": "stream",
     "text": [
      "Epoch: 19, Train loss:  0.176, Val loss:  0.229\n"
     ]
    },
    {
     "name": "stderr",
     "output_type": "stream",
     "text": [
      "Epoch: 20: 100%|██████████| 209/209 [00:01<00:00, 118.93batch/s]\n"
     ]
    },
    {
     "name": "stdout",
     "output_type": "stream",
     "text": [
      "Epoch: 20, Train loss:  0.167, Val loss:  0.176\n"
     ]
    },
    {
     "name": "stderr",
     "output_type": "stream",
     "text": [
      "Epoch: 21: 100%|██████████| 209/209 [00:01<00:00, 119.36batch/s]\n"
     ]
    },
    {
     "name": "stdout",
     "output_type": "stream",
     "text": [
      "Epoch: 21, Train loss:  0.156, Val loss:  0.173\n"
     ]
    },
    {
     "name": "stderr",
     "output_type": "stream",
     "text": [
      "Epoch: 22: 100%|██████████| 209/209 [00:01<00:00, 119.77batch/s]\n"
     ]
    },
    {
     "name": "stdout",
     "output_type": "stream",
     "text": [
      "Epoch: 22, Train loss:  0.149, Val loss:  0.172\n"
     ]
    },
    {
     "name": "stderr",
     "output_type": "stream",
     "text": [
      "Epoch: 23: 100%|██████████| 209/209 [00:01<00:00, 119.82batch/s]\n"
     ]
    },
    {
     "name": "stdout",
     "output_type": "stream",
     "text": [
      "Epoch: 23, Train loss:  0.144, Val loss:  0.156\n"
     ]
    },
    {
     "name": "stderr",
     "output_type": "stream",
     "text": [
      "Epoch: 24: 100%|██████████| 209/209 [00:01<00:00, 119.41batch/s]\n"
     ]
    },
    {
     "name": "stdout",
     "output_type": "stream",
     "text": [
      "Epoch: 24, Train loss:  0.141, Val loss:  0.184\n"
     ]
    },
    {
     "name": "stderr",
     "output_type": "stream",
     "text": [
      "Epoch: 25: 100%|██████████| 209/209 [00:01<00:00, 118.59batch/s]\n"
     ]
    },
    {
     "name": "stdout",
     "output_type": "stream",
     "text": [
      "Epoch: 25, Train loss:  0.135, Val loss:  0.157\n"
     ]
    },
    {
     "name": "stderr",
     "output_type": "stream",
     "text": [
      "Epoch: 26: 100%|██████████| 209/209 [00:01<00:00, 122.40batch/s]\n"
     ]
    },
    {
     "name": "stdout",
     "output_type": "stream",
     "text": [
      "Epoch: 26, Train loss:  0.128, Val loss:  0.166\n"
     ]
    },
    {
     "name": "stderr",
     "output_type": "stream",
     "text": [
      "Epoch: 27: 100%|██████████| 209/209 [00:01<00:00, 123.09batch/s]\n"
     ]
    },
    {
     "name": "stdout",
     "output_type": "stream",
     "text": [
      "Epoch: 27, Train loss:  0.128, Val loss:  0.161\n"
     ]
    },
    {
     "name": "stderr",
     "output_type": "stream",
     "text": [
      "Epoch: 28: 100%|██████████| 209/209 [00:01<00:00, 123.02batch/s]\n"
     ]
    },
    {
     "name": "stdout",
     "output_type": "stream",
     "text": [
      "Epoch: 28, Train loss:  0.128, Val loss:  0.177\n"
     ]
    },
    {
     "name": "stderr",
     "output_type": "stream",
     "text": [
      "Epoch: 29: 100%|██████████| 209/209 [00:01<00:00, 122.79batch/s]\n"
     ]
    },
    {
     "name": "stdout",
     "output_type": "stream",
     "text": [
      "Epoch: 29, Train loss:  0.120, Val loss:  0.164\n"
     ]
    },
    {
     "name": "stderr",
     "output_type": "stream",
     "text": [
      "Epoch: 30: 100%|██████████| 209/209 [00:01<00:00, 121.68batch/s]\n"
     ]
    },
    {
     "name": "stdout",
     "output_type": "stream",
     "text": [
      "Epoch: 30, Train loss:  0.122, Val loss:  0.163\n",
      "Average p_c accuracy: 0.977\n",
      "Average bbox_iou: 0.458\n",
      "Average label_acc: 0.963\n",
      "Combined: 0.799\n",
      "Done training\n",
      "\n",
      "\n",
      "Now testing DeepCNN\n"
     ]
    },
    {
     "name": "stderr",
     "output_type": "stream",
     "text": [
      "Epoch: 1: 100%|██████████| 209/209 [00:02<00:00, 73.83batch/s]\n"
     ]
    },
    {
     "name": "stdout",
     "output_type": "stream",
     "text": [
      "Epoch: 1, Train loss:  0.641, Val loss:  0.782\n"
     ]
    },
    {
     "name": "stderr",
     "output_type": "stream",
     "text": [
      "Epoch: 2: 100%|██████████| 209/209 [00:02<00:00, 70.17batch/s]\n"
     ]
    },
    {
     "name": "stdout",
     "output_type": "stream",
     "text": [
      "Epoch: 2, Train loss:  0.357, Val loss:  0.235\n"
     ]
    },
    {
     "name": "stderr",
     "output_type": "stream",
     "text": [
      "Epoch: 3: 100%|██████████| 209/209 [00:02<00:00, 70.25batch/s]\n"
     ]
    },
    {
     "name": "stdout",
     "output_type": "stream",
     "text": [
      "Epoch: 3, Train loss:  0.194, Val loss:  0.152\n"
     ]
    },
    {
     "name": "stderr",
     "output_type": "stream",
     "text": [
      "Epoch: 4: 100%|██████████| 209/209 [00:03<00:00, 68.73batch/s]\n"
     ]
    },
    {
     "name": "stdout",
     "output_type": "stream",
     "text": [
      "Epoch: 4, Train loss:  0.148, Val loss:  0.133\n"
     ]
    },
    {
     "name": "stderr",
     "output_type": "stream",
     "text": [
      "Epoch: 5: 100%|██████████| 209/209 [00:03<00:00, 68.85batch/s]\n"
     ]
    },
    {
     "name": "stdout",
     "output_type": "stream",
     "text": [
      "Epoch: 5, Train loss:  0.122, Val loss:  0.113\n"
     ]
    },
    {
     "name": "stderr",
     "output_type": "stream",
     "text": [
      "Epoch: 6: 100%|██████████| 209/209 [00:03<00:00, 68.79batch/s]\n"
     ]
    },
    {
     "name": "stdout",
     "output_type": "stream",
     "text": [
      "Epoch: 6, Train loss:  0.107, Val loss:  0.146\n"
     ]
    },
    {
     "name": "stderr",
     "output_type": "stream",
     "text": [
      "Epoch: 7: 100%|██████████| 209/209 [00:03<00:00, 68.36batch/s]\n"
     ]
    },
    {
     "name": "stdout",
     "output_type": "stream",
     "text": [
      "Epoch: 7, Train loss:  0.098, Val loss:  0.104\n"
     ]
    },
    {
     "name": "stderr",
     "output_type": "stream",
     "text": [
      "Epoch: 8: 100%|██████████| 209/209 [00:03<00:00, 68.84batch/s]\n"
     ]
    },
    {
     "name": "stdout",
     "output_type": "stream",
     "text": [
      "Epoch: 8, Train loss:  0.090, Val loss:  0.100\n"
     ]
    },
    {
     "name": "stderr",
     "output_type": "stream",
     "text": [
      "Epoch: 9: 100%|██████████| 209/209 [00:03<00:00, 68.76batch/s]\n"
     ]
    },
    {
     "name": "stdout",
     "output_type": "stream",
     "text": [
      "Epoch: 9, Train loss:  0.082, Val loss:  0.100\n"
     ]
    },
    {
     "name": "stderr",
     "output_type": "stream",
     "text": [
      "Epoch: 10: 100%|██████████| 209/209 [00:03<00:00, 68.00batch/s]\n"
     ]
    },
    {
     "name": "stdout",
     "output_type": "stream",
     "text": [
      "Epoch: 10, Train loss:  0.080, Val loss:  0.110\n"
     ]
    },
    {
     "name": "stderr",
     "output_type": "stream",
     "text": [
      "Epoch: 11: 100%|██████████| 209/209 [00:03<00:00, 68.48batch/s]\n"
     ]
    },
    {
     "name": "stdout",
     "output_type": "stream",
     "text": [
      "Epoch: 11, Train loss:  0.074, Val loss:  0.113\n"
     ]
    },
    {
     "name": "stderr",
     "output_type": "stream",
     "text": [
      "Epoch: 12: 100%|██████████| 209/209 [00:03<00:00, 68.62batch/s]\n"
     ]
    },
    {
     "name": "stdout",
     "output_type": "stream",
     "text": [
      "Epoch: 12, Train loss:  0.070, Val loss:  0.098\n"
     ]
    },
    {
     "name": "stderr",
     "output_type": "stream",
     "text": [
      "Epoch: 13: 100%|██████████| 209/209 [00:03<00:00, 68.59batch/s]\n"
     ]
    },
    {
     "name": "stdout",
     "output_type": "stream",
     "text": [
      "Epoch: 13, Train loss:  0.063, Val loss:  0.102\n"
     ]
    },
    {
     "name": "stderr",
     "output_type": "stream",
     "text": [
      "Epoch: 14: 100%|██████████| 209/209 [00:03<00:00, 68.62batch/s]\n"
     ]
    },
    {
     "name": "stdout",
     "output_type": "stream",
     "text": [
      "Epoch: 14, Train loss:  0.063, Val loss:  0.095\n"
     ]
    },
    {
     "name": "stderr",
     "output_type": "stream",
     "text": [
      "Epoch: 15: 100%|██████████| 209/209 [00:03<00:00, 68.62batch/s]\n"
     ]
    },
    {
     "name": "stdout",
     "output_type": "stream",
     "text": [
      "Epoch: 15, Train loss:  0.056, Val loss:  0.103\n"
     ]
    },
    {
     "name": "stderr",
     "output_type": "stream",
     "text": [
      "Epoch: 16: 100%|██████████| 209/209 [00:03<00:00, 68.62batch/s]\n"
     ]
    },
    {
     "name": "stdout",
     "output_type": "stream",
     "text": [
      "Epoch: 16, Train loss:  0.054, Val loss:  0.119\n"
     ]
    },
    {
     "name": "stderr",
     "output_type": "stream",
     "text": [
      "Epoch: 17: 100%|██████████| 209/209 [00:03<00:00, 68.26batch/s]\n"
     ]
    },
    {
     "name": "stdout",
     "output_type": "stream",
     "text": [
      "Epoch: 17, Train loss:  0.050, Val loss:  0.118\n"
     ]
    },
    {
     "name": "stderr",
     "output_type": "stream",
     "text": [
      "Epoch: 18: 100%|██████████| 209/209 [00:03<00:00, 68.17batch/s]\n"
     ]
    },
    {
     "name": "stdout",
     "output_type": "stream",
     "text": [
      "Epoch: 18, Train loss:  0.046, Val loss:  0.115\n"
     ]
    },
    {
     "name": "stderr",
     "output_type": "stream",
     "text": [
      "Epoch: 19: 100%|██████████| 209/209 [00:03<00:00, 68.16batch/s]\n"
     ]
    },
    {
     "name": "stdout",
     "output_type": "stream",
     "text": [
      "Epoch: 19, Train loss:  0.040, Val loss:  0.127\n"
     ]
    },
    {
     "name": "stderr",
     "output_type": "stream",
     "text": [
      "Epoch: 20: 100%|██████████| 209/209 [00:03<00:00, 68.18batch/s]\n"
     ]
    },
    {
     "name": "stdout",
     "output_type": "stream",
     "text": [
      "Epoch: 20, Train loss:  0.033, Val loss:  0.140\n"
     ]
    },
    {
     "name": "stderr",
     "output_type": "stream",
     "text": [
      "Epoch: 21: 100%|██████████| 209/209 [00:03<00:00, 68.93batch/s]\n"
     ]
    },
    {
     "name": "stdout",
     "output_type": "stream",
     "text": [
      "Epoch: 21, Train loss:  0.035, Val loss:  0.161\n"
     ]
    },
    {
     "name": "stderr",
     "output_type": "stream",
     "text": [
      "Epoch: 22: 100%|██████████| 209/209 [00:03<00:00, 68.51batch/s]\n"
     ]
    },
    {
     "name": "stdout",
     "output_type": "stream",
     "text": [
      "Epoch: 22, Train loss:  0.033, Val loss:  0.151\n"
     ]
    },
    {
     "name": "stderr",
     "output_type": "stream",
     "text": [
      "Epoch: 23: 100%|██████████| 209/209 [00:03<00:00, 68.22batch/s]\n"
     ]
    },
    {
     "name": "stdout",
     "output_type": "stream",
     "text": [
      "Epoch: 23, Train loss:  0.025, Val loss:  0.133\n"
     ]
    },
    {
     "name": "stderr",
     "output_type": "stream",
     "text": [
      "Epoch: 24: 100%|██████████| 209/209 [00:03<00:00, 68.06batch/s]\n"
     ]
    },
    {
     "name": "stdout",
     "output_type": "stream",
     "text": [
      "Epoch: 24, Train loss:  0.024, Val loss:  0.136\n"
     ]
    },
    {
     "name": "stderr",
     "output_type": "stream",
     "text": [
      "Epoch: 25: 100%|██████████| 209/209 [00:03<00:00, 68.45batch/s]\n"
     ]
    },
    {
     "name": "stdout",
     "output_type": "stream",
     "text": [
      "Epoch: 25, Train loss:  0.021, Val loss:  0.162\n"
     ]
    },
    {
     "name": "stderr",
     "output_type": "stream",
     "text": [
      "Epoch: 26: 100%|██████████| 209/209 [00:03<00:00, 68.36batch/s]\n"
     ]
    },
    {
     "name": "stdout",
     "output_type": "stream",
     "text": [
      "Epoch: 26, Train loss:  0.035, Val loss:  0.146\n"
     ]
    },
    {
     "name": "stderr",
     "output_type": "stream",
     "text": [
      "Epoch: 27: 100%|██████████| 209/209 [00:03<00:00, 67.98batch/s]\n"
     ]
    },
    {
     "name": "stdout",
     "output_type": "stream",
     "text": [
      "Epoch: 27, Train loss:  0.019, Val loss:  0.155\n"
     ]
    },
    {
     "name": "stderr",
     "output_type": "stream",
     "text": [
      "Epoch: 28: 100%|██████████| 209/209 [00:03<00:00, 68.40batch/s]\n"
     ]
    },
    {
     "name": "stdout",
     "output_type": "stream",
     "text": [
      "Epoch: 28, Train loss:  0.018, Val loss:  0.162\n"
     ]
    },
    {
     "name": "stderr",
     "output_type": "stream",
     "text": [
      "Epoch: 29: 100%|██████████| 209/209 [00:03<00:00, 68.71batch/s]\n"
     ]
    },
    {
     "name": "stdout",
     "output_type": "stream",
     "text": [
      "Epoch: 29, Train loss:  0.011, Val loss:  0.165\n"
     ]
    },
    {
     "name": "stderr",
     "output_type": "stream",
     "text": [
      "Epoch: 30: 100%|██████████| 209/209 [00:03<00:00, 68.48batch/s]\n"
     ]
    },
    {
     "name": "stdout",
     "output_type": "stream",
     "text": [
      "Epoch: 30, Train loss:  0.011, Val loss:  0.193\n",
      "Average p_c accuracy: 0.986\n",
      "Average bbox_iou: 0.643\n",
      "Average label_acc: 0.979\n",
      "Combined: 0.869\n",
      "Done training\n",
      "\n",
      "\n",
      "Now testing MediumCNN_bn\n"
     ]
    },
    {
     "name": "stderr",
     "output_type": "stream",
     "text": [
      "Epoch: 1: 100%|██████████| 209/209 [00:02<00:00, 100.15batch/s]\n"
     ]
    },
    {
     "name": "stdout",
     "output_type": "stream",
     "text": [
      "Epoch: 1, Train loss:  0.620, Val loss:  0.467\n"
     ]
    },
    {
     "name": "stderr",
     "output_type": "stream",
     "text": [
      "Epoch: 2: 100%|██████████| 209/209 [00:02<00:00, 97.44batch/s]\n"
     ]
    },
    {
     "name": "stdout",
     "output_type": "stream",
     "text": [
      "Epoch: 2, Train loss:  0.542, Val loss:  0.619\n"
     ]
    },
    {
     "name": "stderr",
     "output_type": "stream",
     "text": [
      "Epoch: 3: 100%|██████████| 209/209 [00:02<00:00, 97.66batch/s]\n"
     ]
    },
    {
     "name": "stdout",
     "output_type": "stream",
     "text": [
      "Epoch: 3, Train loss:  0.398, Val loss:  0.930\n"
     ]
    },
    {
     "name": "stderr",
     "output_type": "stream",
     "text": [
      "Epoch: 4: 100%|██████████| 209/209 [00:02<00:00, 98.39batch/s]\n"
     ]
    },
    {
     "name": "stdout",
     "output_type": "stream",
     "text": [
      "Epoch: 4, Train loss:  0.316, Val loss:  0.819\n"
     ]
    },
    {
     "name": "stderr",
     "output_type": "stream",
     "text": [
      "Epoch: 5: 100%|██████████| 209/209 [00:02<00:00, 97.96batch/s]\n"
     ]
    },
    {
     "name": "stdout",
     "output_type": "stream",
     "text": [
      "Epoch: 5, Train loss:  0.269, Val loss:  1.146\n"
     ]
    },
    {
     "name": "stderr",
     "output_type": "stream",
     "text": [
      "Epoch: 6: 100%|██████████| 209/209 [00:02<00:00, 98.45batch/s]\n"
     ]
    },
    {
     "name": "stdout",
     "output_type": "stream",
     "text": [
      "Epoch: 6, Train loss:  0.239, Val loss:  0.999\n"
     ]
    },
    {
     "name": "stderr",
     "output_type": "stream",
     "text": [
      "Epoch: 7: 100%|██████████| 209/209 [00:02<00:00, 98.33batch/s]\n"
     ]
    },
    {
     "name": "stdout",
     "output_type": "stream",
     "text": [
      "Epoch: 7, Train loss:  0.209, Val loss:  0.932\n"
     ]
    },
    {
     "name": "stderr",
     "output_type": "stream",
     "text": [
      "Epoch: 8: 100%|██████████| 209/209 [00:02<00:00, 97.58batch/s]\n"
     ]
    },
    {
     "name": "stdout",
     "output_type": "stream",
     "text": [
      "Epoch: 8, Train loss:  0.191, Val loss:  1.416\n"
     ]
    },
    {
     "name": "stderr",
     "output_type": "stream",
     "text": [
      "Epoch: 9: 100%|██████████| 209/209 [00:02<00:00, 97.28batch/s]\n"
     ]
    },
    {
     "name": "stdout",
     "output_type": "stream",
     "text": [
      "Epoch: 9, Train loss:  0.176, Val loss:  1.121\n"
     ]
    },
    {
     "name": "stderr",
     "output_type": "stream",
     "text": [
      "Epoch: 10: 100%|██████████| 209/209 [00:02<00:00, 97.57batch/s]\n"
     ]
    },
    {
     "name": "stdout",
     "output_type": "stream",
     "text": [
      "Epoch: 10, Train loss:  0.163, Val loss:  1.599\n"
     ]
    },
    {
     "name": "stderr",
     "output_type": "stream",
     "text": [
      "Epoch: 11: 100%|██████████| 209/209 [00:02<00:00, 97.21batch/s]\n"
     ]
    },
    {
     "name": "stdout",
     "output_type": "stream",
     "text": [
      "Epoch: 11, Train loss:  0.152, Val loss:  1.440\n"
     ]
    },
    {
     "name": "stderr",
     "output_type": "stream",
     "text": [
      "Epoch: 12: 100%|██████████| 209/209 [00:02<00:00, 96.32batch/s]\n"
     ]
    },
    {
     "name": "stdout",
     "output_type": "stream",
     "text": [
      "Epoch: 12, Train loss:  0.148, Val loss:  1.934\n"
     ]
    },
    {
     "name": "stderr",
     "output_type": "stream",
     "text": [
      "Epoch: 13: 100%|██████████| 209/209 [00:02<00:00, 97.15batch/s]\n"
     ]
    },
    {
     "name": "stdout",
     "output_type": "stream",
     "text": [
      "Epoch: 13, Train loss:  0.140, Val loss:  2.013\n"
     ]
    },
    {
     "name": "stderr",
     "output_type": "stream",
     "text": [
      "Epoch: 14: 100%|██████████| 209/209 [00:02<00:00, 97.71batch/s]\n"
     ]
    },
    {
     "name": "stdout",
     "output_type": "stream",
     "text": [
      "Epoch: 14, Train loss:  0.135, Val loss:  2.201\n"
     ]
    },
    {
     "name": "stderr",
     "output_type": "stream",
     "text": [
      "Epoch: 15: 100%|██████████| 209/209 [00:02<00:00, 97.92batch/s]\n"
     ]
    },
    {
     "name": "stdout",
     "output_type": "stream",
     "text": [
      "Epoch: 15, Train loss:  0.127, Val loss:  2.637\n"
     ]
    },
    {
     "name": "stderr",
     "output_type": "stream",
     "text": [
      "Epoch: 16: 100%|██████████| 209/209 [00:02<00:00, 97.07batch/s]\n"
     ]
    },
    {
     "name": "stdout",
     "output_type": "stream",
     "text": [
      "Epoch: 16, Train loss:  0.123, Val loss:  2.044\n"
     ]
    },
    {
     "name": "stderr",
     "output_type": "stream",
     "text": [
      "Epoch: 17: 100%|██████████| 209/209 [00:02<00:00, 97.54batch/s]\n"
     ]
    },
    {
     "name": "stdout",
     "output_type": "stream",
     "text": [
      "Epoch: 17, Train loss:  0.117, Val loss:  2.507\n"
     ]
    },
    {
     "name": "stderr",
     "output_type": "stream",
     "text": [
      "Epoch: 18: 100%|██████████| 209/209 [00:02<00:00, 97.32batch/s]\n"
     ]
    },
    {
     "name": "stdout",
     "output_type": "stream",
     "text": [
      "Epoch: 18, Train loss:  0.110, Val loss:  1.986\n"
     ]
    },
    {
     "name": "stderr",
     "output_type": "stream",
     "text": [
      "Epoch: 19: 100%|██████████| 209/209 [00:02<00:00, 97.38batch/s]\n"
     ]
    },
    {
     "name": "stdout",
     "output_type": "stream",
     "text": [
      "Epoch: 19, Train loss:  0.108, Val loss:  2.282\n"
     ]
    },
    {
     "name": "stderr",
     "output_type": "stream",
     "text": [
      "Epoch: 20: 100%|██████████| 209/209 [00:02<00:00, 97.28batch/s]\n"
     ]
    },
    {
     "name": "stdout",
     "output_type": "stream",
     "text": [
      "Epoch: 20, Train loss:  0.103, Val loss:  2.301\n"
     ]
    },
    {
     "name": "stderr",
     "output_type": "stream",
     "text": [
      "Epoch: 21: 100%|██████████| 209/209 [00:02<00:00, 97.59batch/s]\n"
     ]
    },
    {
     "name": "stdout",
     "output_type": "stream",
     "text": [
      "Epoch: 21, Train loss:  0.098, Val loss:  1.674\n"
     ]
    },
    {
     "name": "stderr",
     "output_type": "stream",
     "text": [
      "Epoch: 22: 100%|██████████| 209/209 [00:02<00:00, 97.23batch/s]\n"
     ]
    },
    {
     "name": "stdout",
     "output_type": "stream",
     "text": [
      "Epoch: 22, Train loss:  0.099, Val loss:  1.610\n"
     ]
    },
    {
     "name": "stderr",
     "output_type": "stream",
     "text": [
      "Epoch: 23: 100%|██████████| 209/209 [00:02<00:00, 97.36batch/s]\n"
     ]
    },
    {
     "name": "stdout",
     "output_type": "stream",
     "text": [
      "Epoch: 23, Train loss:  0.092, Val loss:  1.942\n"
     ]
    },
    {
     "name": "stderr",
     "output_type": "stream",
     "text": [
      "Epoch: 24: 100%|██████████| 209/209 [00:02<00:00, 96.75batch/s]\n"
     ]
    },
    {
     "name": "stdout",
     "output_type": "stream",
     "text": [
      "Epoch: 24, Train loss:  0.089, Val loss:  2.994\n"
     ]
    },
    {
     "name": "stderr",
     "output_type": "stream",
     "text": [
      "Epoch: 25: 100%|██████████| 209/209 [00:02<00:00, 97.66batch/s]\n"
     ]
    },
    {
     "name": "stdout",
     "output_type": "stream",
     "text": [
      "Epoch: 25, Train loss:  0.089, Val loss:  2.379\n"
     ]
    },
    {
     "name": "stderr",
     "output_type": "stream",
     "text": [
      "Epoch: 26: 100%|██████████| 209/209 [00:02<00:00, 97.98batch/s]\n"
     ]
    },
    {
     "name": "stdout",
     "output_type": "stream",
     "text": [
      "Epoch: 26, Train loss:  0.082, Val loss:  3.721\n"
     ]
    },
    {
     "name": "stderr",
     "output_type": "stream",
     "text": [
      "Epoch: 27: 100%|██████████| 209/209 [00:02<00:00, 97.20batch/s]\n"
     ]
    },
    {
     "name": "stdout",
     "output_type": "stream",
     "text": [
      "Epoch: 27, Train loss:  0.079, Val loss:  2.694\n"
     ]
    },
    {
     "name": "stderr",
     "output_type": "stream",
     "text": [
      "Epoch: 28: 100%|██████████| 209/209 [00:02<00:00, 96.19batch/s]\n"
     ]
    },
    {
     "name": "stdout",
     "output_type": "stream",
     "text": [
      "Epoch: 28, Train loss:  0.079, Val loss:  3.298\n"
     ]
    },
    {
     "name": "stderr",
     "output_type": "stream",
     "text": [
      "Epoch: 29: 100%|██████████| 209/209 [00:02<00:00, 97.54batch/s]\n"
     ]
    },
    {
     "name": "stdout",
     "output_type": "stream",
     "text": [
      "Epoch: 29, Train loss:  0.073, Val loss:  3.173\n"
     ]
    },
    {
     "name": "stderr",
     "output_type": "stream",
     "text": [
      "Epoch: 30: 100%|██████████| 209/209 [00:02<00:00, 97.59batch/s]\n"
     ]
    },
    {
     "name": "stdout",
     "output_type": "stream",
     "text": [
      "Epoch: 30, Train loss:  0.071, Val loss:  3.153\n",
      "Average p_c accuracy: 0.805\n",
      "Average bbox_iou: 0.197\n",
      "Average label_acc: 0.703\n",
      "Combined: 0.568\n",
      "Done training\n",
      "\n",
      "\n",
      "Now testing DeepCNN_bn\n"
     ]
    },
    {
     "name": "stderr",
     "output_type": "stream",
     "text": [
      "Epoch: 1: 100%|██████████| 209/209 [00:03<00:00, 57.67batch/s]\n"
     ]
    },
    {
     "name": "stdout",
     "output_type": "stream",
     "text": [
      "Epoch: 1, Train loss:  0.394, Val loss:  1.719\n"
     ]
    },
    {
     "name": "stderr",
     "output_type": "stream",
     "text": [
      "Epoch: 2: 100%|██████████| 209/209 [00:03<00:00, 57.48batch/s]\n"
     ]
    },
    {
     "name": "stdout",
     "output_type": "stream",
     "text": [
      "Epoch: 2, Train loss:  0.159, Val loss:  1.287\n"
     ]
    },
    {
     "name": "stderr",
     "output_type": "stream",
     "text": [
      "Epoch: 3: 100%|██████████| 209/209 [00:03<00:00, 57.81batch/s]\n"
     ]
    },
    {
     "name": "stdout",
     "output_type": "stream",
     "text": [
      "Epoch: 3, Train loss:  0.124, Val loss:  1.391\n"
     ]
    },
    {
     "name": "stderr",
     "output_type": "stream",
     "text": [
      "Epoch: 4: 100%|██████████| 209/209 [00:03<00:00, 58.24batch/s]\n"
     ]
    },
    {
     "name": "stdout",
     "output_type": "stream",
     "text": [
      "Epoch: 4, Train loss:  0.102, Val loss:  1.667\n"
     ]
    },
    {
     "name": "stderr",
     "output_type": "stream",
     "text": [
      "Epoch: 5: 100%|██████████| 209/209 [00:03<00:00, 58.08batch/s]\n"
     ]
    },
    {
     "name": "stdout",
     "output_type": "stream",
     "text": [
      "Epoch: 5, Train loss:  0.097, Val loss:  1.744\n"
     ]
    },
    {
     "name": "stderr",
     "output_type": "stream",
     "text": [
      "Epoch: 6: 100%|██████████| 209/209 [00:03<00:00, 58.37batch/s]\n"
     ]
    },
    {
     "name": "stdout",
     "output_type": "stream",
     "text": [
      "Epoch: 6, Train loss:  0.084, Val loss:  2.260\n"
     ]
    },
    {
     "name": "stderr",
     "output_type": "stream",
     "text": [
      "Epoch: 7: 100%|██████████| 209/209 [00:03<00:00, 58.24batch/s]\n"
     ]
    },
    {
     "name": "stdout",
     "output_type": "stream",
     "text": [
      "Epoch: 7, Train loss:  0.068, Val loss:  1.659\n"
     ]
    },
    {
     "name": "stderr",
     "output_type": "stream",
     "text": [
      "Epoch: 8: 100%|██████████| 209/209 [00:03<00:00, 58.29batch/s]\n"
     ]
    },
    {
     "name": "stdout",
     "output_type": "stream",
     "text": [
      "Epoch: 8, Train loss:  0.061, Val loss:  1.980\n"
     ]
    },
    {
     "name": "stderr",
     "output_type": "stream",
     "text": [
      "Epoch: 9: 100%|██████████| 209/209 [00:03<00:00, 58.38batch/s]\n"
     ]
    },
    {
     "name": "stdout",
     "output_type": "stream",
     "text": [
      "Epoch: 9, Train loss:  0.058, Val loss:  1.760\n"
     ]
    },
    {
     "name": "stderr",
     "output_type": "stream",
     "text": [
      "Epoch: 10: 100%|██████████| 209/209 [00:03<00:00, 58.00batch/s]\n"
     ]
    },
    {
     "name": "stdout",
     "output_type": "stream",
     "text": [
      "Epoch: 10, Train loss:  0.044, Val loss:  2.364\n"
     ]
    },
    {
     "name": "stderr",
     "output_type": "stream",
     "text": [
      "Epoch: 11: 100%|██████████| 209/209 [00:03<00:00, 58.03batch/s]\n"
     ]
    },
    {
     "name": "stdout",
     "output_type": "stream",
     "text": [
      "Epoch: 11, Train loss:  0.036, Val loss:  1.569\n"
     ]
    },
    {
     "name": "stderr",
     "output_type": "stream",
     "text": [
      "Epoch: 12: 100%|██████████| 209/209 [00:03<00:00, 58.22batch/s]\n"
     ]
    },
    {
     "name": "stdout",
     "output_type": "stream",
     "text": [
      "Epoch: 12, Train loss:  0.027, Val loss:  1.942\n"
     ]
    },
    {
     "name": "stderr",
     "output_type": "stream",
     "text": [
      "Epoch: 13: 100%|██████████| 209/209 [00:03<00:00, 57.97batch/s]\n"
     ]
    },
    {
     "name": "stdout",
     "output_type": "stream",
     "text": [
      "Epoch: 13, Train loss:  0.026, Val loss:  2.475\n"
     ]
    },
    {
     "name": "stderr",
     "output_type": "stream",
     "text": [
      "Epoch: 14: 100%|██████████| 209/209 [00:03<00:00, 58.27batch/s]\n"
     ]
    },
    {
     "name": "stdout",
     "output_type": "stream",
     "text": [
      "Epoch: 14, Train loss:  0.025, Val loss:  2.555\n"
     ]
    },
    {
     "name": "stderr",
     "output_type": "stream",
     "text": [
      "Epoch: 15: 100%|██████████| 209/209 [00:03<00:00, 58.20batch/s]\n"
     ]
    },
    {
     "name": "stdout",
     "output_type": "stream",
     "text": [
      "Epoch: 15, Train loss:  0.021, Val loss:  2.840\n"
     ]
    },
    {
     "name": "stderr",
     "output_type": "stream",
     "text": [
      "Epoch: 16: 100%|██████████| 209/209 [00:03<00:00, 58.07batch/s]\n"
     ]
    },
    {
     "name": "stdout",
     "output_type": "stream",
     "text": [
      "Epoch: 16, Train loss:  0.017, Val loss:  4.208\n"
     ]
    },
    {
     "name": "stderr",
     "output_type": "stream",
     "text": [
      "Epoch: 17: 100%|██████████| 209/209 [00:03<00:00, 56.64batch/s]\n"
     ]
    },
    {
     "name": "stdout",
     "output_type": "stream",
     "text": [
      "Epoch: 17, Train loss:  0.022, Val loss:  3.001\n"
     ]
    },
    {
     "name": "stderr",
     "output_type": "stream",
     "text": [
      "Epoch: 18: 100%|██████████| 209/209 [00:03<00:00, 55.28batch/s]\n"
     ]
    },
    {
     "name": "stdout",
     "output_type": "stream",
     "text": [
      "Epoch: 18, Train loss:  0.012, Val loss:  2.743\n"
     ]
    },
    {
     "name": "stderr",
     "output_type": "stream",
     "text": [
      "Epoch: 19: 100%|██████████| 209/209 [00:03<00:00, 56.32batch/s]\n"
     ]
    },
    {
     "name": "stdout",
     "output_type": "stream",
     "text": [
      "Epoch: 19, Train loss:  0.006, Val loss:  2.403\n"
     ]
    },
    {
     "name": "stderr",
     "output_type": "stream",
     "text": [
      "Epoch: 20: 100%|██████████| 209/209 [00:03<00:00, 56.52batch/s]\n"
     ]
    },
    {
     "name": "stdout",
     "output_type": "stream",
     "text": [
      "Epoch: 20, Train loss:  0.003, Val loss:  2.561\n"
     ]
    },
    {
     "name": "stderr",
     "output_type": "stream",
     "text": [
      "Epoch: 21: 100%|██████████| 209/209 [00:03<00:00, 56.10batch/s]\n"
     ]
    },
    {
     "name": "stdout",
     "output_type": "stream",
     "text": [
      "Epoch: 21, Train loss:  0.002, Val loss:  2.575\n"
     ]
    },
    {
     "name": "stderr",
     "output_type": "stream",
     "text": [
      "Epoch: 22: 100%|██████████| 209/209 [00:03<00:00, 57.03batch/s]\n"
     ]
    },
    {
     "name": "stdout",
     "output_type": "stream",
     "text": [
      "Epoch: 22, Train loss:  0.002, Val loss:  2.581\n"
     ]
    },
    {
     "name": "stderr",
     "output_type": "stream",
     "text": [
      "Epoch: 23: 100%|██████████| 209/209 [00:03<00:00, 56.43batch/s]\n"
     ]
    },
    {
     "name": "stdout",
     "output_type": "stream",
     "text": [
      "Epoch: 23, Train loss:  0.002, Val loss:  2.639\n"
     ]
    },
    {
     "name": "stderr",
     "output_type": "stream",
     "text": [
      "Epoch: 24: 100%|██████████| 209/209 [00:03<00:00, 55.00batch/s]\n"
     ]
    },
    {
     "name": "stdout",
     "output_type": "stream",
     "text": [
      "Epoch: 24, Train loss:  0.002, Val loss:  2.643\n"
     ]
    },
    {
     "name": "stderr",
     "output_type": "stream",
     "text": [
      "Epoch: 25: 100%|██████████| 209/209 [00:03<00:00, 57.58batch/s]\n"
     ]
    },
    {
     "name": "stdout",
     "output_type": "stream",
     "text": [
      "Epoch: 25, Train loss:  0.002, Val loss:  2.735\n"
     ]
    },
    {
     "name": "stderr",
     "output_type": "stream",
     "text": [
      "Epoch: 26: 100%|██████████| 209/209 [00:03<00:00, 56.40batch/s]\n"
     ]
    },
    {
     "name": "stdout",
     "output_type": "stream",
     "text": [
      "Epoch: 26, Train loss:  0.002, Val loss:  2.717\n"
     ]
    },
    {
     "name": "stderr",
     "output_type": "stream",
     "text": [
      "Epoch: 27: 100%|██████████| 209/209 [00:03<00:00, 56.94batch/s]\n"
     ]
    },
    {
     "name": "stdout",
     "output_type": "stream",
     "text": [
      "Epoch: 27, Train loss:  0.002, Val loss:  2.896\n"
     ]
    },
    {
     "name": "stderr",
     "output_type": "stream",
     "text": [
      "Epoch: 28: 100%|██████████| 209/209 [00:03<00:00, 56.28batch/s]\n"
     ]
    },
    {
     "name": "stdout",
     "output_type": "stream",
     "text": [
      "Epoch: 28, Train loss:  0.001, Val loss:  2.908\n"
     ]
    },
    {
     "name": "stderr",
     "output_type": "stream",
     "text": [
      "Epoch: 29: 100%|██████████| 209/209 [00:03<00:00, 56.38batch/s]\n"
     ]
    },
    {
     "name": "stdout",
     "output_type": "stream",
     "text": [
      "Epoch: 29, Train loss:  0.001, Val loss:  2.850\n"
     ]
    },
    {
     "name": "stderr",
     "output_type": "stream",
     "text": [
      "Epoch: 30: 100%|██████████| 209/209 [00:03<00:00, 56.43batch/s]\n"
     ]
    },
    {
     "name": "stdout",
     "output_type": "stream",
     "text": [
      "Epoch: 30, Train loss:  0.001, Val loss:  2.943\n",
      "Average p_c accuracy: 0.429\n",
      "Average bbox_iou: 0.046\n",
      "Average label_acc: 0.570\n",
      "Combined: 0.348\n",
      "Done training\n",
      "\n"
     ]
    }
   ],
   "source": [
    "results = run_all_models(models, lossfns)"
   ]
  },
  {
   "cell_type": "code",
   "execution_count": 66,
   "id": "c285d511",
   "metadata": {},
   "outputs": [],
   "source": [
    "def plot_ax(ax, plots:list, plot_titles:list, title):\n",
    "    for i in range(len(plots)):\n",
    "        ax.plot(plots[i], label= plot_titles[i])\n",
    "        ax.legend()\n",
    "    ax.set_title(title)"
   ]
  },
  {
   "cell_type": "code",
   "execution_count": 67,
   "id": "11099838",
   "metadata": {},
   "outputs": [
    {
     "data": {
      "image/png": "[encoded data removed]",
      "text/plain": [
       "<Figure size 1000x1800 with 5 Axes>"
      ]
     },
     "metadata": {},
     "output_type": "display_data"
    }
   ],
   "source": [
    "model_names = [type(model).__name__ for model in models]\n",
    "\n",
    "fig, ax = plt.subplots(len(model_names), 1, sharex=True, figsize=(10,18))\n",
    "\n",
    "for i, ax in enumerate(ax.flatten()):\n",
    "    plot_ax(ax, results[0][model_names[i]], ['Train', 'Val'], title=f'{model_names[i]} loss')\n",
    "\n"
   ]
  },
  {
   "cell_type": "code",
   "execution_count": 68,
   "id": "a5583833",
   "metadata": {},
   "outputs": [
    {
     "name": "stdout",
     "output_type": "stream",
     "text": [
      "Average p_c accuracy: 1.000\n",
      "Average bbox_iou: 1.000\n",
      "Average label_acc: 1.000\n",
      "Combined: 1.000\n"
     ]
    }
   ],
   "source": [
    "#Quick sanity check. It should be 1 for all metrices. \n",
    "with torch.no_grad():\n",
    "    final_acc_iou(val_labels_p, val_labels_p)"
   ]
  },
  {
   "cell_type": "code",
   "execution_count": 69,
   "id": "93fd0874",
   "metadata": {},
   "outputs": [],
   "source": [
    "model_dict = {}\n",
    "for i, model_name in enumerate(model_names):\n",
    "    model_dict[model_name] = models[i]"
   ]
  },
  {
   "cell_type": "code",
   "execution_count": 70,
   "id": "812566cc",
   "metadata": {},
   "outputs": [],
   "source": [
    "#Finding best model\n",
    "best_model_name, score = max(results[1].items(), key= lambda x: x[1])"
   ]
  },
  {
   "cell_type": "code",
   "execution_count": 71,
   "id": "21543098",
   "metadata": {},
   "outputs": [],
   "source": [
    "best_model = model_dict[best_model_name]"
   ]
  },
  {
   "cell_type": "code",
   "execution_count": 74,
   "id": "ef6ab47a",
   "metadata": {},
   "outputs": [
    {
     "name": "stdout",
     "output_type": "stream",
     "text": [
      "The best model is: DeepCNN \n",
      "Now lets see the performance\n",
      "\n",
      "Training performance\n",
      "Average p_c accuracy: 0.999\n",
      "Average bbox_iou: 0.664\n",
      "Average label_acc: 1.000\n",
      "Combined: 0.888\n",
      "\n",
      "Validation performance\n",
      "Average p_c accuracy: 0.986\n",
      "Average bbox_iou: 0.643\n",
      "Average label_acc: 0.979\n",
      "Combined: 0.869\n",
      "\n",
      "Test performance\n",
      "Average p_c accuracy: 0.985\n",
      "Average bbox_iou: 0.641\n",
      "Average label_acc: 0.980\n",
      "Combined: 0.869\n"
     ]
    }
   ],
   "source": [
    "test_loader = DataLoader(test_dataset, batch_size=128)\n",
    "\n",
    "print('The best model is:', best_model_name, '\\nNow lets see the performance')\n",
    "\n",
    "print('\\nTraining performance')\n",
    "performance_loader(best_model, train_loader)\n",
    "\n",
    "print('\\nValidation performance')\n",
    "performance_loader(best_model, val_loader)\n",
    "\n",
    "print('\\nTest performance')\n",
    "test_results = performance_loader(best_model, test_loader)"
   ]
  },
  {
   "cell_type": "code",
   "execution_count": 75,
   "id": "c637018a",
   "metadata": {},
   "outputs": [],
   "source": [
    "test_results_global = convert_to_global(test_results[1])"
   ]
  },
  {
   "cell_type": "code",
   "execution_count": 76,
   "id": "966e6a47",
   "metadata": {},
   "outputs": [
    {
     "data": {
      "image/png": "[encoded data removed]",
      "text/plain": [
       "<Figure size 1500x500 with 10 Axes>"
      ]
     },
     "metadata": {},
     "output_type": "display_data"
    }
   ],
   "source": [
    "#Number of images\n",
    "n=10\n",
    "\n",
    "#Creating subplots\n",
    "fig, ax = plt.subplots(int(n/5), 5, sharex=True, figsize=(15,5))\n",
    "\n",
    "#For every subplot, plot the image with relevant information\n",
    "for i, ax in enumerate(ax.flatten()):\n",
    "    ax.imshow(draw_bounding(test_data, test_labels_g, i, local=False, predictions=test_results_global, show_img=False))\n",
    "    \n",
    "    #Convert the list to a tensor, so it is easier to index\n",
    "    pred_result = torch.stack(test_results_global[i]).clone()\n",
    "    true_result = torch.stack(test_labels_g[i]).clone()\n",
    "\n",
    "    pred_result[pred_result[:,0] < 0.5] = -1.\n",
    "\n",
    "    #Set the title to relevant information\n",
    "    ax.set_title(f'True: {true_result[:,5].tolist()} | Pred: {pred_result[:,5].tolist()} , pc: {pred_result[:,0].tolist()}', fontsize=7)\n",
    "    \n",
    "    ax.axis('off')"
   ]
  },
  {
   "cell_type": "code",
   "execution_count": null,
   "id": "b484d465",
   "metadata": {},
   "outputs": [],
   "source": [
    "#The results are pretty good. Not perfect bounding boxes, but around the same place and size."
   ]
  }
 ],
 "metadata": {
  "accelerator": "GPU",
  "colab": {
   "gpuType": "T4",
   "provenance": []
  },
  "kernelspec": {
   "display_name": "Python 3 (ipykernel)",
   "language": "python",
   "name": "python3"
  },
  "language_info": {
   "codemirror_mode": {
    "name": "ipython",
    "version": 3
   },
   "file_extension": ".py",
   "mimetype": "text/x-python",
   "name": "python",
   "nbconvert_exporter": "python",
   "pygments_lexer": "ipython3",
   "version": "3.10.13"
  }
 },
 "nbformat": 4,
 "nbformat_minor": 5
}
